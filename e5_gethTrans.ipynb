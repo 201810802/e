{
 "cells": [
  {
   "cell_type": "markdown",
   "metadata": {
    "slideshow": {
     "slide_type": "slide"
    }
   },
   "source": [
    "# 5. Geth 거래\n",
    "\n",
    "Last Updated 20200406MON1000 20190410WEB1530 20180717TUE1700 201801231MON1800 20160207\n",
    "\n",
    "\n",
    "## 학습내용\n",
    "\n",
    "### 목표\n",
    "\n",
    "- 트랜잭션, ABI, 블록체인, 마이닝, gas 학습"
   ]
  },
  {
   "cell_type": "markdown",
   "metadata": {
    "collapsed": true,
    "slideshow": {
     "slide_type": "subslide"
    }
   },
   "source": [
    "### 목차\n",
    "\n",
    "* 5.1 [메시지](#5.1)\n",
    "* 5.1.1 call\n",
    "* 5.1.2 sendTransaction\n",
    "* 5.2 ABI 명세\n",
    "* 5.3 트랜잭션 구성\n",
    "* 5.3.1 비트코인의 트랜잭션\n",
    "* 5.3.2 트랜잭션\n",
    "* 5.4 트랜잭션 처리 단계\n",
    "* 5.5 블록체인\n",
    "* 5.6 마이닝\n",
    "* 5.7 gas\n",
    "\n",
    "\n",
    "### 문제\n",
    "\n",
    "* 문제 5-1: [다른 계정으로 송금 거래](#5-1)\n"
   ]
  },
  {
   "cell_type": "markdown",
   "metadata": {
    "slideshow": {
     "slide_type": "slide"
    }
   },
   "source": [
    "## 5.1 메시지\n",
    "<a id='5.1'></a>\n",
    "\n",
    "이더리움에서의 메시지는 **계정 간**, 예를 들면 **자신의 계정에서 다른 사람의 계정 또는 컨트랙 계정**으로 \n",
    "전달되는 **데이터**와 **value**를 말한다."
   ]
  },
  {
   "cell_type": "markdown",
   "metadata": {
    "slideshow": {
     "slide_type": "subslide"
    }
   },
   "source": [
    "메시지, Message는 우리가 자주 사용하는 핸드폰의 **송금, 입금과 같은 페이 기능**,\n",
    "금액을 정하고 상대 번호를 지정하고 전송하는 서비스와 비슷하다.\n",
    "핸드폰에서의 송금 기능이 이더리움과 비교해서 어떻게 다른지 그 메시지를 서로 비교해 보자.\n",
    "\n",
    "구성 | 핸드폰 | 이더리움 메시지 | 비교\n",
    "-----|-----|-----|-----\n",
    "데이터 | 수신측에서 읽을 수 있는 글 | **바이트코드** | 핸드폰 문자는 사람이 읽을 수 있는 텍스트이고 이더리움 메시지는 EVM에서 처리할 수 있는 바이트코드로 작성한 메시지 또는 컨트랙 호출.\n",
    "value | 송금 | 입금, 송금 등 금액 | 휴대폰 번호로 송금을 해도 '금액'이 실물가치가 있어야 한다. 물론 이더리움에서도 실물가치가 있는 'value' 금액으로 전송해야 한다.\n",
    "송신 | 전화번호 (또는 계좌번호) | 내, 외부계정 | 휴대폰 번호로 송금을 해도 은행통장과 같은 기능이 있어야 한다. 반면 이더리움에서는 입금 또는 송금 은행통장 없이 가능하다.\n",
    "수신 | 전화번호  (또는 계좌번호) | 내, 외부계정 | 상동\n"
   ]
  },
  {
   "cell_type": "markdown",
   "metadata": {
    "slideshow": {
     "slide_type": "subslide"
    }
   },
   "source": [
    "메시지는 계정의 사인이 필요한지에 따라 1) 메시지 call과 2) 트랜잭션으로 구분한다.\n",
    "**메시지 call은 사인을 하지 않고**, **트랜잭션은 사인**을 해야 한다.\n",
    "다시 말하면, 트랜잭션은 전송자에 의해 사인이 된 메시지를 말한다.\n",
    "\n",
    "함수 | 설명 | 블록체인에 기록\n",
    "-----|-----|-----\n",
    "call | 로컬에서 실행, 블록체인에 전송되지 않는다. 따라서 블록체을 변경하지 않고, 읽기만 하는 경우, 비용이 발생하지 않음 | NO\n",
    "sendTransaction | 외부계정에 의해 발생하고, 사인해서 블록체인에 전송된다. 블록체인을 변경할 경우 사용 | YES 반환값은 hash.\n",
    "\n",
    "또한 메시지를 보내는 측, **외부계정에서 발생하는지 또는 내부계정에서 발생하는지에 따라 메시지를 구분**할 수 있다.\n",
    "외부계정, 예를 들어 갑돌이 계정에서 **contract**으로 보낼 수 있다. 이 경우 받는 주소가 블록체인 상의 contract이므로 해당 소스코드가 실행된다. 또는 내부계정에서 **상대방 계정**, 예를 들어 갑순이 계정으로 직접 전송할 수도 있다.\n"
   ]
  },
  {
   "cell_type": "markdown",
   "metadata": {
    "slideshow": {
     "slide_type": "subslide"
    }
   },
   "source": [
    "### 5.1.1 call\n",
    "call() 함수는 로컬 블록체인에서의 호출이라 블록체인에 전송되거나 기록되지 않는다.\n",
    "따라서 **사인이 필요없고**, gas가 발생하지 않는다.\n",
    "따라서 네트워크 참여자가 그 함수가 호출되었는지 알지 못한다.\n",
    "call() 함수는 실행되고 나서 그 반환 값을 가질 수 있다.\n",
    "web3.js API는 **web3.eth.call**이다.\n",
    "\n",
    "내부 계정, 즉 contract은 다른 contract이나 계정으로 메시지 call을 할 수 있다.\n",
    "그 예는:\n",
    "\n",
    "```python\n",
    "call.gas(0).value(number)()\n",
    "```\n",
    "\n",
    "> Solidity Documentation의 메시지 호출 설명\n",
    "\n",
    "> 컨트랙은 다른 **컨트랙**을 호출하거나, **컨트랙이 아닌 다른 계정**으로 메시지 호출이라는 수단을 통해 Ether를 전송할 수 있다.\n",
    "메시지 호출은 트랜잭션과 비슷한데, 그 이유로는 송신, 수신, 데이터, Ether, gas, 반환 값을 가진다는 점이다."
   ]
  },
  {
   "cell_type": "markdown",
   "metadata": {
    "slideshow": {
     "slide_type": "subslide"
    }
   },
   "source": [
    "### 5.1.2 sendTransaction\n",
    "\n",
    "sendTransaction() 함수는 블록체인에 전송되고 기록된다.\n",
    "**사인**을 해야 하고, gas가 필요하다.\n",
    "트랜잭션은 **반환 값이 없고, 그 결과 값은 해시 값**이다.\n",
    "프로그래밍을 할 때 반환 값은 함수가 올바르게 실행이 되었는지를 테스트할 때 유용하게 사용되는데, 블록체인에서는 이러한 반환값이 없다는 것은 매우 불펴한게 느껴진다. **반환 값을 알려면 event를 발생**시켜서 로그에 적어주고, 나중에 그 로그를 확인해야 한다.\n",
    "해시 값이 주어지면, 트랙잭션은 마이닝이 되어야 하고 반환 값은 없다.\n",
    "web3.js API는 **web3.eth.sendTransaction**이다.\n",
    "\n",
    "```python\n",
    "coin.send(web3.eth.accounts[0], 100,{from:web3.eth.accounts[0],gas:100000});\n",
    "coin.send.sendTransaction(web3.eth.accounts[0], 100,{from:web3.eth.accounts[0],gas:100000});\n",
    "```\n",
    "\n",
    "> Solidity Documentation의 트랜잭션 설명\n",
    "\n",
    "> 트랜잭션이 메시지인지 구분이 모호할 수 있다. 공식 문서를 참고하면 도움이 되겠다.\n",
    "> 트랜잭션은 한 계정에서 다른 계정으로 전송되는 메시지이다. 바이너리 데이터와 Ether를 포함할 수 있다.\n",
    "원문을 읽어보면 \"A transaction is a message that is sent from one account to another account. It can include binary data (which is called \"payload\") and Ether\"\n"
   ]
  },
  {
   "cell_type": "markdown",
   "metadata": {
    "slideshow": {
     "slide_type": "slide"
    }
   },
   "source": [
    "## 5.2 ABI 명세\n",
    "\n",
    "Application Binary Interface (ABI)는 컨트랙을 호출하기 위해 사용하는 방식이다.\n",
    "블록체인 외부에서나 또는 블록체인 내부에서 **컨트랙 서로 호출할 때, 함수 및 인자를 ABI 표준에 따라 부호화**해서 호출하게 된다.\n",
    "이 표준은 곧 살펴보겠지만, 사람 눈으로 그 부호화되는 과정을 이해하기는 어렵다. 그러나 걱정하지는 말자. 이더리움 내부에서 알아서 하므로 개발자가 직접 이 방식으로 하지 않아도 된다."
   ]
  },
  {
   "cell_type": "markdown",
   "metadata": {
    "slideshow": {
     "slide_type": "subslide"
    }
   },
   "source": [
    "예를 들어, Foo의 baz()함수를 호출한다고 하자.\n",
    "우선 함수와 인자를 각 각 인코딩하고 조합해서 16진수 데이터로 만들어 호출하게 된다.\n",
    "출처: https://solidity.readthedocs.io/en/develop/abi-spec.html\n",
    "```python\n",
    "contract Foo {\n",
    "  function bar(fixed[2] xy) {}\n",
    "  function baz(uint32 x, bool y) returns (bool r) { r = x > 32 || y; }\n",
    "  function sam(bytes name, bool z, uint[] data) {}\n",
    "}\n",
    "```"
   ]
  },
  {
   "cell_type": "markdown",
   "metadata": {
    "slideshow": {
     "slide_type": "subslide"
    }
   },
   "source": [
    "1) **함수명 부호화**\n",
    "\n",
    "호출할 **함수시그니처** (함수명과 인자, 이때 인자는 **컴마로 분리하고 공백 없이** 적는다)의 **sha3 해시값**으로 만들고, **앞 4 바이트**를 선택한다. 이를 **function selector**라고 한다.\n",
    "함수 시그니처 ```baz(uint32,bool)```의 Keccak hash ASCII 앞 4바이트를 선택한다.\n",
    "\n",
    "```python\n",
    "<address>.call(bytes4(bytes32(sha3(\"baz(uint32,bool)\")))\n",
    "```\n",
    "\n",
    "```python\n",
    "> web3.sha3('baz(uint32,bool)').substring(0,10);\n",
    "\"0xcdcd77c0\"\n",
    "```"
   ]
  },
  {
   "cell_type": "markdown",
   "metadata": {
    "slideshow": {
     "slide_type": "subslide"
    }
   },
   "source": [
    "2) **인자 값을 부호화**\n",
    "\n",
    "**32 바이트**로 만들기 위해 **앞에 0으로 채운다**.\n",
    "인자가 69일 경우, 앞은 0으로 채워서 32바이트로 만든다.\n",
    "```python\n",
    "> web3.toHex(69)\n",
    "\"0x45\"\n",
    "0x0000000000000000000000000000000000000000000000000000000000000045 - 인자 uint32 69 (32바이트)\n",
    "0x0000000000000000000000000000000000000000000000000000000000000001 - 인자 bool 1  (32바이트)\n",
    "```"
   ]
  },
  {
   "cell_type": "markdown",
   "metadata": {
    "slideshow": {
     "slide_type": "subslide"
    }
   },
   "source": [
    "3) **데이터 조합**\n",
    "\n",
    "위 1) function selector부호값과 2) 인자부호값를 합친다. 0x를 제거한다.\n",
    "아래에서 볼 때 몇 줄로 나누어져 있지만 그것은 공간상의 제약때문에 그러하고, 한 줄로 쭉 연결이 된 문자열이된다.\n",
    "\n",
    "```python\n",
    "0xcdcd77c00000000000000000000000000000000000000000000000000000000000000045\n",
    "0000000000000000000000000000000000000000000000000000000000000001\n",
    "```"
   ]
  },
  {
   "cell_type": "markdown",
   "metadata": {
    "collapsed": true,
    "slideshow": {
     "slide_type": "subslide"
    }
   },
   "source": [
    "4) **함수 호출**\n",
    "\n",
    "함수를 호출할 때 ```data``` 항목에 위와 같이 생성된 ABI 부호를 적는다.\n",
    "\n",
    "```python\n",
    "web3.eth.sendTransaction({\n",
    "    from: eth.accounts[0],\n",
    "    to: \"0x672807a8c0f72a52d759942e86cfe33264e73934\",\n",
    "    data: \"0xcdcd77c000000000000000000000000000000000000000000000000000000000000000450000000000000000000000000000000000000000000000000000000000000001\",\n",
    "    gas: 400000}\n",
    ")\n",
    "```"
   ]
  },
  {
   "cell_type": "markdown",
   "metadata": {
    "slideshow": {
     "slide_type": "slide"
    }
   },
   "source": [
    "## 5.3 트랜잭션 구성\n",
    "\n",
    "### 5.3.1 비트코인의 트랜잭션\n",
    "\n",
    "비트코인의 거래는 버전, locktime 타임스탬프, 입금, 출금으로 구성한다.\n",
    "입금, 출금이 하나가 아니고 여러 개인 점에 주의한다.\n",
    "잔액이 흩어져 있어서 입금이 여럿이다.\n",
    "출금 또한 수신자가 1명이라도, 그 잔액이 자신에게 돌려지므로 **최소 2개**가 된다.\n",
    "\n",
    "길이 | 항목 | 설명\n",
    "-----|-----|-----\n",
    "4 bytes | Version | 버전정보\n",
    "1-9 bytes | Input counter | in 개수\n",
    "variable | in | array로서 이전 거래의 out에서 가져와 본 거래의 out으로 지급된다.사용하게 되는 잔액을 가지고 있는 transactionHash, script를 가진다.\n",
    "1-9 bytes | output counter | out 개수\n",
    "variable | out | array로서 in보다 같거나, 적어야 한다 (적으면 처리비용으로). UTXO OpCodes: Scripts - 6...4사용하고 남는 잔액들 unspent transaction output UTXO. script, value를 가진다.\n",
    "4 bytes | locktime | unix timestamp 또는 블록번호"
   ]
  },
  {
   "cell_type": "code",
   "execution_count": 2,
   "metadata": {
    "collapsed": false,
    "slideshow": {
     "slide_type": "subslide"
    }
   },
   "outputs": [
    {
     "name": "stdout",
     "output_type": "stream",
     "text": [
      "{'ins': [{'outpoint': {'hash': '5a4a44f45cb5653a770660833e747d0449dc91e5b02e815375702856bebe9c34',\n",
      "                       'index': 3},\n",
      "          'script': '47304402203f02d209168bb9c4e8fab3b2f2aca19be1f9032eaa85be3a029641eecf69e60d022055d7e22914bb4741ee8c1ab73e23766de034a82dae22dad0c13684d6cb098b9e012102c3a7056ad278bf04f2e5546e29466d8175ec4a052ad8f9901b32d53e442545a8',\n",
      "          'sequence': 4294967295},\n",
      "         {'outpoint': {'hash': '386218d00f9617b55883499e96165c4e035cb7dcde4db6b7713995e18ae19008',\n",
      "                       'index': 1},\n",
      "          'script': '4830450221009511497e136765037a75f75a126168502bfee73a7c286ea775968a7140368ef002200cfc776ade17b9444bb7ad13e71852974befd1d6fcfa196df677cd72a697c63b012102b8963213667c71471d62361fe27aad7ab2b8b102a6d93f7367634466e04b5422',\n",
      "          'sequence': 4294967295}],\n",
      " 'locktime': 0,\n",
      " 'outs': [{'script': 'a914ed91639c578b4c1f526525e6dcbc9fbc505fe76987',\n",
      "           'value': 47220000},\n",
      "          {'script': '76a9145f9a3e6e8029dd934a2a00a17aa8254c0975219988ac',\n",
      "           'value': 900433}],\n",
      " 'version': 1}\n"
     ]
    }
   ],
   "source": [
    "import bitcoin, pprint\n",
    "tx='0100000002349cbebe5628707553812eb0e591dc49047d743e836006773a65b55cf4444a5a030000006a47304402203f02d209168bb9c4e8fab3b2f2aca19be1f9032eaa85be3a029641eecf69e60d022055d7e22914bb4741ee8c1ab73e23766de034a82dae22dad0c13684d6cb098b9e012102c3a7056ad278bf04f2e5546e29466d8175ec4a052ad8f9901b32d53e442545a8ffffffff0890e18ae1953971b7b64ddedcb75c034e5c16969e498358b517960fd0186238010000006b4830450221009511497e136765037a75f75a126168502bfee73a7c286ea775968a7140368ef002200cfc776ade17b9444bb7ad13e71852974befd1d6fcfa196df677cd72a697c63b012102b8963213667c71471d62361fe27aad7ab2b8b102a6d93f7367634466e04b5422ffffffff022085d0020000000017a914ed91639c578b4c1f526525e6dcbc9fbc505fe7698751bd0d00000000001976a9145f9a3e6e8029dd934a2a00a17aa8254c0975219988ac00000000'\n",
    "tx_structure = bitcoin.deserialize(tx)\n",
    "pprint.pprint(tx_structure)"
   ]
  },
  {
   "cell_type": "markdown",
   "metadata": {
    "slideshow": {
     "slide_type": "subslide"
    }
   },
   "source": [
    "### 5.3.2 트랜잭션\n",
    "\n",
    "#### 거래 속성\n",
    "\n",
    "거래는 필요한 속성이 채워져야 한다.\n",
    "https://ethereum.stackexchange.com/questions/30175/what-is-the-size-bytes-of-a-simple-ethereum-transaction-versus-a-bitcoin-trans?rq=1\n",
    "\n",
    "\n",
    "속성 | 바이트 | 설명\n",
    "----|-----|-----\n",
    "from | 20 바이트 | 전송 주소. 명시하지 않으면 web3.eth.defaultAccount\n",
    "to | 20 바이트 | (optional) 수신 주소. 컨트랙 생성하는 경우는 당연히 명시하지 않아도 된다.\n",
    "value | 32 바이트 | (optional) 전송 Wei 금액\n",
    "gasLimit | 32 바이트 | (optional, default: To-Be-Determined) 거래처리에 허용되는 최대 개스량\n",
    "gasPrice | 32 바이트 | (optional, default: To-Be-Determined) 거래 처리에 필요한 개스량 (Wei)\n",
    "data | 제한 없슴 | (optional)  메시지 데이터 (바이트)\n",
    "nonce | 32 바이트 | (optional) 계정에서 발생한 거래 순서 번호. 동일한 번호가 있으면 하나는 처리 거절, 또는 순서대로 처리 (즉 뒷 순서가 먼저 처리되고 앞 번호를 취소하는 이중거래 편법을 막음)\n",
    "V | 1 | ECDSA 사인 관련\n",
    "R | 32 바이트 | (r, s) is the normal output of an ECDSA signature, where r is computed as the X coordinate of a point R, modulo the curve order n.\n",
    "S | 32 바이트 | "
   ]
  },
  {
   "cell_type": "markdown",
   "metadata": {
    "slideshow": {
     "slide_type": "subslide"
    }
   },
   "source": [
    "예를 들면:\n",
    "\n",
    "```python\n",
    "transactionObject = {\n",
    "  from: \"0xA0A0A0A01\",\n",
    "  to: \"0xA0A0A0A02\",\n",
    "  value: web3.eth.getBalance(\"0xA0A0A0A01\"),\n",
    "  gas: \"----\",\n",
    "  gasPrice: \"----\",\n",
    "  data: \"----\",\n",
    "  nonce: 0,\n",
    "}\n",
    "```"
   ]
  },
  {
   "cell_type": "markdown",
   "metadata": {
    "collapsed": false
   },
   "source": [
    "from eth_keys import keys\n",
    "(v, r, s) = keys.Signature(signature_bytes=signature).vrs"
   ]
  },
  {
   "cell_type": "markdown",
   "metadata": {
    "slideshow": {
     "slide_type": "subslide"
    }
   },
   "source": [
    "#### Opcodes\n",
    "\n",
    "https://ethervm.io/\n",
    "컴퓨터로 하여금 실행할 수 있는 기계어와 같은 수준의 명령코드 **Op**eration **Codes**를 말한다.\n",
    "비트코인에서는 stack based 스택기반의 언어, 머신코드 명령어 Opcodes를 스택에 push, pull로 실행한다.\n",
    "* ```2 3 OP_ADD 5 OP_EQUAL``` 2+3==5\n",
    "* ```2 3 OP_ADD 2 OP_MUL 1 OP_ADD 11 OP_EQUAL``` ((2+3)*2)+1==1\n",
    "* 기본적인 2개의 스크립트\n",
    "    * scriptPubKey: locking script, pubKey로 잠그는 명령문\n",
    "    DUP HASH160 <PubHash> EQAULVERIFY CHECKSIG\n",
    "    * scriptSig: unlocking script, pubKey를 푸는 sig로 해제하는 명령문. \n",
    "    <sig> <PubK>\n",
    "* P2PKH Pay-to-Public-Key-Hash script\n",
    "    * scriptSig, scriptPubKey를 합쳐서 실행\n",
    "* Pay-to-Public-Key\n",
    "     <Signature from Private Key A> <Public Key A> OP_CHECKSIG"
   ]
  },
  {
   "cell_type": "markdown",
   "metadata": {
    "slideshow": {
     "slide_type": "slide"
    }
   },
   "source": [
    "## 5.4 트랜잭션의 처리 단계\n",
    "\n",
    "갑이 을에게 송금 거래를 한다고 하자.\n",
    "갑은 거래에 디지털서명을 하고\n",
    "그 거래는 참여 노드들에게 전파된다.\n",
    "거래의 디지털서명을 인증하여 원본이 맞는지, 전송자가 맞는지 확인한다.\n",
    "거래를 블록으로 만들어 가고, 만들면 모든 네트워크참여자에게 공지한다.\n",
    "블록이 체인에 연결, 노드들이 블록해시를 다음 블록에 참조하면서 연결이되고 이를 받아들인 것으로 합의한다."
   ]
  },
  {
   "cell_type": "markdown",
   "metadata": {
    "slideshow": {
     "slide_type": "subslide"
    }
   },
   "source": [
    "순서 | 단계 | 설명\n",
    "-----|-----|-----\n",
    "1 | 거래 생성 | 거래에 **디지털 서명을**하고, 전송하기 위해 바이트 단위로 변환, **직렬화 serialize**한다.\n",
    "2 | 거래 전송 | p2p 네트워크로 전송, 노드들 간에 서로 전파 (broadcast)\n",
    "3 | 블럭 생성 | 인증된 거래가 블럭으로 만들어짐. 아직 인증되기 전이므로 candidate block\n",
    "3-1 | 인증 | sender의 public key로 소유주 서명 맞는지? (전송과정 위조가 없다), 블록 nonce 인증 well-formed\n",
    "3-2 | 대기 | pendingTransaction에 넣음. 모아서 블록이 될 때까지. 로컬메모리에 transaction pool, orphan pool\n",
    "3-3 | 블록 후보 | 로컬에서 만들어진 블록 후보를 네트워크로 공지. candidate block를 pending block<p>마이너는 자신들이 거래를 수집하여 블록으로 만들기 때문에 서로 같지 않을 수 있다.<p>거래가 도착 순서대로 묶어지는 것이 아니라, 부모hash가 없는 orphan transactions이 있을 수 있다.<p>우선순위가 높은 (잔고UTXO의 age, 금액이 클수록 높음) 거래부터 시작해서 블록으로 만들어짐. Priority = Sum (Value of input * Input Age) / Transaction Size.<p>포함이 안된 거래는 기다려서 다음 블록에 추가.\n",
    "4 | 블록인증 | 마이닝을 해서 블록을 인증\n",
    "4-1 | 마이닝 | Proof of Work hash puzzle을 풀어 nonce를 정함.\n",
    "4-2 | 블록인증 |  블록을 인증. 블록이 인증되면 다른 마이너 종료. 블록을 앞 블록에 전의 블록 hash를 찾음 체이닝. 2016개마다 문제의 난이도를 조정한다.\n",
    "4-3 | 보상 | 2종류의 보상: 1) 새롭게 생성된 코인을 획득 (2015년 25비트코인 생성), 2) 거래비용\n",
    "5 | 새로운 블록 전파 | 새로운 블럭이 공지되면 다른 마이닝은 종료. 거래기록은 중앙 서버가 가지고 있는 것이 아니라, 분산 네트워크에 실시간 공유된다. 공유되고 나면 수정할 수 없다. 로컬 블럭체인 동기화, 마이닝하지 않은 경우 동기화가 뒤떨어질 수 있다."
   ]
  },
  {
   "cell_type": "markdown",
   "metadata": {
    "slideshow": {
     "slide_type": "slide"
    }
   },
   "source": [
    "## 5.5 블록체인\n",
    "\n",
    "### 블록헤더\n",
    "\n",
    "블록체인은 블록의 연결로 헤더와 바디로 구분된다. 블록헤더는:\n",
    "1) 프로토콜 버전(Version), 2) 이전 블록 해시 값 (Previous Block Hash), 3) 채굴속도를 조정하는 난이도 (Difficulty), 4) 블록이 생성된 시간 (Timestamp), 5) Target Hash를 맞추기 위해 사용하는 난스(Nonce), 6) 각 블록의 해시 값을 결합하여 계산하는 머클 루트의 해시값 (Merkle Root)으로 구성한다. 블록바디는 발생한 트랙잭션을 저장한다.\n",
    "\n",
    "* spv 가벼운 클라이언트의 블록헤더는 간단하다. \"Prev_Hash\", \"Time Stamp\", \"Nonce\" and \"Tx_Root\", transaction data.\n",
    "\n",
    "\n",
    "블록헤더 | 바이트 수 | 설명\n",
    "-----|-----|-----\n",
    "version | 4 | 프로토콜 버전\n",
    "Previous Block Hash | 32 | 이전 블록 해시 값으로 서로 체인으로 연결.\n",
    " Merkle Root | 32 | 블록에 있는 모든 거래 hash의 root. 따라서 어떤 블럭 해시 값이 변경되면 Merkle Root Hash값도 달라지게 되어 수정이 불가능함.\n",
    "Timestamp | 4 | 블록 생성 시간\n",
    "difficulty target | 4 | 난이도를 조정하여 블록생성시간을 유지.\n",
    "nonce | 4 | Target Hash를 맞추어 나갈 때 조정/"
   ]
  },
  {
   "cell_type": "markdown",
   "metadata": {
    "slideshow": {
     "slide_type": "subslide"
    }
   },
   "source": [
    "### 블록체인\n",
    "\n",
    "블록체인은 블록의 체인이고, 블록은 **거래를 묶어 이진트리 merkle tree로 구성**해서 가진다.\n",
    "예를 들어, 트랜잭션 A, B, C를 머클트리로 구성한다면 각 거래 데이터를 해싱해서 나온 결과 값이 각 노드에 저장된다. 부모 노드를 만들기 위해서 자식노드의 32바이트 크기의 트랜잭션 A와 B의 해시 값을 서로 연결해서 64바이트 문자열을 만들고 문자열은 이중 해시 처리되어 부모노드의 해시를 생성한다. \n",
    "이러한 방식으로 상위에 노드가 하나 남을 때까지 계속 계산하고, 각각의 트랜잭션을 이진트리 형태로 만들 경우 가장 최종적으로 남는 해시 값이 머클트리 루트 해시 값이 된다."
   ]
  },
  {
   "cell_type": "markdown",
   "metadata": {
    "slideshow": {
     "slide_type": "subslide"
    }
   },
   "source": [
    "블록 내에서 머클 해시 값을 통해서 트랜잭션의 무결성을 검증 할 수 있고, 블록 해시 값을 통해서 해더 값에 대한 무결성을 검증할 수 있다.\n",
    "거래 내역의 위변조를 막기 위해서 해시로 만들고 이것을 트리 형태로 만든 것이다.\n",
    "어느 한 블록에 변조가 발생하면, merkle tree로 root까지 전달되어 블록체인 전체가 변조된다.\n",
    "이전에 생성된 블록해시 값은 다음 블록 헤더의 'Previous Block Hash' 항목에 저장된다. 각 블록에 트랜잭션이 지속적으로 쌓이면 새롭게 블록을 생성하여 블록해시 값을 연결고리로 블록을 연결하여 블록체인이 생성된다.\n",
    "블록 뒤에 다른 블록이 추가될 때마다, 이를 **confirmation**이라고 하는데 confirmation이 늘어날 수록 수정이 힘들어 진다. \n",
    "**fork**는 **같은 블록높이를 가지는 블록이 여러 개**, 부모가 여러 자식 블록을 가지는 경우 발생한다. 복수의 마이너가 거의 동시에 블록을 생산하는 경우이다.\n",
    "매 **2016블록마다 difficulty가 조정**된다.\n",
    "\n",
    "\n",
    "> 블록높이 block height\n",
    "\n",
    "> 블록체인에서 선행블록의 수를 말한다. 예를 들어 genesis block의 블록높이는 0이다."
   ]
  },
  {
   "cell_type": "markdown",
   "metadata": {
    "slideshow": {
     "slide_type": "subslide"
    }
   },
   "source": [
    "source: bitcoinwiki https://en.bitcoin.it/wiki/Block_hashing_algorithm"
   ]
  },
  {
   "cell_type": "code",
   "execution_count": 1,
   "metadata": {
    "collapsed": true
   },
   "outputs": [],
   "source": [
    "import hashlib\n",
    "header_hex = (\"01000000\" +\n",
    " \"81cd02ab7e569e8bcd9317e2fe99f2de44d49ab2b8851ba4a308000000000000\" +\n",
    " \"e320b6c2fffc8d750423db8b1eb942ae710e951ed797f7affc8892b0f1fc122b\" +\n",
    " \"c7f5d74d\" +\n",
    " \"f2b9441a\" +\n",
    " \"42a14695\")\n",
    "header_bin = header_hex.decode('hex')  # changes to binary string\n",
    "hash = hashlib.sha256(hashlib.sha256(header_bin).digest()).digest()"
   ]
  },
  {
   "cell_type": "code",
   "execution_count": 3,
   "metadata": {
    "collapsed": false
   },
   "outputs": [
    {
     "data": {
      "text/plain": [
       "'1dbd981fe6985776b644b173a4d0385ddc1aa2a829688d1e0000000000000000'"
      ]
     },
     "execution_count": 3,
     "metadata": {},
     "output_type": "execute_result"
    }
   ],
   "source": [
    "hash.encode('hex_codec')    # equals to \"encode('hex')\""
   ]
  },
  {
   "cell_type": "code",
   "execution_count": 4,
   "metadata": {
    "collapsed": false
   },
   "outputs": [
    {
     "data": {
      "text/plain": [
       "'00000000000000001e8d6829a8a21adc5d38d0a473b144b6765798e61f98bd1d'"
      ]
     },
     "execution_count": 4,
     "metadata": {},
     "output_type": "execute_result"
    }
   ],
   "source": [
    "hash[::-1].encode('hex_codec')  # [::-1] all elements in the array reversed"
   ]
  },
  {
   "cell_type": "markdown",
   "metadata": {
    "slideshow": {
     "slide_type": "subslide"
    }
   },
   "source": [
    "### Merkle proof\n",
    "\n",
    "머클트리 해시를 만드는 과정. \n",
    "특정 transaction이 수정되면 전체 해시가 다르게 된다.\n",
    "https://bitcoin.stackexchange.com/questions/67621/checking-the-merkle-root-for-block-100000\n",
    "\n",
    "\n",
    "\n",
    "```\n",
    "                              Merkle Root\n",
    "                    /\n",
    "                   /\n",
    "                Hash 1 2\n",
    "          /double SHA2     \\\n",
    "         /hash1+2 byte swap \\\n",
    "    byte swap            byte swap\n",
    "      Hash 1               Hash 2\n",
    "        |                    |\n",
    "        | double SHA256      | double SHA256  \n",
    "Transaction 1 Data   Transaction 2 Data\n",
    "```"
   ]
  },
  {
   "cell_type": "code",
   "execution_count": 24,
   "metadata": {
    "collapsed": false
   },
   "outputs": [
    {
     "name": "stdout",
     "output_type": "stream",
     "text": [
      "2f8833c90b757e3dbcb9ef8fee499e800bfb47dc531e854e51d0b235005d938d\n"
     ]
    }
   ],
   "source": [
    "import hashlib\n",
    "\n",
    "nonce=1\n",
    "txA = 'Hello'\n",
    "txB = 'How are you?'\n",
    "txC = 'This is Thursday'\n",
    "txD = 'Happy new Year'\n",
    "hashA=hashlib.sha256(txA)\n",
    "hashB=hashlib.sha256(txB)\n",
    "doubleHashB=hashlib.sha256(hashA.hexdigest()+hashA.hexdigest())\n",
    "print doubleHashB.hexdigest()\n"
   ]
  },
  {
   "cell_type": "markdown",
   "metadata": {
    "slideshow": {
     "slide_type": "subslide"
    }
   },
   "source": [
    "hash를 구하고, byte swap을 해주어야 한다."
   ]
  },
  {
   "cell_type": "code",
   "execution_count": 18,
   "metadata": {
    "collapsed": false
   },
   "outputs": [
    {
     "name": "stdout",
     "output_type": "stream",
     "text": [
      "876dd0a3ef4a2816ffd1c12ab649825a958b0ff3bb3d6f3e1250f13ddbf0148c\n"
     ]
    }
   ],
   "source": [
    "t1 = \"8c14f0db3df150123e6f3dbbf30f8b955a8249b62ac1d1ff16284aefa3d06d87\"\n",
    "t1swap=\"\".join(reversed([t1[i:i+2] for i in range(0, len(t1), 2)]))\n",
    "print t1swap"
   ]
  },
  {
   "cell_type": "code",
   "execution_count": 19,
   "metadata": {
    "collapsed": false
   },
   "outputs": [
    {
     "name": "stdout",
     "output_type": "stream",
     "text": [
      "c40297f730dd7b5a99567eb8d27b78758f607507c52292d02d4031895b52f2ff\n"
     ]
    }
   ],
   "source": [
    "t2 = \"fff2525b8931402dd09222c50775608f75787bd2b87e56995a7bdd30f79702c4\"\n",
    "t2swap=\"\".join(reversed([t2[i:i+2] for i in range(0, len(t2), 2)]))\n",
    "print t2swap"
   ]
  },
  {
   "cell_type": "code",
   "execution_count": 22,
   "metadata": {
    "collapsed": false
   },
   "outputs": [
    {
     "name": "stdout",
     "output_type": "stream",
     "text": [
      "876dd0a3ef4a2816ffd1c12ab649825a958b0ff3bb3d6f3e1250f13ddbf0148cc40297f730dd7b5a99567eb8d27b78758f607507c52292d02d4031895b52f2ff\n"
     ]
    }
   ],
   "source": [
    "t12=t1swap+t2swap\n",
    "print t12"
   ]
  },
  {
   "cell_type": "code",
   "execution_count": 31,
   "metadata": {
    "collapsed": false
   },
   "outputs": [
    {
     "data": {
      "text/plain": [
       "'15b88c5107195bf09eb9da89b83d95b3d070079a3c5c5d3d17d0dcd873fbdacc'"
      ]
     },
     "execution_count": 31,
     "metadata": {},
     "output_type": "execute_result"
    }
   ],
   "source": [
    "import hashlib\n",
    "t12_bin=t12.decode('hex')\n",
    "doubleHash12=hashlib.sha256(hashlib.sha256(t12_bin).digest()).digest()\n",
    "doubleHash12.encode('hex')   # or doubleHash12.encode('hex_codec')"
   ]
  },
  {
   "cell_type": "markdown",
   "metadata": {
    "slideshow": {
     "slide_type": "slide"
    }
   },
   "source": [
    "## 5.6 마이닝\n",
    "\n",
    "마이닝은 거래를 인증하는 과정으로, hash puzzle을 풀고 그 보상으로 새로운 코인을 생성하게 된다.\n",
    "발생한 모든 거래가 추가되는 것은 아니다.\n",
    "**목표 값 target hash를 찾아내는 계산**을 하고, 맞추는 경우에 인증되고 블록체인에 비로서 추가된다.\n",
    "정답을 맞추는 작업을 하는 참여자들을 마이너라고 하며, **보상은 정답을 맞춘 최초의 경우**에만 해당 마이너에게 주어진다.\n",
    "이와 같이 일정한 량의 계산에 따라 거래가 인증되고, 블록체인에 추가될 수 있으므로 이러한 **계산작업증명을 Proof of Work** 이라고 한다.\n",
    "\n",
    "비트코인의 경우 블록생성시간은 10분으로 설정되어 있으므로 하루 144 블록, 일주 1008블록이 생성된다. \n",
    "이더리움은 문제의 난이도는 12초에 1건씩 풀도록 정한다."
   ]
  },
  {
   "cell_type": "markdown",
   "metadata": {
    "collapsed": true,
    "slideshow": {
     "slide_type": "subslide"
    }
   },
   "source": [
    "> Orhan, Stale\n",
    "\n",
    "> * **Orphan**  블록체인에서 부모가 없는 블록을 말한다. 부모로 삼으려 했던 블록이 인증이 실패하면서 부모가 없어지는 경우 발생한다.\n",
    "* **stale** 블록은 자식이 없는 블록을 말한다. 마이닝은 되었지만, 블록높이가 동일한 다른 블록이 먼저 자식이 생기면서 정상적인 블록체인이 되는 경우 발생한다.\n",
    "\n",
    "이더리움에서의 합의 알고리즘은 GHOST (Greedy Heaviest Observed Subtree, Zohar and Sompolinsky in December 2013)이다. 가장 무거운 트리가 블록체인에 연결되는 방식이다. 비트코인은 가장 긴 블록을, 반면에 이더리움은 가장 무거운 블록을 추가한다."
   ]
  },
  {
   "cell_type": "markdown",
   "metadata": {
    "slideshow": {
     "slide_type": "subslide"
    }
   },
   "source": [
    "> Hash Rate\n",
    "\n",
    "> Hash Rate는 1초에 Hash를 몇 회하는지 (Number of hashes per second, H/s)\n",
    "마이닝하는 속도를 말한다. 성능이 좋은 컴퓨터는 당연히 Hash Rate이 높게 마련이다.\n",
    "H/s는 일반 척도와 같은 단위를 사용하여 나타낼 수 있다.\n",
    "\n",
    "구분 | 단위 | 해시 회수\n",
    "-----|-----|-----\n",
    "Kilohashes | KH/s | 1000\n",
    "Megahashes | MH/s | 1,000,000\n",
    "Gigahashes | GH/s | 1,000,000,000\n",
    "Terahashes | TH/s | 1,000,000,000,000\n",
    "Petahashes | PH/s | 1,000,000,000,000\n"
   ]
  },
  {
   "cell_type": "markdown",
   "metadata": {
    "slideshow": {
     "slide_type": "subslide"
    }
   },
   "source": [
    "**Ethash**\n",
    "이더리움이 구현한 PoW 알고리즘이다.\n",
    "이전에 사용하였던 Dagger-Hashimoto 알고리즘을 개선한 버전이다.\n",
    "Ethash의 해시함수를 \"sha3_256\" and \"sha3_512\"이라고 한다.\n",
    "\n",
    "Ethash는 Ethash DAG라고 하는 1 GB 데이터 분량을 사용한다. 전체를 가지고 있을 필요가 없는 light client는 16 MB 캐시를 사용한다.\n",
    "이 데이터는 매 **30,000 블록마다 재생성**되는데, 이 시간을 **epoch**이라고 한다.\n",
    "마이닝할 때 DAG의 일부를 가져다가 블럭해시와 nonce를 사용해 target hash를 맞춰 나갈 때 사용한다."
   ]
  },
  {
   "cell_type": "markdown",
   "metadata": {
    "slideshow": {
     "slide_type": "subslide"
    }
   },
   "source": [
    "마이닝을 하기 전에 보상이 지급되는 계정 coinbase를 정해야 한다.\n",
    "coinbase를 충전할 계정으로 변경하고, mining. 그렇지 않으면 reward가 주어질 계정이 없다.\n",
    "처음 채굴을 시작하면, 기가규모의 블럭체인을 내려받아야 한다. 약 10분 정도 소요되며, DAG가 구성된다.\n",
    "\n",
    "```python\n",
    "> miner.setEtherbase(eth.accounts[2])\n",
    "true\n",
    "> eth.coinbase\n",
    "\"0x53cbba17cf9bd0735855809bdcb88e232de96f32\"\n",
    "> miner.start(1);admin.sleepBlocks(1);miner.stop()\n",
    "```"
   ]
  },
  {
   "cell_type": "markdown",
   "metadata": {
    "slideshow": {
     "slide_type": "subslide"
    }
   },
   "source": [
    "**hash puzzle**은 **block hash**값을 결정하기 위한 문제이다.\n",
    "즉, **```sha256(sha256(data+nonce)) < difficulty```**이 되도록 nonce를 찾아야 한다.\n",
    "* diffculty (4바이트) = $2^{255}-2$ (**최대 32바이트 hash값은 $2^{255}-1$**, 이 보다 하나 적은 블록 hash값을 찾는 것은 쉽다)\n",
    "* max와 target theresold (difficulty)의 간극이 벌어질수록 어려워진다.\n",
    "* difficulty는 2016개의 평균시간이 1,209,600 seconds (two weeks)되도록 정한다."
   ]
  },
  {
   "cell_type": "markdown",
   "metadata": {
    "slideshow": {
     "slide_type": "subslide"
    }
   },
   "source": [
    "그 절차를 좀 더 자세하게 설명하면:\n",
    "1. 거래를 수집하여 블록을 만든다 (비트코인은 1MB 블록)\n",
    "data=Merkle Root (블록에 있는 모든 거래의 hash 합계) + previous block hash\n",
    "2. 블록헤더 (Version + Previous Block Hash + Merkle Root + Timestamp + Difficulty Bits + Nonce) 값을 SHA-256 해시하고 또 재해시를 하여 해시값을 계산한다.\n",
    "3. 2에서 계산된 해시값을 Target hash와 비교한다. target hash보다 적으면 정답, 아니면 1번으로 돌아감.\n",
    "4. 문제를 푼 경우, \n",
    "문제를 풀면 블럭체인에 승인된 블럭을 맨 뒤에 첨부하고 모든 peer에게 공지.\n",
    "참여자들에게 공지하고 참여자들로 하여금 계산을 하게 하여 검증되면 합의한다.\n",
    "5. 참여자가 많아져 계산속도가 빨라질 수 있지만 설정된 블럭생성시간에 맞추어 난이도가 조정된다.\n",
    "```python\n",
    "block_diff = parent_diff + parent_diff // 2048 * \n",
    "max(1 - (block_timestamp - parent_timestamp) // 10, -99) + int(2**((block.number // 100000) - 2))\n",
    "```\n",
    "즉, 부모블록과 현재블록의 생성시간이:\n",
    "    * 10초 이하 -> 난이도 증가\n",
    "    * 10~19초: 유지\n",
    "    * 20초 이상 -> 난이도 감소\n",
    "\n",
    "6. 블록이 한꺼번에 2개 마이닝 되는 경우, \n",
    "두 마이너가 동시에 풀면 fork가 발생\n",
    "난이도가 높은 블록이 인증받게 된다.\n",
    "```python\n",
    "loop\n",
    "    if sha256(sha256(data+nonce)) < difficulty\n",
    "        stop\n",
    "    else change the nonce\n",
    "```"
   ]
  },
  {
   "cell_type": "markdown",
   "metadata": {
    "slideshow": {
     "slide_type": "subslide"
    }
   },
   "source": [
    "블록헤더 데이터의 해시 값에 NONCE를 더하여 \n",
    "앞 자리의 0의 개수를 맞출 때까지 반복한다."
   ]
  },
  {
   "cell_type": "code",
   "execution_count": null,
   "metadata": {
    "collapsed": false
   },
   "outputs": [],
   "source": [
    "import hashlib\n",
    "ntry=1\n",
    "found=False\n",
    "blockNumber=54\n",
    "NONCE=0\n",
    "data='Hello'\n",
    "previousHash='5d7c7ba21cbbcd75d14800b100252d5b428e5b1213d27c385bc141ca6b47989e'\n",
    "while found==False:\n",
    "    z=str(blockNumber)+str(NONCE)+data+previousHash\n",
    "    guessHash=hashlib.sha256(z).hexdigest()\n",
    "    if guessHash[:4]=='00000':\n",
    "        found=True\n",
    "    NONCE+=1\n",
    "print guessHash\n",
    "print NONCE"
   ]
  },
  {
   "cell_type": "markdown",
   "metadata": {
    "collapsed": true,
    "slideshow": {
     "slide_type": "subslide"
    }
   },
   "source": [
    "* 마이닝이 안되는 경우\n",
    "    * 발생한 트랜잭션이 처리되지 않고 여러 건이 적체되어 있는 경우\n",
    "    * 처리비용이 낮은 경우\n",
    "    * 트랜잭션 nonce 앞 번호가 처리 되지 않았는데 뒤 번호가 대기하고 있는 경우, 뒤 트랜잭션은 대기하게 된다.\n",
    "\n",
    "* 마이닝이 적체되어 안 지워지는 경우\n",
    "    - geth를 종료\n",
    "    - datadir 아래 geth디렉토리 밑의 transactions.rlp를 삭제\n",
    "    - geth 다시 시작한다.\n"
   ]
  },
  {
   "cell_type": "code",
   "execution_count": 3,
   "metadata": {
    "collapsed": false
   },
   "outputs": [
    {
     "name": "stdout",
     "output_type": "stream",
     "text": [
      "{\r\n",
      "  pending: {},\r\n",
      "  queued: {}\r\n",
      "}\r\n"
     ]
    }
   ],
   "source": [
    "!geth --exec txpool.inspect attach http://117.16.44.45:8445"
   ]
  },
  {
   "cell_type": "markdown",
   "metadata": {
    "slideshow": {
     "slide_type": "slide"
    }
   },
   "source": [
    "## 5.7 gas\n",
    "\n",
    "트랜잭션을 처리하기 위해서는 비용이 발생한다. 노드들의 컴퓨팅 자원이 투입되기 때문에 이에 대한 비용이다.\n",
    "비용은 송금 금액에 비례하는 것이 아니라, 데이터 크기와 소요되는 컴퓨팅 자원량에 따라 산정이 된다.\n",
    "비용은 소모되는 **gas**에 **gasPrice** 단가를 곱하여 계산한다.\n",
    "주유소에 비유해서 이해할 수 있다.\n",
    "주행거리에 따라 필요한 연료량과 단가에 따라 주유를 하는 방식이다. \n",
    "이러한 거래에 비용이 발생하게 되면, DDos 공격 역시 상당한 비용이 수반되게 되므로 쉽게 시도하지 못하게 되는 효과가 있다.\n",
    "자원낭비 막기 위해 blockchain에 부담이 가는 실행(무한반복...)을 줄이기 위해?\n",
    "\n",
    "```python\n",
    "거래 비용 = gas price * gas\n",
    "```"
   ]
  },
  {
   "cell_type": "markdown",
   "metadata": {
    "slideshow": {
     "slide_type": "subslide"
    }
   },
   "source": [
    "### gasPrice\n",
    "\n",
    "gasPrice는 단가로서 사용자가 정할 수 있다. \n",
    "보통 명시하지 않으면 최선의 가격으로 정해지게 된다.\n",
    "gasPrice에 따라 처리속도가 결정된다.\n",
    "gasPrice가 너무 적으면 마이닝되지 않을 수 있으며, 반대로 많으면 빠르게 마이닝 될 수 있다.\n",
    "gasPrice가 높을수록 더 많은 마이너가 처리하려고 들 것이고 트랜잭션이 마이닝되는 시간이 짧아지게 된다.\n",
    "예를 들어, 10 Gwei로 정하면 2분 이내로 빠르게 처리된다. https://ethgasstation.info/\n",
    "\n",
    "Speed | Gas Price (gwei)\n",
    "-----|-----\n",
    "SafeLow (<30m) | 4.1\n",
    "Standard (<5m) | 5.6\n",
    "Fast (<2m) | 10\n",
    "\n",
    "메인네트워크에서 gasPrice 단가는 시간에 따라 정해져 있지 않고 변동한다 (참조 https://etherscan.io/chart/gasprice)"
   ]
  },
  {
   "cell_type": "markdown",
   "metadata": {
    "slideshow": {
     "slide_type": "subslide"
    }
   },
   "source": [
    "### gas limit\n",
    "\n",
    "gas limit은 사용 한도를 말한다. 사용자가 최대로 지불할 용의가 있는 한도를 말한다.\n",
    "단순한 거래의 경우 보통 30,000 정도면 충분하다.\n",
    "gas가 소진될 때 까지 마이닝하고, 남으면 반환, 모자라면 **Out of Gas Exception**이 발생한다."
   ]
  },
  {
   "cell_type": "code",
   "execution_count": 4,
   "metadata": {
    "collapsed": false
   },
   "outputs": [
    {
     "name": "stdout",
     "output_type": "stream",
     "text": [
      "\u001b[31m8000000\u001b[0m\r\n"
     ]
    }
   ],
   "source": [
    "!geth --exec \"eth.getBlock('latest').gasLimit\" attach http://117.16.44.45:8445"
   ]
  },
  {
   "cell_type": "markdown",
   "metadata": {
    "slideshow": {
     "slide_type": "subslide"
    }
   },
   "source": [
    "### gas 산정\n",
    "\n",
    "**실행비용 execution costs**는 사용되는 명령어를 기준으로 산정이 된다.\n",
    "\n",
    "코드 | 명령어 | 비용 | 설명\n",
    "-----|-----|-----|-----\n",
    "0x00 | stop | 실행중지\n",
    "0 01 | ADD | 3 | 더하기\n",
    "10 | LT | 3 | less than 비교\n",
    "20 | SHA3 | Keccak-256 hash 계산\n",
    "30 | ADDRESS | 현재 실행 계정 주소 읽기\n",
    "40 | BLOCKHASH | 최근 블록 해시 값 읽기\n"
   ]
  },
  {
   "cell_type": "markdown",
   "metadata": {
    "slideshow": {
     "slide_type": "subslide"
    }
   },
   "source": [
    "![alt text](figures/5_gasCost.png \"gas cost in yellow paper\")"
   ]
  },
  {
   "cell_type": "markdown",
   "metadata": {
    "collapsed": true,
    "slideshow": {
     "slide_type": "subslide"
    }
   },
   "source": [
    "**거래 비용 transaction costs**은 byte수에 따라 산정된다.\n",
    "데이터 값이 없는 $G_{txdatazero}$는 4, 데이터 값이 있는 $G_{txdatanonzero}$는 68로 계산된다.\n",
    "1594 * 68 + 184 * 4 = 109128로 계산한다.\n"
   ]
  },
  {
   "cell_type": "markdown",
   "metadata": {},
   "source": [
    "개스비용을 적지 않으면, ```web3.eth.estimateGas()``` 함수로 산정한 값으로 적용하게 된다.\n",
    "\n",
    "```python\n",
    "var gas = web3.eth.estimateGas({\n",
    "    data: byteCode\n",
    "});\n",
    "console.log(gas);\n",
    "```"
   ]
  },
  {
   "cell_type": "code",
   "execution_count": 1,
   "metadata": {
    "collapsed": false
   },
   "outputs": [
    {
     "name": "stdout",
     "output_type": "stream",
     "text": [
      "zero-bytes: 184\n",
      "non-zero-bytes: 1594\n"
     ]
    }
   ],
   "source": [
    "txdata = \"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\"\n",
    "\n",
    "def count_zero_bytes(data):\n",
    "  count = 0\n",
    "  for i in xrange(0, len(data), 2):\n",
    "    byte = data[i:i+2]\n",
    "    if byte == \"00\":\n",
    "      count += 1\n",
    "  return count\n",
    "\n",
    "def count_non_zero_bytes(data):\n",
    "  return (len(data) / 2) - count_zero_bytes(data)\n",
    "\n",
    "print(\"zero-bytes: {0}\".format(count_zero_bytes(txdata)))\n",
    "print(\"non-zero-bytes: {0}\".format(count_non_zero_bytes(txdata)))"
   ]
  },
  {
   "cell_type": "code",
   "execution_count": 3,
   "metadata": {
    "collapsed": false,
    "scrolled": true,
    "slideshow": {
     "slide_type": "subslide"
    }
   },
   "outputs": [
    {
     "name": "stdout",
     "output_type": "stream",
     "text": [
      "{\r\n",
      "  blockHash: \u001b[32m\"0xd2c51ae5dea10e50c915e9d7ccc6c117c2d14d0f38da936b62a1c38fd0494d26\"\u001b[0m,\r\n",
      "  blockNumber: \u001b[31m55169\u001b[0m,\r\n",
      "  contractAddress: \u001b[1mnull\u001b[0m,\r\n",
      "  cumulativeGasUsed: \u001b[31m21000\u001b[0m,\r\n",
      "  from: \u001b[32m\"0x2e49e21e708b7d83746ec676a4afda47f1a0d693\"\u001b[0m,\r\n",
      "  gasUsed: \u001b[31m21000\u001b[0m,\r\n",
      "  logs: [],\r\n",
      "  logsBloom: \u001b[32m\"0x00000000000000000000000000000000000000000000000000000000000000000000000000000000000000000000000000000000000000000000000000000000000000000000000000000000000000000000000000000000000000000000000000000000000000000000000000000000000000000000000000000000000000000000000000000000000000000000000000000000000000000000000000000000000000000000000000000000000000000000000000000000000000000000000000000000000000000000000000000000000000000000000000000000000000000000000000000000000000000000000000000000000000000000000000000000\"\u001b[0m,\r\n",
      "  root: \u001b[32m\"0x1817a1775db945025d4a67a0bfcb633b5fed6a1fa76804d152db410c9140237d\"\u001b[0m,\r\n",
      "  to: \u001b[32m\"0xe36104ad419c719e356e86f94b5a7ca47a83f9e7\"\u001b[0m,\r\n",
      "  transactionHash: \u001b[32m\"0xd87121b8b0f84f7fa038cd7c1928ca6a222d14228125c90edc2493fdef4fb90b\"\u001b[0m,\r\n",
      "  transactionIndex: \u001b[31m0\u001b[0m\r\n",
      "}\r\n"
     ]
    }
   ],
   "source": [
    "!geth --exec 'eth.getTransactionReceipt(\"0xd87121b8b0f84f7fa038cd7c1928ca6a222d14228125c90edc2493fdef4fb90b\")' attach http://117.16.44.45:8445"
   ]
  },
  {
   "cell_type": "markdown",
   "metadata": {
    "collapsed": true,
    "slideshow": {
     "slide_type": "subslide"
    }
   },
   "source": [
    "* 계정의 getTransactionCount\n",
    "```python\n",
    "getTransactionCount(fromAddress, 'pending')\n",
    "```"
   ]
  },
  {
   "cell_type": "code",
   "execution_count": 4,
   "metadata": {
    "collapsed": false
   },
   "outputs": [
    {
     "name": "stdout",
     "output_type": "stream",
     "text": [
      "\u001b[31m25\u001b[0m\r\n"
     ]
    }
   ],
   "source": [
    "!geth --exec 'eth.getTransactionCount(\"0x2e49e21e708b7d83746ec676a4afda47f1a0d693\")' attach http://117.16.44.45:8445 "
   ]
  },
  {
   "cell_type": "markdown",
   "metadata": {
    "collapsed": true,
    "slideshow": {
     "slide_type": "subslide"
    }
   },
   "source": [
    "* 발생된 거래를 살펴보기\n",
    "    * eth.getBlock(55169);\n",
    "    * eth.filter('latest')"
   ]
  },
  {
   "cell_type": "code",
   "execution_count": 1,
   "metadata": {
    "collapsed": false,
    "scrolled": true
   },
   "outputs": [
    {
     "name": "stdout",
     "output_type": "stream",
     "text": [
      "{\r\n",
      "  difficulty: \u001b[31m6314813\u001b[0m,\r\n",
      "  extraData: \u001b[32m\"0xd783010504846765746887676f312e372e33856c696e7578\"\u001b[0m,\r\n",
      "  gasLimit: \u001b[31m4712388\u001b[0m,\r\n",
      "  gasUsed: \u001b[31m21000\u001b[0m,\r\n",
      "  hash: \u001b[32m\"0xd2c51ae5dea10e50c915e9d7ccc6c117c2d14d0f38da936b62a1c38fd0494d26\"\u001b[0m,\r\n",
      "  logsBloom: \u001b[32m\"0x00000000000000000000000000000000000000000000000000000000000000000000000000000000000000000000000000000000000000000000000000000000000000000000000000000000000000000000000000000000000000000000000000000000000000000000000000000000000000000000000000000000000000000000000000000000000000000000000000000000000000000000000000000000000000000000000000000000000000000000000000000000000000000000000000000000000000000000000000000000000000000000000000000000000000000000000000000000000000000000000000000000000000000000000000000000\"\u001b[0m,\r\n",
      "  miner: \u001b[32m\"0x2e49e21e708b7d83746ec676a4afda47f1a0d693\"\u001b[0m,\r\n",
      "  mixHash: \u001b[32m\"0x4da21d2c5696ee4d798f6445db0287a73fb2332f089ac43690d302827f52401a\"\u001b[0m,\r\n",
      "  nonce: \u001b[32m\"0x3cd421957745a4b1\"\u001b[0m,\r\n",
      "  number: \u001b[31m55169\u001b[0m,\r\n",
      "  parentHash: \u001b[32m\"0x6533c71dd0f03108ea2c657896e73253f4f60ed3c4524a2bf0009cdec351d609\"\u001b[0m,\r\n",
      "  receiptsRoot: \u001b[32m\"0x925b88d8f207cf48a9dc303902f5674d239072c1f03493febc311549d820b9ce\"\u001b[0m,\r\n",
      "  sha3Uncles: \u001b[32m\"0x1dcc4de8dec75d7aab85b567b6ccd41ad312451b948a7413f0a142fd40d49347\"\u001b[0m,\r\n",
      "  size: \u001b[31m645\u001b[0m,\r\n",
      "  stateRoot: \u001b[32m\"0xdbf466898fd964478d1f606e4a4dc1da9640af35f46d623d5ad4ed277526aaef\"\u001b[0m,\r\n",
      "  timestamp: \u001b[31m1481249262\u001b[0m,\r\n",
      "  totalDifficulty: \u001b[31m273764475970\u001b[0m,\r\n",
      "  transactions: [\u001b[32m\"0xd87121b8b0f84f7fa038cd7c1928ca6a222d14228125c90edc2493fdef4fb90b\"\u001b[0m],\r\n",
      "  transactionsRoot: \u001b[32m\"0x5dbc80ced8364978e61d0c12aef1d7524092a4f7aa6ab30b4fccd6aa8b1282cd\"\u001b[0m,\r\n",
      "  uncles: []\r\n",
      "}\r\n"
     ]
    }
   ],
   "source": [
    "!geth --exec 'eth.getBlock(55169);' attach http://117.16.44.45:8445 "
   ]
  },
  {
   "cell_type": "code",
   "execution_count": 2,
   "metadata": {
    "collapsed": false
   },
   "outputs": [
    {
     "name": "stdout",
     "output_type": "stream",
     "text": [
      "{\r\n",
      "  callbacks: [],\r\n",
      "  filterId: \u001b[32m\"0xa6d9df622f0acc03602e7b3c185ea906\"\u001b[0m,\r\n",
      "  getLogsCallbacks: [],\r\n",
      "  implementation: {\r\n",
      "    getLogs: \u001b[35mfunction()\u001b[0m,\r\n",
      "    newFilter: \u001b[35mfunction()\u001b[0m,\r\n",
      "    poll: \u001b[35mfunction()\u001b[0m,\r\n",
      "    uninstallFilter: \u001b[35mfunction()\u001b[0m\r\n",
      "  },\r\n",
      "  options: \u001b[32m\"latest\"\u001b[0m,\r\n",
      "  pollFilters: [],\r\n",
      "  requestManager: {\r\n",
      "    polls: {},\r\n",
      "    provider: {\r\n",
      "      newAccount: \u001b[35mfunction()\u001b[0m,\r\n",
      "      send: \u001b[35mfunction github.com/ethereum/go-ethereum/console.(*bridge).Send-fm()\u001b[0m,\r\n",
      "      sendAsync: \u001b[35mfunction github.com/ethereum/go-ethereum/console.(*bridge).Send-fm()\u001b[0m,\r\n",
      "      sign: \u001b[35mfunction()\u001b[0m,\r\n",
      "      unlockAccount: \u001b[35mfunction()\u001b[0m\r\n",
      "    },\r\n",
      "    timeout: \u001b[1mnull\u001b[0m,\r\n",
      "    poll: \u001b[35mfunction()\u001b[0m,\r\n",
      "    reset: \u001b[35mfunction(keepIsSyncing)\u001b[0m,\r\n",
      "    send: \u001b[35mfunction(data)\u001b[0m,\r\n",
      "    sendAsync: \u001b[35mfunction(data, callback)\u001b[0m,\r\n",
      "    sendBatch: \u001b[35mfunction(data, callback)\u001b[0m,\r\n",
      "    setProvider: \u001b[35mfunction(p)\u001b[0m,\r\n",
      "    startPolling: \u001b[35mfunction(data, pollId, callback, uninstall)\u001b[0m,\r\n",
      "    stopPolling: \u001b[35mfunction(pollId)\u001b[0m\r\n",
      "  },\r\n",
      "  formatter: \u001b[35mfunction(log)\u001b[0m,\r\n",
      "  get: \u001b[35mfunction(callback)\u001b[0m,\r\n",
      "  stopWatching: \u001b[35mfunction()\u001b[0m,\r\n",
      "  watch: \u001b[35mfunction(callback)\u001b[0m\r\n",
      "}\r\n"
     ]
    }
   ],
   "source": [
    "!geth --exec 'eth.filter(\"latest\");' attach http://117.16.44.45:8445 "
   ]
  },
  {
   "cell_type": "markdown",
   "metadata": {
    "slideshow": {
     "slide_type": "slide"
    }
   },
   "source": [
    "## 문제 5-1: 다른 계정으로 송금 거래\n",
    "\n",
    "<a id='5-1'></a>\n",
    "\n",
    "* 1-1 같은 기계, 다른 계정으로 송금하기\n",
    "* 1-2 다른 기계, 다른 계정으로 송금하기\n"
   ]
  },
  {
   "cell_type": "markdown",
   "metadata": {
    "slideshow": {
     "slide_type": "subslide"
    }
   },
   "source": [
    "### 1-1 같은 기계, 다른 계정으로 송금하기\n",
    "\n",
    "* bash shell에서 송금할 수 있다.\n",
    "* 마이닝을 해서 거래를 처리하도록 한다.\n",
    "* 송금하려면, account unlock해야 한다. geth를 시작할 때 --unlock 하거나, console에서 직접 할 수 있다.\n",
    "```python\n",
    "> personal.unlockAccount(eth.accounts[2])\n",
    "```\n"
   ]
  },
  {
   "cell_type": "code",
   "execution_count": null,
   "metadata": {
    "collapsed": true
   },
   "outputs": [],
   "source": [
    "송금을 하거나 블록체인에 데이터를 저장하거나 거래에는 비용이 발생한다.\n",
    "그러려면 계정에 잔고가 있어야 한다.\n",
    "계정에 잔고가 있으려면 Ether를 구매하거나, 마이닝을 해서 충전을 해야 한다.\n",
    "계정간에 송금하는 거래이다. gas가 모자라면 거래가 지연될 수 있다.\n",
    "\n",
    "* 계정을 선택하고 현재 blockNumber와 잔고가 증가했는지 살펴보자.\n",
    "* private이라서 자신이 거래를 발생하여 마이닝 한다.\n",
    "* eth와 web3를 섞어서 사용하는 것은 피하도록 한다.\n",
    "\n",
    "![alt text](figures/2_sendTransactionToAnotherAccount.png \"send transaction to another account\")\n",
    "\n",
    "![alt text](figures/2_transactionReceipt.png \"transaction recepit after send transaction\")\n",
    "\n",
    "%%writefile src/e_test0.js\n",
    "var primary = web3.eth.accounts[0];\n",
    "var bal=web3.eth.getBalance(primary);\n",
    "console.log('primary: ', primary);\n",
    "console.log('coinbase: ', eth.coinbase);\n",
    "console.log('balance: ', bal);\n",
    "console.log('wei balance: ', web3.fromWei(eth.getBalance(eth.accounts[0]),\"ether\"));\n",
    "console.log('gas price: ', eth.gasPrice);\n",
    "console.log('block number: ', eth.blockNumber);\n",
    "eth.sendTransaction({from:eth.accounts[0], to:eth.accounts[1],value:10000});\n",
    "console.log('...mining start');\n",
    "miner.start(1);admin.sleepBlocks(1);miner.stop();\n",
    "console.log('mining done...');\n",
    "console.log('block number: ', eth.blockNumber);\n",
    "console.log('wei balance: ', web3.fromWei(eth.getBalance(eth.accounts[0]),\"ether\"));\n",
    "\n",
    "!geth --exec 'loadScript(\"src/e_test0.js\")' attach http://117.16.44.45:8445"
   ]
  },
  {
   "cell_type": "code",
   "execution_count": 1,
   "metadata": {
    "collapsed": false,
    "slideshow": {
     "slide_type": "subslide"
    }
   },
   "outputs": [
    {
     "name": "stdout",
     "output_type": "stream",
     "text": [
      "\u001b[31m185000000000000000000\u001b[0m\r\n"
     ]
    }
   ],
   "source": [
    "!geth --exec \"eth.getBalance(eth.accounts[1])\" attach ethhttp://117.16.44.45:8445"
   ]
  },
  {
   "cell_type": "code",
   "execution_count": 2,
   "metadata": {
    "collapsed": false,
    "slideshow": {
     "slide_type": "subslide"
    }
   },
   "outputs": [
    {
     "name": "stdout",
     "output_type": "stream",
     "text": [
      "\u001b[91mError: authentication needed: password or unlock\r\n",
      "    at web3.js:3143:20\r\n",
      "    at web3.js:6347:15\r\n",
      "    at web3.js:5081:36\r\n",
      "    at <anonymous>:1:1\r\n",
      "\u001b[0m\r\n"
     ]
    }
   ],
   "source": [
    "!geth --exec \"eth.sendTransaction({from:eth.accounts[1], to:eth.accounts[0],value:10000})\" attach http://117.16.44.45:8445 "
   ]
  },
  {
   "cell_type": "markdown",
   "metadata": {
    "slideshow": {
     "slide_type": "subslide"
    }
   },
   "source": [
    "* 스크립트로 실행한다. 거래가 발생하고, 마이닝을 하고 나면, bloack number가 하나 증가한다."
   ]
  },
  {
   "cell_type": "code",
   "execution_count": 4,
   "metadata": {
    "collapsed": false,
    "slideshow": {
     "slide_type": "subslide"
    }
   },
   "outputs": [
    {
     "name": "stdout",
     "output_type": "stream",
     "text": [
      "Overwriting src/e_testTran.js\n"
     ]
    }
   ],
   "source": [
    "%%writefile src/e_testTran.js\n",
    "console.log('wei balance: ', web3.fromWei(eth.getBalance(eth.accounts[0]),\"ether\"));\n",
    "console.log('block number: ', eth.blockNumber);\n",
    "var t=eth.sendTransaction({from:eth.accounts[0], to:eth.accounts[1],value:10000});\n",
    "console.log('transactionHash: ',t);\n",
    "console.log('...mining start');\n",
    "miner.start(1);admin.sleepBlocks(1);miner.stop();\n",
    "console.log('mining done...');\n",
    "console.log('block number: ', eth.blockNumber);\n",
    "console.log('wei balance: ', web3.fromWei(eth.getBalance(eth.accounts[0]),\"ether\"));"
   ]
  },
  {
   "cell_type": "code",
   "execution_count": 5,
   "metadata": {
    "collapsed": false,
    "scrolled": true,
    "slideshow": {
     "slide_type": "subslide"
    }
   },
   "outputs": [
    {
     "name": "stdout",
     "output_type": "stream",
     "text": [
      "wei balance:  337759.843749999999969\n",
      "block number:  70294\n",
      "transactionHash:  0x5e5ea086be169969e36f17ffe6f9fd942d255b36fa04d26c4fce815f7c7564fb\n",
      "...mining start\n",
      "mining done...\n",
      "block number:  70295\n",
      "wei balance:  337764.843749999999949\n",
      "\u001b[1mtrue\u001b[0m\n"
     ]
    }
   ],
   "source": [
    "!geth --exec 'loadScript(\"src/e_testTran.js\")' attach http://117.16.44.45:8445"
   ]
  },
  {
   "cell_type": "markdown",
   "metadata": {
    "slideshow": {
     "slide_type": "subslide"
    }
   },
   "source": [
    "### 1-2 다른 기계, 다른 계정으로 송금하기\n",
    "\n",
    "* 117.16.44.45에서 117.16.44.46 (\"0x519775cc61e4c9b3f19b75426a7a3696a3c85035\") 으로 송금\n",
    "* 117.16.44.45에서 멀티노드의 117.16.44.46 계정 잔고를 알 수 있다."
   ]
  },
  {
   "cell_type": "code",
   "execution_count": 7,
   "metadata": {
    "collapsed": false,
    "slideshow": {
     "slide_type": "subslide"
    }
   },
   "outputs": [
    {
     "name": "stdout",
     "output_type": "stream",
     "text": [
      "\u001b[31m10000\u001b[0m\r\n"
     ]
    }
   ],
   "source": [
    "!geth --exec 'eth.getBalance(\"0x519775cc61e4c9b3f19b75426a7a3696a3c85035\");' attach http://117.16.44.45:8445 "
   ]
  },
  {
   "cell_type": "code",
   "execution_count": 10,
   "metadata": {
    "collapsed": false,
    "slideshow": {
     "slide_type": "subslide"
    }
   },
   "outputs": [
    {
     "name": "stdout",
     "output_type": "stream",
     "text": [
      "Overwriting src/e_testTran2.js\n"
     ]
    }
   ],
   "source": [
    "%%writefile src/e_testTran2.js\n",
    "var hqaccount=\"0x519775cc61e4c9b3f19b75426a7a3696a3c85035\";\n",
    "console.log('hq account balance: ', eth.getBalance(hqaccount));\n",
    "console.log('block number: ', eth.blockNumber);\n",
    "var t=eth.sendTransaction({from:eth.accounts[0], to:hqaccount, value:10000});\n",
    "console.log('transactionHash: ',t);\n",
    "console.log('...mining start');\n",
    "miner.start(1);admin.sleepBlocks(1);miner.stop();\n",
    "console.log('mining done...');\n",
    "console.log('block number: ', eth.blockNumber);\n",
    "console.log('hq account balance: ', eth.getBalance(hqaccount));"
   ]
  },
  {
   "cell_type": "code",
   "execution_count": 11,
   "metadata": {
    "collapsed": false,
    "scrolled": false
   },
   "outputs": [
    {
     "name": "stdout",
     "output_type": "stream",
     "text": [
      "hq account balance:  20000\n",
      "block number:  70296\n",
      "transactionHash:  0x15b17f04f20322cc8ee14aef9a9b617ec77935f29ce313a78ad1388241607e6c\n",
      "...mining start\n",
      "mining done...\n",
      "block number:  70297\n",
      "hq account balance:  30000\n",
      "\u001b[1mtrue\u001b[0m\n"
     ]
    }
   ],
   "source": [
    "!geth --exec 'loadScript(\"src/e_testTran2.js\")' attach http://117.16.44.45:8445"
   ]
  },
  {
   "cell_type": "code",
   "execution_count": null,
   "metadata": {
    "collapsed": true
   },
   "outputs": [],
   "source": []
  }
 ],
 "metadata": {
  "kernelspec": {
   "display_name": "Python 2",
   "language": "python",
   "name": "python2"
  },
  "language_info": {
   "codemirror_mode": {
    "name": "ipython",
    "version": 2
   },
   "file_extension": ".py",
   "mimetype": "text/x-python",
   "name": "python",
   "nbconvert_exporter": "python",
   "pygments_lexer": "ipython2",
   "version": "2.7.17"
  }
 },
 "nbformat": 4,
 "nbformat_minor": 0
}
