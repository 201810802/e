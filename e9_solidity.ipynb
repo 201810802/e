{
 "cells": [
  {
   "cell_type": "markdown",
   "metadata": {
    "slideshow": {
     "slide_type": "slide"
    }
   },
   "source": [
    "#  9. Solidity\n",
    "\n",
    "* Last Updated 20200518MON1200 20190605WEB1200 20190120SUN0000 20180707SAT1300 20170112\n",
    "* todo: 1) library ```myLib+StringUtils``` 2) 계정에서 발생한 거래의 목록? 4) registry\n",
    "\n",
    "## 9.1 학습내용\n",
    "\n",
    "### 9.1.1 목표\n",
    " \n",
    "* solidity 파일\n",
    "* value type, reference type\n",
    "* bool, int, string, address 등 데이터타입을 배우기"
   ]
  },
  {
   "cell_type": "markdown",
   "metadata": {
    "slideshow": {
     "slide_type": "slide"
    }
   },
   "source": [
    "### 9.1.2 목차\n",
    "\n",
    "* 9.2 [Solidity File](#9.2)\n",
    "    * Pragma\n",
    "    * Import\n",
    "    * Contract\n",
    "    * comments\n",
    "* 9.3 컨트랙의 구조\n",
    "    * SimpleContract.sol\n",
    "* 9.4 데이터 타잎\n",
    "    * 9.4.1 타잎 구분\n",
    "    * 실습: DataTypeTest.sol\n",
    "    * 9.4.2 [계정주소](#9.4.2)\n",
    "    * 9.4.3 [저장장소](#9.4.3)\n",
    "    * 9.4.4 [가시성](#9.4.3)\n",
    "    * 실습: 주소 계정에서 입출금 myBank.sol\n",
    "    * 9.4.5 [conversion](#9.4.5)\n",
    "    * 실습: DataConversionTest.sol\n",
    "    * 9.4.6 [전역 변수](#9.4.6)\n",
    "    * 실습: GlobalVarsTest.sol\n",
    "    * 살습: 은행송금 BankV2"
   ]
  },
  {
   "cell_type": "markdown",
   "metadata": {
    "slideshow": {
     "slide_type": "slide"
    }
   },
   "source": [
    "## 9.2 Solidity File\n",
    "<a id='9.2'></a>\n",
    "\n",
    "또한 다른 언어에 비해 **라이브러리도 충분하지 못하여** 불편할 수도 있다. 아직 발전하고 있는 언어라서 버전업이 활발하게 되고 있고, **후방호환성**이 문제가 되기도 한다.\n",
    "\n",
    "Solidity File은 contract 소스코드를 확장자 ```.sol```로 저장한 파일이다.\n",
    "파일에는 버전 pragma, 다른 소스코드를 불러오는 import문, 도움말 comments를 포함할 수 있다.\n",
    "\n",
    "### Pragma\n",
    "```pragma```는 컴파일러 버전을 선택할 때 사용한다.\n",
    "프로그램의 첫 줄에 적는다.\n",
    "\n",
    "```python\n",
    "pragma solidity <버전>;\n",
    "```"
   ]
  },
  {
   "cell_type": "markdown",
   "metadata": {
    "slideshow": {
     "slide_type": "subslide"
    }
   },
   "source": [
    "### Import\n",
    "import는 filename의 프로그램을 읽어들여 사용하게 된다.\n",
    "\n",
    "```python\n",
    "import \"filename\"\n",
    "```\n",
    "그 파일 내 **컨트랙, 전역변수** 등을 그대로 가져오기 때문에 주의를 해야 한다.\n",
    "이로 인해 현재 파일의 전역변수와 문제를 일으킬 수 있으므로\n",
    "```import ... as ...``` 구문을 사용하기도 한다.\n",
    "\n",
    "```python\n",
    "import \"filename\" as symbolName\n",
    "```"
   ]
  },
  {
   "cell_type": "markdown",
   "metadata": {
    "slideshow": {
     "slide_type": "subslide"
    }
   },
   "source": [
    "### Contract\n",
    "\n",
    "Contract은 블록체인 상의 프로그램이지만, 그 개념이나 구현하는 객체지향언어에서 사용하는 **클래스와 유사**하다.\n",
    "따라서 클래스와 같이, Contract은 생성자, 속성, 함수로 구성한다.\n",
    "물론 객체지향의 상속, 다형성을 사용할 수 있다."
   ]
  },
  {
   "cell_type": "markdown",
   "metadata": {
    "slideshow": {
     "slide_type": "subslide"
    }
   },
   "source": [
    "### Comments\n",
    "<a id='S.1.4'></a>\n",
    "\n",
    "도움말을 적는다. C 또는 자바 언어 스타일과 동일하다.\n",
    "한 줄은 ```//```라고 맨 앞에 적어주어 도움말로 만든다.\n",
    "여러 줄은 해당 블록 앞 뒤에 ```/*...*/```를 적어준다.\n",
    "Doxygen 스타일의 @태그를 사용하는 것도 가능하다.\n",
    "```python\n",
    "/**\n",
    "@param p1 The first parameter\n",
    "@param p2 The second parameter\n",
    "@returns the returned results\n",
    "*/\n",
    "```"
   ]
  },
  {
   "cell_type": "markdown",
   "metadata": {
    "slideshow": {
     "slide_type": "slide"
    }
   },
   "source": [
    "## 9.3 컨트랙 구성\n",
    "\n",
    "### 컨트랙은 멤버변수, 함수로 구성\n",
    "\n",
    "컨트랙은 객체지향의 클래스와 같이 구성하면 된다.\n",
    "클래스가 (1) 멤버 **속성**과 (2) 멤버 **함수**로 구성하듯이 컨트랙도 마찬가지이다.\n",
    "객체지향으로서 상속을 사용하여 확장을 할 수도 있다.\n",
    "\n",
    "다음 ```SimpleChild.sol```은 단순한 컨트랙의 예제이다.\n",
    "* 상속 관계의 컨트랙은 ```is```로 표현\n",
    "* 컨트랙의 멤버 속성 **state variables**으로 ```int```, ```address```, ```mapping```을 선언\n",
    "* ```event PrintLog``` 이벤트를 선언.\n",
    "* 함수 function ```constructor```, ```deposit()```, ```queryBalance()``` 또는 ```modifier```를 가질 수 있다.\n",
    "* Child에서 부모의 함수를 상속받아 ```add()```, ```getCounter()```를 사용할 수 있다."
   ]
  },
  {
   "cell_type": "code",
   "execution_count": 1,
   "metadata": {
    "collapsed": false,
    "slideshow": {
     "slide_type": "subslide"
    }
   },
   "outputs": [
    {
     "name": "stdout",
     "output_type": "stream",
     "text": [
      "Writing src/SimpleChild.sol\n"
     ]
    }
   ],
   "source": [
    "%%writefile src/SimpleChild.sol\n",
    "pragma solidity ^0.6.0;\n",
    "\n",
    "contract Parent {\n",
    "    //state variables\n",
    "    address payable owner;\n",
    "    uint private counter;\n",
    "    \n",
    "    //constructor\n",
    "    constructor() public {\n",
    "        owner=msg.sender;\n",
    "        counter = 0;\n",
    "    }\n",
    "    //functions\n",
    "    function add() public { counter++; }\n",
    "    function getCounter() public view returns(uint) { return counter; }\n",
    "}\n",
    "\n",
    "contract SimpleChild is Parent {\n",
    "    //state variables\n",
    "    string nickName;\n",
    "    mapping(address => uint) private balances;\n",
    "    //event\n",
    "    event PrintLog(address, uint);\n",
    "    \n",
    "    //constructor\n",
    "    constructor() public {}  \n",
    "    //functions\n",
    "    function setNickName(string memory s) public { nickName = s; }\n",
    "    function getNickName() public view returns(string memory) { return nickName; }\n",
    "    function deposit() public payable {\n",
    "        balances[msg.sender] += msg.value;\n",
    "        emit PrintLog(msg.sender, msg.value);\n",
    "    }\n",
    "    function queryBalance() public view returns (uint) {\n",
    "        return balances[msg.sender];\n",
    "    }\n",
    "    //access non-private members of the parent\n",
    "    function kill() public {\n",
    "        if (msg.sender == owner) selfdestruct(owner);\n",
    "    }\n",
    "}"
   ]
  },
  {
   "cell_type": "markdown",
   "metadata": {},
   "source": [
    "### 스타일\n",
    "\n",
    "* import문은 프로그램 위에 적는다.\n",
    "* 컨트랙은 새로운 줄에 적어준다.\n",
    "* 컨트랙 간에는 2줄 띄어쓰기를 해준다.\n",
    "* 들여쓰기를 탭을 사용하지 않고 공백 4칸을 넣어준다.\n",
    "* 배열은 ```int[] x;```이라고 적어준다 (```int [] xㅣ``` 또는 ```int x[];```가 아니라)\n",
    "* 문자열은 쌍따옴표를 해준다.\n",
    "* 함수는 새로운 줄에 적어준다\n",
    "* 한 줄은 최대 79 문자를 넘지 않게 한다.\n",
    "* 괄호에서는 한 칸 띄어쓰기를 하지 않는다. ```if (x == 1)``` (```if ( x == 1 )```이 아니라)\n",
    "* 연산자 앞 뒤 1칸을 넣어준다.\n",
    "* 블록 스타일은 바로 이어서 중괄호를 연결한다.\n",
    "\n",
    "```python\n",
    "if (x==1) {\n",
    "\n",
    "}\n",
    "```\n"
   ]
  },
  {
   "cell_type": "markdown",
   "metadata": {},
   "source": [
    "### naming\n",
    "\n",
    "* 파일명은 컨트랙명과 달라도 괜찮지만 일치하도록 한다.\n",
    "* 컨트랙, Event, enum, Struct: 대문자로 시작하고, camel case 스타일로 단어의 첫글자는 대문자로 적어준다\n",
    "* 함수, 함수인자, 변수, modifier: 소문자로 시작하고 camel case로 적어준다.\n",
    "* 상수는 모두 대문자, underscore (DATE_OF_BIRTH)로 연결해서 적어준다.\n"
   ]
  },
  {
   "cell_type": "markdown",
   "metadata": {},
   "source": [
    "### reserved words\n",
    "\n",
    "Solidity에서 제공하는 예약 명령어를 알파벳 순으로 나열해보자.\n",
    "\n",
    "\"abstract\", \"after\", \"alias\", \"apply\", \"auto\", \"case\", \"catch\", \"copyof\", \"default\", \"define\", \"final\", \"immutable\", \"implements\", \"in\", \"inline\", \"let\", \"macro\", \"match\", \"mutable\", \"null\",\n",
    "\"of\", \"override\", \"partial\", \"promise\", \"reference\", \"relocatable\", \"sealed\", \"sizeof\", \"static\", \"supports\", \"switch\", \"try\", \"type\", \"typedef\", \"typeof\", \"unchecked\""
   ]
  },
  {
   "cell_type": "markdown",
   "metadata": {
    "slideshow": {
     "slide_type": "slide"
    }
   },
   "source": [
    "## 9.4 데이터 타잎\n",
    "<a id='9.3'></a>\n",
    "\n",
    "Solidity 언어는 블록체인에서 실행이 되는 까닭에 그 특성상 저장공간을 많이 사용할수록 비용이 발생하기 때문에 **저장공간을 효율적**으로 사용해야 한다.\n",
    "다른 언어에서 지원하는 데이터타입을 큰 차이 없이 사용할 수 있지만 **데이터타입**이 자세하게 나누어져서 불필요한 낭비를 줄이고 있고, **배열을 검색**하거나 **반복문**을 사용할 때도 유의해야 한다.\n",
    "그리고 소수점은 아직 지원되지 않아 float, double과 같은 자료형이 없다."
   ]
  },
  {
   "cell_type": "markdown",
   "metadata": {
    "slideshow": {
     "slide_type": "subslide"
    }
   },
   "source": [
    "### 9.4.1 타잎 구분\n",
    "\n",
    "데이터 타잎은 (1) value type, (2) reference type으로 크게 구분할 수 있다.\n",
    "\n",
    "#### **Value Type**\n",
    "\n",
    "데이터 그 자체의 **값**으로 저장되는 타입이다.\n",
    "다른 변수에 할당되거나 함수인자로 전달될 경우, 값의 복사본이 되어 전달되어서 쓰이는 **pass by value**의 특성을 가진다.\n",
    "```bool```, ```int/uint```, ```address```, ```bytes (1~32 바이트)```, ```enum```이 해당된다.\n",
    "```int```, ```bytes (1~32 바이트)```는 최대 **32바이트**로 그 값을 저장할 수 있다."
   ]
  },
  {
   "cell_type": "markdown",
   "metadata": {
    "slideshow": {
     "slide_type": "subslide"
    }
   },
   "source": [
    "#### **참조 타잎 Reference Type**\n",
    "\n",
    "**32바이트를 초과할 수 있는 크기의 데이터**를 말하며, 그 저장주소를 통해 사용하는 타입이다.\n",
    "변수에 할당되거나 매개변수로 전달될 경우, 그 저장주소가 복사되어 쓰이기 때문에 원본 데이터가 수정되면 따라서 변경된다.\n",
    "```bytes```, ```array```, ```string```, ```Struct```, ```mapping```이 해당된다."
   ]
  },
  {
   "cell_type": "markdown",
   "metadata": {
    "slideshow": {
     "slide_type": "subslide"
    }
   },
   "source": [
    "#### 타입의 구분 및 간단한 설명\n",
    "\n",
    "데이터타잎 | 설명\n",
    "----------|----------\n",
    "bool | uint8, 0 and 1의 값을 가진다\n",
    "uint<M> | unsigned integer, M은 8비트 단위로 256비트까지 가능하다 0 < M <= 256, M % 8 == 0\n",
    "int<M> | signed integer, M은 8비트 단위로 256비트까지 가능하다 0 < M <= 256, M % 8 == 0\n",
    "address | 주소. 크기가 20바이트이므로 **uint160** 이다.\n",
    "uint, int | 숫자가 붙지 않은 경우의 타입으로 uint256, int256를 의미\n",
    "bytes<M> | 바이너리 타잎, M은 32바이트까지 가능하다 0 < M <= 32. **```bytes``` (크기가 없는)는 value type이 아니다**.\n",
    "string | UTF-8 문자열, **value type이 아니다**."
   ]
  },
  {
   "cell_type": "markdown",
   "metadata": {},
   "source": [
    "### literals\n",
    "\n",
    "변수는 명칭이고, literals는 값이다.\n",
    "* 정수는 소수점 없는 양수, 음수이고 1, 10, -1, -10 등을 예를 들 수 있다.\n",
    "* string은 따옴표, 하나이든 쌍따옴표이든 상관없이 \"jsl\", 'hello' 등이 예가 될 수 있다.\n",
    "* 주소는 객체로서 20바이트 16진수로 0x로 시작하는 20바이트, 40자리수이다.\n",
    "* byte는 따옴표 없이 0x로 시작하는 16진수이다.\n",
    "\n",
    "```python\n",
    "uint age = 0x14;   //20 십진수\n",
    "bytes2 b2 = 0xFFBB;\n",
    "```\n",
    "\n",
    "* 소수점은 아직 구현되지 않아 literals는 해당되지 않는다."
   ]
  },
  {
   "cell_type": "markdown",
   "metadata": {},
   "source": [
    "#### boolean\n",
    "Boolean은 true, false 둘 중의 하나 값을 가지는 데이터타압이다.\n",
    "비교연산자 (==, !=, !, >, <), 논리연산자 (&& ||)의 결과가 true, false 와 같이 boolean이 된다.\n",
    "\n",
    "```python\n",
    "bool isMarried=true;\n",
    "```"
   ]
  },
  {
   "cell_type": "markdown",
   "metadata": {
    "slideshow": {
     "slide_type": "subslide"
    }
   },
   "source": [
    "#### int\n",
    "```int```는 정수를 가지는 타입이고 ```signed```, ```unsigned```로 구분할 수 있다.\n",
    "* ```signed int```는 양수, 음수 모두 허용되며\n",
    "* ```unsigned int```는 양수만 사용할 수 있다.\n",
    "\n",
    "그 크기는 8, 16, 24, 32 이런 식으로 8바이트 단위로 증가하고 **최대 32**바이트까지 사용할 수 있다.\n",
    "크기를 적지 않으면 256비트로 간주한다. **기본 값 default value은 0**이다.\n",
    "```+, -, *, /, %, **, ++, --, +=, -=```와 같은 산술연산자를 사용할 수 있다.\n",
    "\n",
    "```python\n",
    "int256 x=1;\n",
    "```"
   ]
  },
  {
   "cell_type": "markdown",
   "metadata": {},
   "source": [
    "#### fixed/unfixed\n",
    "\n",
    "fixed, unfixed는 각 각 signed, unsigned 소수점 숫자를 말한다.\n",
    "선언은 할 수 있지만, 값을 할당하면 ```UnimplementedFeatureError``` 오류가 발생한다."
   ]
  },
  {
   "cell_type": "markdown",
   "metadata": {},
   "source": [
    "줄 | 설명\n",
    "-----|-----\n",
    "1 | 컴파일러 0.6의 최신 버전으로 설정. 다음 명령문 ```^0.6.0```은 메이저버전 6, 마이너버전 0을 의미한다. 맨 앞 ```^``` caret는 메이저버전으로 시작하는 최신버전을 선택한다는 의미이다. 따라서 현재 발표된 최신 버전이 0.5.3이므로, 이를 선택하게 된다.\n",
    "10 | ```update()``` 함수에서 멤버변수의 값을 갱신할 수 있다.\n",
    "13 | 매개변수 ```int```를 넘겨준다. ```int```와 ```uint```의 형변환이 필요하다.\n",
    "23 | ```assert()```가 오류이면 ```Exception```이 발생하고, 다음 줄이 실행이 되지 않는다. 즉 ```x==1```인 경우 ```true```가 반환된다."
   ]
  },
  {
   "cell_type": "code",
   "execution_count": 4,
   "metadata": {
    "collapsed": false
   },
   "outputs": [
    {
     "name": "stdout",
     "output_type": "stream",
     "text": [
      "Overwriting src/IntBool.sol\n"
     ]
    }
   ],
   "source": [
    "%%writefile src/IntBool.sol\n",
    "pragma solidity ^0.6.0;\n",
    "\n",
    "contract IntBoolTest {\n",
    "    bool married = true;\n",
    "    uint256 xAge = 22;\n",
    "    uint256 yAge = 25;\n",
    "    //fixed phi; // = 3.14;\n",
    "    function update() public {\n",
    "        xAge = yAge;\n",
    "        yAge = 33;\n",
    "    }\n",
    "    function setXAge(int age) public {\n",
    "        xAge = uint(age);  //converstion\n",
    "    }\n",
    "    function getXAge() public view returns(uint) {\n",
    "        return xAge;\n",
    "    }\n",
    "    function getYAge() public view returns(uint) {\n",
    "        return yAge;\n",
    "    }\n",
    "    function testInt() public view returns(bool) {\n",
    "        assert(xAge>=20 && yAge>=20);\n",
    "        return true;\n",
    "    }\n",
    "    function isMarried() public view returns(bool) {\n",
    "        return married;\n",
    "    }\n",
    "}"
   ]
  },
  {
   "cell_type": "markdown",
   "metadata": {
    "slideshow": {
     "slide_type": "subslide"
    }
   },
   "source": [
    "#### 고정크기 byte array\n",
    "\n",
    "```bytes```는 ```bytes1``` ~ ```bytes32``` 사이의 어떤 크기로 선언할 수 있다.\n",
    "그러니까 **최대 32바이트까지 1바이트 단위**로 크기를 늘릴 수 있다.\n",
    "byte, bytes32는 hex 값 뿐만 아니라 정수, 문자, 문자열을 가질 수 있다.\n",
    "```byte```는 1 바이트, 8비트의 길이를 가진다. 따라서 ```byte``` (bytes가 아님)는 ```bytes1```과 동일하다. \n",
    "\n",
    "**bytes literals는 따옴표 없이 0x를 붙여서** 0xFF와 같다.\n",
    "문자열을 입력할 수 있지만, hex 값이 저장된다.\n",
    "\n",
    "```python\n",
    "bytes1 x= 0xFF;\n",
    "bytes23 place1 = \"7 hongji-dong jongro-gu\";\n",
    "bytes8 place2 = \"7 hongji\"; //결과값은 0x3720686f6e676a69\n",
    "```\n",
    "\n",
    "문자 | ascii | hex\n",
    "-----|-----|-----\n",
    "7 | 55 | 37\n",
    "space | 32 | 20\n",
    "h | 104 | 68\n",
    "o | 111 | 6f\n",
    "n | 110 | 6e\n",
    "g | 103 | 67\n",
    "j | 106 | 6a\n",
    "i | 105 | 69"
   ]
  },
  {
   "cell_type": "markdown",
   "metadata": {
    "slideshow": {
     "slide_type": "subslide"
    }
   },
   "source": [
    "#### 변동크기 byte array\n",
    "\n",
    "```bytes```는 고정크기의 그것과 혼돈하기 쉬운데, 여기서는 크기를 뜻하는 **숫자가 없는** 경우를 말한다. 또는 ```string```은 그 크기가 정해져 있지 않아서 가변적이다.\n",
    "길이 제한이 없는 경우 사용한다.\n",
    "string은 UTF8 형식으로 문자열을 저장한다.\n",
    "\n",
    "크기를 알려주는 ```bytes.length```를 사용할 수 있다.\n",
    "```string```의 ```length```는 ```bytes(string).length```로 **형변환을 ```bytes```로 한 후**에야만 가능하다.\n",
    "배열의 인덱스를 넣어 ```bytes(s)[2]```로 3번째 값을 읽을 수 있다.\n",
    "\n",
    "```python\n",
    "string s = \"hello\";\n",
    "```\n",
    "\n",
    "상수는 ```constant```로 표현한다.\n",
    "```python\n",
    "string constant name=\"jsl\";  //상수는 ```constant```로 표현한다.\n",
    "```"
   ]
  },
  {
   "cell_type": "markdown",
   "metadata": {},
   "source": [
    "\n",
    "줄 | 설명\n",
    "-----|-----\n",
    "1 | 컴파일러 0.6의 최신 버전으로 설정\n",
    "5 | ```bytes1```은 ```byte```과 동일한 의미\n",
    "6 | ```bytes23```에는 23글자를 입력. 한 글자를 추가하면 오류가 발생된다.\n",
    "7 | ```bytes8```에는 8글자를 입력.\n",
    "9 | ```myBytes```의 기본 값은 0, 3바이트 이므로 0x000000\n",
    "10 | ```string```은 utf-8로 저장되므로, 16진수가 아니라 \"jsl\"\n",
    "12 | ```byte1```을 ```byte```로 반환하는 경우 형변환이 필요없다.\n",
    "17 | ```bytes1```로 선언된 b1을 ```byte```로 반환한다. ```byte```와 ```bytes1```은 동일한 의미.\n",
    "18 | ```bytes23```과 같이 정해진 경우, memory를 사용하지 않는다. 그러나 bytes와 같은 ref type은 memory를 사용한다.\n",
    "22 | ```bytes```는 동적배열이다. ```getBytes()```는 3글자로 설정된 동적배열을 memory로 반환한다. 그 반환 값이 16진수로 출력.\n",
    "24~27 | ```bytes23.length```는 23이 반환된다.\n",
    "27~31 | 가변크기 ```bytes.length```는 23이 반환된다. 같은 값을 가지고 있는 ```place23```과 같은 크기.\n",
    "34-36 | 매개변수는 hex로 넣어준다. a의 hex는 61이다. bytes1은 \"0x61\",  bytes2 \"0x6161\"로 입력한다. 2바이트 넘거나, utf-8 문자열을 넣으면 오류이다.\n",
    "37-39 | ```myBytes```는 3바이트로 할당되었으므로 크기에 맞추어 넣어준다. UTF-8로 넣어주어도 되고 **\"smu\"로 넣어주면 0x736d75**로 hex값으로 저장된다\n",
    "40~44 | <string>.length는 오류. 반드시 ```string```을 ```bytes```로 변환해서 ```length```를 구한다.\n",
    "46~49 | 한글을 입력하려면 string을 사용한다."
   ]
  },
  {
   "cell_type": "code",
   "execution_count": 3,
   "metadata": {
    "collapsed": false
   },
   "outputs": [
    {
     "name": "stdout",
     "output_type": "stream",
     "text": [
      "Overwriting src/ByteStringTest.sol\n"
     ]
    }
   ],
   "source": [
    "%%writefile src/ByteStringTest.sol\n",
    "pragma solidity ^0.6.0;\n",
    "contract ByteStringTest {\n",
    "    byte b = 0xFF;\n",
    "    bytes1 b1 = 0xFF;\n",
    "    bytes2 b2 = 0xFFAA;\n",
    "    bytes8 place8 = \"7 hongji\";\n",
    "    bytes23 place23 = \"7 hongji-dong jongro-gu\";\n",
    "    bytes place = \"7 hongji-dong jongro-gu Seoul\"; //variable length\n",
    "    bytes myBytes = new bytes(3);  //0x000000\n",
    "    string constant name = \"jsl\"; //utf-8 string \"jsl\"\n",
    "    function getB1() public view returns(byte) {\n",
    "        return b1;  //byte, so no casting required\n",
    "    }\n",
    "    function getB2() public view returns(bytes2) {\n",
    "        return b2;\n",
    "    }\n",
    "    function getB23() public view returns(bytes23) {\n",
    "        return place23;  //fixed size, value type (no memory)\n",
    "    }\n",
    "    /**@return hex bytes. reference type should be set as memory*/\n",
    "    function getBytes() public view returns(bytes memory) {\n",
    "        return myBytes;  //smu in hex 0x736d75\n",
    "    }\n",
    "    function getLengOfBytes23 () view public returns(uint) {\n",
    "        return place23.length;  // returns 23\n",
    "    }\n",
    "    function getLenOfBytes() pure public returns(uint) {\n",
    "        bytes memory bm = \"7 hongji-dong jongro-gu\";\n",
    "        return bm.length;        // returns 23\n",
    "    }\n",
    "    //need the arg in hex e.g. bytes1 0x61 bytes2 0x6161\n",
    "    //a 61, b 62, ... , y 79\n",
    "    //try invalid type, e.g. bytes2 0x61 or 0x616161\n",
    "    function setB2(bytes2 _b2) public {\n",
    "        b2=_b2;\n",
    "    }\n",
    "    function setBytes() public {\n",
    "        myBytes=\"smu\";\n",
    "    }\n",
    "    function getLenOfString() pure public returns(uint) {\n",
    "        string memory nameLocal=\"jslLocal\";\n",
    "        //return nameLocal.length;  //error, casting required\n",
    "        return bytes(nameLocal).length;\n",
    "    }\n",
    "    function getString() pure public returns(string memory) {\n",
    "        string memory s = \"한글\";\n",
    "        //bytes memory b4 = \"한글\";  //ok. bytes is a ref type, so memory used\n",
    "        return s;\n",
    "    }\n",
    "}"
   ]
  },
  {
   "cell_type": "markdown",
   "metadata": {
    "slideshow": {
     "slide_type": "subslide"
    }
   },
   "source": [
    "#### struct\n",
    "\n",
    "struct은 서로 관련있는 데이터를 그에 맞는 데이터타잎으로 구성하여 묶어서 사용할 수 있다.\n",
    "CapWords 스타일로 첫글자는 대문자로 적어준다.\n",
    "Student를 uint, string, bool을 가지게 만들면 다음과 같다.\n",
    "\n",
    "```python\n",
    "struct Student {\n",
    "        uint num;\n",
    "        string name;\n",
    "        bool isEnrolled; \n",
    "}\n",
    "Student s1=Student(201911111,\"jslim\",true); \n",
    "```"
   ]
  },
  {
   "cell_type": "markdown",
   "metadata": {},
   "source": [
    "줄 | 설명\n",
    "-----|-----\n",
    "1 | 컴파일러 0.6의 최신 버전으로 설정\n",
    "12 | ```uint```, ```bool```은 value 타입이고 ```string```은 reference 타입이라 ```memory``` 공간을 사용한다.\n",
    "17~22 | ```struct```은 반환할 수 없다. 항목 하나 하나를 반납한다. **web3에서 반환할 경우에는 문자열로 변환하여서 toString() 출력**할 수 있다.\n",
    "24~26 | 새로운 ```Student```를 지역변수 ```s3```로 만들고, 이름만 반환한다. 주의할 점은 s3를 ```storage```, ```memory``` 선택할 수 있으나 오른쪽에서 ```Student```를 지역에서 생성하고 있으므로 ```memory```를 사용하도록 적는다."
   ]
  },
  {
   "cell_type": "code",
   "execution_count": 2,
   "metadata": {
    "collapsed": false
   },
   "outputs": [
    {
     "name": "stdout",
     "output_type": "stream",
     "text": [
      "Overwriting src/StructTest.sol\n"
     ]
    }
   ],
   "source": [
    "%%writefile src/StructTest.sol\n",
    "pragma solidity ^0.6.0;\n",
    "contract StructTest {\n",
    "    struct Student {\n",
    "        uint num;\n",
    "        string name;\n",
    "        bool isEnrolled;\n",
    "    }\n",
    "    Student s1=Student(201911111,\"jslim\",true);\n",
    "    Student s2;\n",
    "    //memory only for string type\n",
    "    //201711111,\"kim\",false\n",
    "    function setStudent2(uint n, string memory sn, bool e) public {\n",
    "        s2.num = n;\n",
    "        s2.name = sn;\n",
    "        s2.isEnrolled = e;\n",
    "    }\n",
    "   function getStudent1() public view returns(uint, string memory, bool){\n",
    "       return (s1.num, s1.name, s1.isEnrolled);\n",
    "   }\n",
    "   function getStudent2() public view returns(uint, string memory, bool){\n",
    "       return (s2.num, s2.name, s2.isEnrolled);\n",
    "   }\n",
    "   function getStudentName() pure public returns(string memory) {\n",
    "       //the right is locally created, so memory (not storage) is declared\n",
    "       Student memory s3 = Student(201911112, \"jsl3\", true);\n",
    "       return s3.name;\n",
    "   }\n",
    "}"
   ]
  },
  {
   "cell_type": "markdown",
   "metadata": {
    "slideshow": {
     "slide_type": "subslide"
    }
   },
   "source": [
    "#### enumeration\n",
    "\n",
    "```enum```은 요소로 구성된 데이터 타잎을 정의할 경우 사용한다.\n",
    "예를 들면, 요일과 같이 월, 화, 수, 목, 금, 토를 '집합'을 구성할 경우 ```enum```을 사용한다. \n",
    "요소는 **0부터 시작하여 정수 값**을 가진다.\n",
    "**비교**에 사용하며, 존재하지 않는 선택으로 인한 오류를 막을 수 있어 유용하다.\n",
    "아래는 성별을 남, 녀로 구성한 ```enum```이다. 앞 글자는 대문자로 적어준다.\n",
    "\n",
    "```python\n",
    "enum Gender {male, female}\n",
    "```\n",
    "\n",
    "요일을 ```enum```으로 구성하면 다음과 같다.\n",
    "```python\n",
    "enum Day {SUNDAY, MONDAY, TUESDAY, WEDNESDAY, THURSDAY, FRIDAY, SATURDAY}\n",
    "```\n"
   ]
  },
  {
   "cell_type": "markdown",
   "metadata": {},
   "source": [
    "줄 | 설명\n",
    "-----|-----\n",
    "1 | 컴파일러 0.6의 최신 버전으로 설정\n",
    "4 | **```enum```이름.변수명**으로 사용하고, 요소는 index로 읽거나 출력한다.\n",
    "8 | ```getMyDay()```는 정수 값을 반환한다.\n",
    "11 | 매개변수를 넘겨줄 때, ```Day``` 타입을 맞추어 줄 수 없다면 정수를 적어준다.\n",
    "17 | 요소에 해당하는 값을 index로 설정할 수 있다."
   ]
  },
  {
   "cell_type": "code",
   "execution_count": 1,
   "metadata": {
    "collapsed": false
   },
   "outputs": [
    {
     "name": "stdout",
     "output_type": "stream",
     "text": [
      "Overwriting src/EnumTest.sol\n"
     ]
    }
   ],
   "source": [
    "%%writefile src/EnumTest.sol\n",
    "pragma solidity ^0.6.0;\n",
    "contract EnumTest {\n",
    "    enum Day {MONDAY,TUESDAY,WEDNESDAY,THURSDAY,FRIDAY,SATURDAY,SUNDAY}\n",
    "    Day myDay = Day.FRIDAY; //index int4\n",
    "    \n",
    "    /* @return Day  returning index*/\n",
    "    function getMyDay() public view returns(Day) {\n",
    "        return myDay;   //index\n",
    "    }\n",
    "    /* @param d  ok to pass an integer (uint8)\n",
    "    function setMyDay(Day d) public {\n",
    "        myDay = d;\n",
    "    }\n",
    "    //uint is converted to uint8, which is default\n",
    "    function setMyDayInt(uint d) public {\n",
    "        myDay = Day(d);\n",
    "    }\n",
    "}"
   ]
  },
  {
   "cell_type": "markdown",
   "metadata": {
    "slideshow": {
     "slide_type": "subslide"
    }
   },
   "source": [
    "#### 배열\n",
    "\n",
    "1) 고정배열은 그 크기가 사전에 정해지게 된다.\n",
    "2) 반면에 동적 배열은 그 크기가 사전에 정해지지 않는다.\n",
    "배열의 크기는 고정, 변동배열 모두 ```length```로 알 수 있다.\n",
    "동적배열에 대해서 요소를 추가하거나 ```push```, 제거하거나 ```pop``` 함수를 사용할 수 있다.\n",
    "\n",
    "* ```length```: 배열의 길이, 즉 몇 개의 요소가 포함되어 있는지 출력한다.\n",
    "* ```push```: 배열에 요소를 추가하고, 동적배열, ```bytes```에 사용할 수 있고 ```string```에는 쓰지 못한다.\n",
    "* ```pop```: 배열에서 요소를 제거하는 함수이다. 동적배열, ```bytes```에 사용할 수 있고 ```string```에는 쓰지 못한다."
   ]
  },
  {
   "cell_type": "code",
   "execution_count": 6,
   "metadata": {
    "collapsed": false
   },
   "outputs": [
    {
     "name": "stdout",
     "output_type": "stream",
     "text": [
      "Overwriting src/ArrayTest.sol\n"
     ]
    }
   ],
   "source": [
    "%%writefile src/ArrayTest.sol\n",
    "pragma solidity ^0.6.0;\n",
    "contract ArrayTest {\n",
    "    uint[3] ages = [15, 25, 35];\n",
    "    int[] marks; //dynamic ArrayTest\n",
    "    \n",
    "    /* @param index  array index\n",
    "       @param val    value at the index*/\n",
    "    function updateAges(uint index, uint val) public {\n",
    "        if(index>=0 && index <=2)\n",
    "            ages[index] = val;\n",
    "    }\n",
    "    function initMarks() public {\n",
    "        marks = new int[](5);   // default 0\n",
    "    }\n",
    "    function appendMark(int mark) public {\n",
    "        marks.push(mark);\n",
    "    }\n",
    "    function popMark() public {\n",
    "        marks.pop();\n",
    "    }\n",
    "    /* @return dynamic array, so memory is used*/\n",
    "    function getMarks() public view returns(int[] memory) {\n",
    "        return marks;\n",
    "    }\n",
    "    /* @return fixed array, so memory is used*/\n",
    "    function getAges() public view returns(uint[3] memory) {\n",
    "        return ages;\n",
    "    }\n",
    "    function getLenOfArr() pure public returns(uint) {\n",
    "        //memory is used because locally created array is assigned\n",
    "        uint8[3] memory intArr = [0, 1, 2];\n",
    "        return intArr.length;\n",
    "    }\n",
    "}"
   ]
  },
  {
   "cell_type": "markdown",
   "metadata": {},
   "source": [
    "### 9.4.2 address\n",
    "<a id='9.4.2'></a>\n",
    "\n",
    "address는 계정의 주소로서 **20 바이트** 길이를 가진다.\n",
    "**address 객체**로서 잔고를 조회하거나, 입출금을 할 수 있으며, 이 경우 ```address payable```로 선언해야 한다.\n",
    "\n",
    "### 잔고조회\n",
    "\n",
    "계정의 잔액 wei를 조회할 수 있고, 반드시 자신이 아니더라도 누구나 읽을 수 있다.\n",
    "현재 컨트랙의 잔고는 ```address(this).balance```로 구할 수 있다.\n",
    "```this.balance```와 같이 하면 ```this```는 현재 인스턴스를 의미하기 때문에 잔고를 구할 수 없다.\n",
    "Solidity 0.5.0부터 ```this.balance```는 사용이 금지되었고, ```address(this).balance```를 사용해야 한다.\n",
    "this는 contract 자신의 주소를 말한다.\n",
    "\n",
    "```python\n",
    "this.myFunction()\n",
    "```"
   ]
  },
  {
   "cell_type": "markdown",
   "metadata": {
    "slideshow": {
     "slide_type": "slide"
    }
   },
   "source": [
    "#### 송금\n",
    "\n",
    "또한 **출금**을 할 수 있다.\n",
    "은행거래에서도 타인의 계좌에서 임의로 인출이 허용되지 않는 것처럼\n",
    "**출금은 자신의 주소에서만 가능**하다.\n",
    "자신의 주소는 스스로 unlock, sign을 할 수 있는 권한이 있고, 그에 따라 출금이 가능한 것이 당연한다.\n",
    "그러나 임의의 주소에서 누군가 출금을 한다는 것은 비상식적이다.\n",
    "금액의 단위는 Wei이다.\n",
    "물론 **입금은 어느 계정으로든 가능**하다.\n",
    "\n",
    "0.5.0 버전부터 주소에서 transfer() 함수를 사용하여 송금하려면 \n",
    "```address payable```로 선언해야 한다.\n",
    "\n",
    "```python\n",
    "address payable owner;\n",
    "```"
   ]
  },
  {
   "cell_type": "markdown",
   "metadata": {},
   "source": [
    "#### send()\n",
    "\n",
    "send() 함수는 계정으로 입금을 하고, 그 결과를 **성공 또는 실패를 나타내는 boolean으로 반환**한다.\n",
    "문제는 출금계정에서 출금은 했으나, 수신계정으로 입금이 실패했을 경우에 발생한다.\n",
    "송금이 성공적으로 이루어지 않았다면, ```call statck error``` 또는 ```out of gas error``` 등의 이유로 실패하는 경우에도 **예외 **Exception이 발생하지 않고 false를 반환**하게 된다.\n",
    "\n",
    "송금이 실패한 경우에 주의해야 하며, 금액을 출금계정으로 반환하거나, 적절한 처리 로직을 넣어 주어야 한다.\n",
    "Solidity 0.4.10 이전에는 ```if(!address.send(amount)) throw;```와 같이 코딩을 했으나,\n",
    "```require(address.send(amount)```로 코딩하도록 한다.\n",
    "\n",
    "receiver.send()에 대해, receiver fallback함수가 실행되면, 최대 2300 gas를 사용할 수 있다. 2300을 초과하는 금액저장, 송금, 다른 컨트랙을 호출하면 out-of-gas 예외가 발생한다.\n",
    "    \n",
    "```throw```는 송금액이 원위치, 송금자에게 반환된다. gas는 당연히 소비되었으므로 송금반환되지 않는다. gas 잔액이 남아도 반환되지 않고 모두 소비된 것으로 한다. 여러 계정에 송금하는 중 throw가 발생하면, 나머지 송금계정에는 송금이 아예 발생하지 않을 수 있다."
   ]
  },
  {
   "cell_type": "markdown",
   "metadata": {
    "slideshow": {
     "slide_type": "subslide"
    }
   },
   "source": [
    "```python\n",
    "address _receiver = 0x778ea91cb0d0879c22ca20c5aea6fbf8cbeed480;\n",
    "if(myAddress.balance>=10) _receiver.send(10);\n",
    "```"
   ]
  },
  {
   "cell_type": "markdown",
   "metadata": {
    "slideshow": {
     "slide_type": "subslide"
    }
   },
   "source": [
    "#### transfer()\n",
    "\n",
    "실패하면 throw 예외를 발생시키며, 호출자에게 환급된다. 따라서 send() 보다 안전하다.\n",
    "\n",
    "```python\n",
    "address.transfer(amount)\n",
    "```"
   ]
  },
  {
   "cell_type": "markdown",
   "metadata": {
    "slideshow": {
     "slide_type": "subslide"
    }
   },
   "source": [
    "#### call (두 계약 사이에 call하는 경우는 다음에 설명)\n",
    "\n",
    "call, callcode, delegatecall은 low-level이므로 가급적 사용하지 않는다.\n",
    "call함수는 gas를 정해서 처리하는 경우에 사용한다.\n",
    "이 함수는 addr.send(x)와 동일한 기능을 할 수 있다. 단, 받는 측에 gas를 사용할 수 있게 하기 때문에 악의적으로 사용될 수 있다.\n",
    "\n",
    "```python\n",
    "<address>.call.value(20) //20 Wei를 송금한다.\n",
    "```\n",
    "\n",
    "**받는 측 함수를 실행하면서 송금**.\n",
    "함수를 호출, gas는 2, 송금액은 20 Wei. 이 경우 gas금액이 적어서 실패하게 될 것이다.\n",
    "```python\n",
    "<address>.gas(2).value(20)()\n",
    "```"
   ]
  },
  {
   "cell_type": "markdown",
   "metadata": {},
   "source": [
    "```deposit```을 호출하려면 ```value```에 ether를 넣어주어야 한다.\n",
    "송금하려면 ```sendTo()```에 주소를 넣어 주어야 하는데, address literals은 따옴표 없이 넣어준다. 따옴표를 하면 문자열 타입으로 인식하게 된다.\n",
    "\n",
    "![alt text](figures/9_depositSendValue.png \"put amount in value and address without quotes\")"
   ]
  },
  {
   "cell_type": "code",
   "execution_count": 2,
   "metadata": {
    "collapsed": false
   },
   "outputs": [
    {
     "name": "stdout",
     "output_type": "stream",
     "text": [
      "Writing src/AddressTest.sol\n"
     ]
    }
   ],
   "source": [
    "%%writefile src/AddressTest.sol\n",
    "pragma solidity ^0.6.0;\n",
    "contract AddressTest {\n",
    "    address owner;\n",
    "    address payable receiver;\n",
    "    uint balanceOfOwner;\n",
    "    constructor() public {\n",
    "        owner=msg.sender;\n",
    "        //myBalance = msg.sender.balance;\n",
    "        balanceOfOwner = owner.balance;\n",
    "    }\n",
    "    function deposit() payable public {\n",
    "    }\n",
    "    /* @param addr  set as payable because it will get some gwei*/\n",
    "    function setReceiver(address payable addr) public {\n",
    "        receiver=addr;\n",
    "    }\n",
    "    function getBalanceOfThis() public view returns(uint) {\n",
    "        return address(this).balance;  //balance of contract\n",
    "    }\n",
    "    function getBalanceOfOwner() public view returns(uint) {\n",
    "        return owner.balance;\n",
    "    }\n",
    "    function getBalanceOfReceiver() public view returns(uint) {\n",
    "        return receiver.balance;\n",
    "    }\n",
    "    function sendTo() public payable {\n",
    "        require(receiver.send(111)); //send 111 gwei to xAddress\n",
    "        //msg.sender.transfer(address(this).balance);\n",
    "    }\n",
    "}"
   ]
  },
  {
   "cell_type": "markdown",
   "metadata": {
    "slideshow": {
     "slide_type": "subslide"
    }
   },
   "source": [
    "### 9.4.3 저장장소\n",
    "<a id='9.4.3'></a>\n",
    "\n",
    "reference type은  ```Arrays```, ```struct```, ```mapping```과 같이 32바이트 이상의 크기를 가진 복잡한 데이터 타잎이다. 이들 변수는 저장장소를 정의해 줄 수 있다.\n",
    "\n",
    "* ```storage```는 32바이트 길이의 key-value 형식으로 저장되고 계속 유지되는 경우이다. 컨트랙의 모든 함수에서 값을 볼 수 있다. 컨트랙의 상태변수는 기본 값이 ```storage```이며 일단 저장이 되면 영원히 저장된다.\n",
    "* ```memory```는 단기간 저장하는 경우에 사용된다. **지역변수**는 함수 내에서만 짧은 시간 동안 사용되므로 memory 수식어를 붙여준다. **함수의 인자 또는 반환 값은 memory**를 사용한다. 단 **struct, array or mapping과 같은 reference type은 지역변수라 하더라도 storage**가 기본 값이다.\n",
    "* ```stack```: 지역변수 (array, struct, mapping 제외)를 저장하는 stack. 1,024 수준까지 저장할 수 있고 그 이상은 예외처리 된다. 비용은 memory와 동일하다.\n",
    "* ```calldata```: **외부**에서 함수를 호출할 때 호출자가 제공하는 함수인자를 저장한다.\n",
    "\n",
    "요약하면,\n",
    "* 상태변수는 storage에 저장한다.\n",
    "* 지역변수 (함수인자/반환, value type 지역변수)는 memory를 기본 default로 사용한다.\n",
    "단, 함수에서 사용되는 reference type (struct, array, mapping, string)은 기본이 storage이고, memory를 사용하려면 선언이 필요하다."
   ]
  },
  {
   "cell_type": "markdown",
   "metadata": {
    "slideshow": {
     "slide_type": "subslide"
    }
   },
   "source": [
    "### 9.4.4 가시성\n",
    "<a id='9.4.4'></a>\n",
    "\n",
    "지역변수는 자신이 선언된 함수에 국한되어 사용할 수 있다.\n",
    "반면에 멤버변수 state varaiable은 사용할 수 있는 범위를 제어할 수 있다.\n",
    "\n",
    "* 가시성을 적어주지 않으면 기본 값은 ```internal```로 정의된다.\n",
    "```internal```은 컨트랙 내부에서만 사용할 수 있고, 상속을 하면 자식이 물려받을 수 있다는 의미이다.\n",
    "* ```external```은 ```internal```의 반대, 외부에서 호출하는 경우만 허용된다. 내부에서 사용할 경우 ```this.f()```로 호출함. \n",
    "* 외부에서 사용하려면 ```public```으로 선언하면 된다. 객체지향 ```public```과 동일한 의미이다.\n",
    "* 블록체인 내부에서 컨트랙 자신만 사용할 수 있고, 객체지향 ```private```과 동일한 의미이다.\n",
    "\n",
    "구분 | 설명 | default\n",
    "-----|-----|-----\n",
    "```public``` | 블럭체인 외부에서 누구나 사용 | no\n",
    "```private``` |  컨트랙 자신만 사용 | no\n",
    "```internal``` | 현재 컨트랙 내부에서만 또는 상속의 경우에 사용하는 경우. java의 ```protected```와 같은 의미 | yes\n",
    "```external``` | 외부에서 호출하는 경우만 허용 | no\n"
   ]
  },
  {
   "cell_type": "markdown",
   "metadata": {},
   "source": [
    "### 연산자\n",
    "\n",
    "* 산술연산자: +  - ```*```  /  ```%``` (modulus) ++ -- ```**``` (exponentiation)\n",
    "* 비교연산자: ```==``` ```!=``` ```>``` ```<``` ```>=``` ```<=```\n",
    "* 논리연산자: && || ! (부정)\n",
    "* 비트연산자: & | ^ ~\n",
    "* 할당연산자: ```=``` ```+=``` ```-=``` ```*=``` ```/=``` ```%=``` (```x = x % y```는 ```x %= y```)\n",
    "* 삼항연산자: ```?:```"
   ]
  },
  {
   "cell_type": "markdown",
   "metadata": {
    "slideshow": {
     "slide_type": "slide"
    }
   },
   "source": [
    "## 실습: 주소 계정에서 입출금\n",
    "\n",
    "앞서 geth 단말에서 account[0]에서 account[1]로 전송해보았다.\n",
    "컨트랙에서 송금하는 프로그램을 개발해 보자.\n",
    "은행을 경유하지 않고도 송금이 이루어지는 과정을 이해해 보자.\n",
    "은행없이 송금하는 경우, 서로 어떻게 신뢰할 수 있는지\n",
    "실패하는 경우에는 어떻게 복구할 수 있는지 생각해 보자.\n"
   ]
  },
  {
   "cell_type": "markdown",
   "metadata": {
    "slideshow": {
     "slide_type": "subslide"
    }
   },
   "source": [
    "### 단계 1: 컨트랙 개발\n",
    "\n",
    "줄 | 설명\n",
    "-----|-----\n",
    "5 ~ 8 | 전송자의 ```msg.value```에 입력된 ether를 contract으로 입금하는 함수이다. 주의할 점은 함수인자 amount는 ether가 아니다. 실제 입금되는 금액은 ```msg.value```이다. 단 ```msg.value```와 amount가 동일해야 입금이 실행된다. 그리고 **```payable```**로 명시해 주어야 한다.\n",
    "9 ~ 11 | ```msg.sender``` 계정으로 컨트랙 자신의 잔고, ```address(this).balance```를 전부 이체한다. ```msg.sender```는 매번 메시지를 전송할 때마다 변경되는 것이 아니라, 배포하는 시점의 전송자 즉 프로그램을 배포하는 권한을 가진 사람만이 (정확히 말하면 개인키) owner가 된다.\n",
    "12 ~ 14 | 컨트랙 자신의 잔고, ```address(this).balance```를 조회한다."
   ]
  },
  {
   "cell_type": "code",
   "execution_count": 5,
   "metadata": {
    "collapsed": false
   },
   "outputs": [
    {
     "name": "stdout",
     "output_type": "stream",
     "text": [
      "Overwriting src/myBank.sol\n"
     ]
    }
   ],
   "source": [
    "%%writefile src/myBank.sol\n",
    "pragma solidity ^0.5.0;\n",
    "\n",
    "contract myBank {\n",
    "    function deposit(uint256 amount) payable public {\n",
    "        //'value' of transacion object\n",
    "        require(msg.value == amount);\n",
    "    }\n",
    "    function withdraw() public {\n",
    "        msg.sender.transfer(address(this).balance);\n",
    "    }\n",
    "    function queryBalance() public view returns (uint256) {\n",
    "        return address(this).balance;\n",
    "    }\n",
    "}"
   ]
  },
  {
   "cell_type": "markdown",
   "metadata": {
    "slideshow": {
     "slide_type": "subslide"
    }
   },
   "source": [
    "### 단계 2: 컴파일"
   ]
  },
  {
   "cell_type": "code",
   "execution_count": 6,
   "metadata": {
    "collapsed": false
   },
   "outputs": [
    {
     "name": "stdout",
     "output_type": "stream",
     "text": [
      "Warning: This is a pre-release compiler version, please do not use it in production.\r\n",
      "\r\n",
      "======= src/myBank.sol:myBank =======\r\n",
      "Gas estimation:\r\n",
      "construction:\r\n",
      "   129 + 77200 = 77329\r\n",
      "external:\r\n",
      "   deposit(uint256):\t259\r\n",
      "   queryBalance():\t601\r\n",
      "   withdraw():\tinfinite\r\n",
      "Binary: \r\n",
      "608060405234801561001057600080fd5b50610182806100206000396000f3fe608060405260043610610051576000357c01000000000000000000000000000000000000000000000000000000009004806336f40c61146100565780633ccfd60b14610081578063b6b55f2514610098575b600080fd5b34801561006257600080fd5b5061006b6100c6565b6040518082815260200191505060405180910390f35b34801561008d57600080fd5b506100966100e5565b005b6100c4600480360360208110156100ae57600080fd5b8101908080359060200190929190505050610145565b005b60003073ffffffffffffffffffffffffffffffffffffffff1631905090565b3373ffffffffffffffffffffffffffffffffffffffff166108fc3073ffffffffffffffffffffffffffffffffffffffff16319081150290604051600060405180830381858888f19350505050158015610142573d6000803e3d6000fd5b50565b803414151561015357600080fd5b5056fea165627a7a723058200be23183b595a23b19c1edd28a441bd6edb3c079b72867b70c48245fbfc5bddb0029\r\n",
      "Contract JSON ABI \r\n",
      "[{\"constant\":true,\"inputs\":[],\"name\":\"queryBalance\",\"outputs\":[{\"name\":\"\",\"type\":\"uint256\"}],\"payable\":false,\"stateMutability\":\"view\",\"type\":\"function\"},{\"constant\":false,\"inputs\":[],\"name\":\"withdraw\",\"outputs\":[],\"payable\":false,\"stateMutability\":\"nonpayable\",\"type\":\"function\"},{\"constant\":false,\"inputs\":[{\"name\":\"amount\",\"type\":\"uint256\"}],\"name\":\"deposit\",\"outputs\":[],\"payable\":true,\"stateMutability\":\"payable\",\"type\":\"function\"}]\r\n"
     ]
    }
   ],
   "source": [
    "!solc --gas --abi --bin src/myBank.sol"
   ]
  },
  {
   "cell_type": "markdown",
   "metadata": {
    "slideshow": {
     "slide_type": "subslide"
    }
   },
   "source": [
    "### 단계 3: 컨트랙 배포"
   ]
  },
  {
   "cell_type": "code",
   "execution_count": 8,
   "metadata": {
    "collapsed": false
   },
   "outputs": [
    {
     "name": "stdout",
     "output_type": "stream",
     "text": [
      "Writing src/myBankDeploy.js\n"
     ]
    }
   ],
   "source": [
    "%%writefile src/myBankDeploy__.js\n",
    "var Web3=require('web3');\n",
    "var web3;\n",
    "if (typeof web3 !== 'undefined') {\n",
    "    web3 = new Web3(web3.currentProvider);\n",
    "} else {\n",
    "    web3 = new Web3(new Web3.providers.HttpProvider(\"http://117.16.44.45:8445\"));\n",
    "}\n",
    "var _abiArray=[{\"constant\":true,\"inputs\":[],\"name\":\"queryBalance\",\"outputs\":[{\"name\":\"\",\"type\":\"uint256\"}],\"payable\":false,\"stateMutability\":\"view\",\"type\":\"function\"},{\"constant\":false,\"inputs\":[],\"name\":\"withdraw\",\"outputs\":[],\"payable\":false,\"stateMutability\":\"nonpayable\",\"type\":\"function\"},{\"constant\":false,\"inputs\":[{\"name\":\"amount\",\"type\":\"uint256\"}],\"name\":\"deposit\",\"outputs\":[],\"payable\":true,\"stateMutability\":\"payable\",\"type\":\"function\"}];\n",
    "var _bin=\"608060405234801561001057600080fd5b50610182806100206000396000f3fe608060405260043610610051576000357c01000000000000000000000000000000000000000000000000000000009004806336f40c61146100565780633ccfd60b14610081578063b6b55f2514610098575b600080fd5b34801561006257600080fd5b5061006b6100c6565b6040518082815260200191505060405180910390f35b34801561008d57600080fd5b506100966100e5565b005b6100c4600480360360208110156100ae57600080fd5b8101908080359060200190929190505050610145565b005b60003073ffffffffffffffffffffffffffffffffffffffff1631905090565b3373ffffffffffffffffffffffffffffffffffffffff166108fc3073ffffffffffffffffffffffffffffffffffffffff16319081150290604051600060405180830381858888f19350505050158015610142573d6000803e3d6000fd5b50565b803414151561015357600080fd5b5056fea165627a7a723058200be23183b595a23b19c1edd28a441bd6edb3c079b72867b70c48245fbfc5bddb0029\";\n",
    "var _contract = web3.eth.contract(_abiArray);\n",
    "//unlock the account with a password provided\n",
    "//web3.personal.unlockAccount(web3.eth.accounts[0],'password');\n",
    "var _instance=_contract.new(\"hello world\",{data:\"0x\"+_bin,from:web3.eth.accounts[0],gas:1000000}, function(err, contract) {\n",
    "    if (!err) {\n",
    "        console.log(\"contractAddress: \", contract.address);\n",
    "        console.log(\"transactionHash: \", contract.transactionHash);\n",
    "    }\n",
    "});"
   ]
  },
  {
   "cell_type": "code",
   "execution_count": 2,
   "metadata": {
    "collapsed": false
   },
   "outputs": [
    {
     "name": "stdout",
     "output_type": "stream",
     "text": [
      "Overwriting src/myBankDeploy.js\n"
     ]
    }
   ],
   "source": [
    "%%writefile src/myBankDeploy.js\n",
    "var Web3=require('web3');\n",
    "var web3;\n",
    "if (typeof web3 !== 'undefined') {\n",
    "    web3 = new Web3(web3.currentProvider);\n",
    "} else {\n",
    "    web3 = new Web3(new Web3.providers.HttpProvider(\"http://127.0.0.1:8345\"));  //ganache-cli\n",
    "}\n",
    "var _abiArray=[{\"constant\":true,\"inputs\":[],\"name\":\"queryBalance\",\"outputs\":[{\"name\":\"\",\"type\":\"uint256\"}],\"payable\":false,\"stateMutability\":\"view\",\"type\":\"function\"},{\"constant\":false,\"inputs\":[],\"name\":\"withdraw\",\"outputs\":[],\"payable\":false,\"stateMutability\":\"nonpayable\",\"type\":\"function\"},{\"constant\":false,\"inputs\":[{\"name\":\"amount\",\"type\":\"uint256\"}],\"name\":\"deposit\",\"outputs\":[],\"payable\":true,\"stateMutability\":\"payable\",\"type\":\"function\"}];\n",
    "var _bin=\"608060405234801561001057600080fd5b50610182806100206000396000f3fe608060405260043610610051576000357c01000000000000000000000000000000000000000000000000000000009004806336f40c61146100565780633ccfd60b14610081578063b6b55f2514610098575b600080fd5b34801561006257600080fd5b5061006b6100c6565b6040518082815260200191505060405180910390f35b34801561008d57600080fd5b506100966100e5565b005b6100c4600480360360208110156100ae57600080fd5b8101908080359060200190929190505050610145565b005b60003073ffffffffffffffffffffffffffffffffffffffff1631905090565b3373ffffffffffffffffffffffffffffffffffffffff166108fc3073ffffffffffffffffffffffffffffffffffffffff16319081150290604051600060405180830381858888f19350505050158015610142573d6000803e3d6000fd5b50565b803414151561015357600080fd5b5056fea165627a7a723058200be23183b595a23b19c1edd28a441bd6edb3c079b72867b70c48245fbfc5bddb0029\";\n",
    "var _contract = new web3.eth.Contract(_abiArray);\n",
    "//unlock the account with a password provided\n",
    "//web3.personal.unlockAccount(web3.eth.accounts[0],'password');\n",
    "_contract\n",
    "    .deploy({data:\"0x\"+_bin})\n",
    "    .send({from:\"0xf84B27A6D281Df793C67Dc12A2D69FF003BB5732\",gas:1000000}, function(err, transactionHash) {\n",
    "        if (!err) {\n",
    "            console.log(\"transactionHash: \", transactionHash);\n",
    "        }\n",
    "    })\n",
    "    .then(console.log);"
   ]
  },
  {
   "cell_type": "code",
   "execution_count": 3,
   "metadata": {
    "collapsed": false
   },
   "outputs": [
    {
     "name": "stdout",
     "output_type": "stream",
     "text": [
      "transactionHash:  0xc37176b6c3a287db11e930b485e5bf817431e8cf7256e5adf546731ed088ad12\n",
      "Contract {\n",
      "  currentProvider: \u001b[36m[Getter/Setter]\u001b[39m,\n",
      "  _requestManager: RequestManager {\n",
      "    provider: HttpProvider {\n",
      "      withCredentials: \u001b[33mfalse\u001b[39m,\n",
      "      timeout: \u001b[33m0\u001b[39m,\n",
      "      headers: \u001b[90mundefined\u001b[39m,\n",
      "      agent: \u001b[90mundefined\u001b[39m,\n",
      "      connected: \u001b[33mtrue\u001b[39m,\n",
      "      host: \u001b[32m'http://127.0.0.1:8345'\u001b[39m,\n",
      "      httpAgent: \u001b[36m[Agent]\u001b[39m\n",
      "    },\n",
      "    providers: {\n",
      "      WebsocketProvider: \u001b[36m[Function: WebsocketProvider]\u001b[39m,\n",
      "      HttpProvider: \u001b[36m[Function: HttpProvider]\u001b[39m,\n",
      "      IpcProvider: \u001b[36m[Function: IpcProvider]\u001b[39m\n",
      "    },\n",
      "    subscriptions: {}\n",
      "  },\n",
      "  givenProvider: \u001b[1mnull\u001b[22m,\n",
      "  providers: {\n",
      "    WebsocketProvider: \u001b[36m[Function: WebsocketProvider]\u001b[39m,\n",
      "    HttpProvider: \u001b[36m[Function: HttpProvider]\u001b[39m,\n",
      "    IpcProvider: \u001b[36m[Function: IpcProvider]\u001b[39m\n",
      "  },\n",
      "  _provider: HttpProvider {\n",
      "    withCredentials: \u001b[33mfalse\u001b[39m,\n",
      "    timeout: \u001b[33m0\u001b[39m,\n",
      "    headers: \u001b[90mundefined\u001b[39m,\n",
      "    agent: \u001b[90mundefined\u001b[39m,\n",
      "    connected: \u001b[33mtrue\u001b[39m,\n",
      "    host: \u001b[32m'http://127.0.0.1:8345'\u001b[39m,\n",
      "    httpAgent: Agent {\n",
      "      _events: \u001b[36m[Object: null prototype]\u001b[39m,\n",
      "      _eventsCount: \u001b[33m2\u001b[39m,\n",
      "      _maxListeners: \u001b[90mundefined\u001b[39m,\n",
      "      defaultPort: \u001b[33m80\u001b[39m,\n",
      "      protocol: \u001b[32m'http:'\u001b[39m,\n",
      "      options: \u001b[36m[Object]\u001b[39m,\n",
      "      requests: {},\n",
      "      sockets: {},\n",
      "      freeSockets: \u001b[36m[Object]\u001b[39m,\n",
      "      keepAliveMsecs: \u001b[33m1000\u001b[39m,\n",
      "      keepAlive: \u001b[33mtrue\u001b[39m,\n",
      "      maxSockets: \u001b[33mInfinity\u001b[39m,\n",
      "      maxFreeSockets: \u001b[33m256\u001b[39m,\n",
      "      [\u001b[32mSymbol(kCapture)\u001b[39m]: \u001b[33mfalse\u001b[39m\n",
      "    }\n",
      "  },\n",
      "  setProvider: \u001b[36m[Function (anonymous)]\u001b[39m,\n",
      "  BatchRequest: \u001b[36m[Function: bound Batch]\u001b[39m,\n",
      "  extend: [Function: ex] {\n",
      "    formatters: {\n",
      "      inputDefaultBlockNumberFormatter: \u001b[36m[Function: inputDefaultBlockNumberFormatter]\u001b[39m,\n",
      "      inputBlockNumberFormatter: \u001b[36m[Function: inputBlockNumberFormatter]\u001b[39m,\n",
      "      inputCallFormatter: \u001b[36m[Function: inputCallFormatter]\u001b[39m,\n",
      "      inputTransactionFormatter: \u001b[36m[Function: inputTransactionFormatter]\u001b[39m,\n",
      "      inputAddressFormatter: \u001b[36m[Function: inputAddressFormatter]\u001b[39m,\n",
      "      inputPostFormatter: \u001b[36m[Function: inputPostFormatter]\u001b[39m,\n",
      "      inputLogFormatter: \u001b[36m[Function: inputLogFormatter]\u001b[39m,\n",
      "      inputSignFormatter: \u001b[36m[Function: inputSignFormatter]\u001b[39m,\n",
      "      inputStorageKeysFormatter: \u001b[36m[Function: inputStorageKeysFormatter]\u001b[39m,\n",
      "      outputProofFormatter: \u001b[36m[Function: outputProofFormatter]\u001b[39m,\n",
      "      outputBigNumberFormatter: \u001b[36m[Function: outputBigNumberFormatter]\u001b[39m,\n",
      "      outputTransactionFormatter: \u001b[36m[Function: outputTransactionFormatter]\u001b[39m,\n",
      "      outputTransactionReceiptFormatter: \u001b[36m[Function: outputTransactionReceiptFormatter]\u001b[39m,\n",
      "      outputBlockFormatter: \u001b[36m[Function: outputBlockFormatter]\u001b[39m,\n",
      "      outputLogFormatter: \u001b[36m[Function: outputLogFormatter]\u001b[39m,\n",
      "      outputPostFormatter: \u001b[36m[Function: outputPostFormatter]\u001b[39m,\n",
      "      outputSyncingFormatter: \u001b[36m[Function: outputSyncingFormatter]\u001b[39m\n",
      "    },\n",
      "    utils: {\n",
      "      _fireError: \u001b[36m[Function: _fireError]\u001b[39m,\n",
      "      _jsonInterfaceMethodToString: \u001b[36m[Function: _jsonInterfaceMethodToString]\u001b[39m,\n",
      "      _flattenTypes: \u001b[36m[Function: _flattenTypes]\u001b[39m,\n",
      "      randomHex: \u001b[36m[Function: randomHex]\u001b[39m,\n",
      "      _: \u001b[36m[Function]\u001b[39m,\n",
      "      BN: \u001b[36m[Function]\u001b[39m,\n",
      "      isBN: \u001b[36m[Function: isBN]\u001b[39m,\n",
      "      isBigNumber: \u001b[36m[Function: isBigNumber]\u001b[39m,\n",
      "      isHex: \u001b[36m[Function: isHex]\u001b[39m,\n",
      "      isHexStrict: \u001b[36m[Function: isHexStrict]\u001b[39m,\n",
      "      sha3: \u001b[36m[Function]\u001b[39m,\n",
      "      sha3Raw: \u001b[36m[Function: sha3Raw]\u001b[39m,\n",
      "      keccak256: \u001b[36m[Function]\u001b[39m,\n",
      "      soliditySha3: \u001b[36m[Function: soliditySha3]\u001b[39m,\n",
      "      soliditySha3Raw: \u001b[36m[Function: soliditySha3Raw]\u001b[39m,\n",
      "      isAddress: \u001b[36m[Function: isAddress]\u001b[39m,\n",
      "      checkAddressChecksum: \u001b[36m[Function: checkAddressChecksum]\u001b[39m,\n",
      "      toChecksumAddress: \u001b[36m[Function: toChecksumAddress]\u001b[39m,\n",
      "      toHex: \u001b[36m[Function: toHex]\u001b[39m,\n",
      "      toBN: \u001b[36m[Function: toBN]\u001b[39m,\n",
      "      bytesToHex: \u001b[36m[Function: bytesToHex]\u001b[39m,\n",
      "      hexToBytes: \u001b[36m[Function: hexToBytes]\u001b[39m,\n",
      "      hexToNumberString: \u001b[36m[Function: hexToNumberString]\u001b[39m,\n",
      "      hexToNumber: \u001b[36m[Function: hexToNumber]\u001b[39m,\n",
      "      toDecimal: \u001b[36m[Function: hexToNumber]\u001b[39m,\n",
      "      numberToHex: \u001b[36m[Function: numberToHex]\u001b[39m,\n",
      "      fromDecimal: \u001b[36m[Function: numberToHex]\u001b[39m,\n",
      "      hexToUtf8: \u001b[36m[Function: hexToUtf8]\u001b[39m,\n",
      "      hexToString: \u001b[36m[Function: hexToUtf8]\u001b[39m,\n",
      "      toUtf8: \u001b[36m[Function: hexToUtf8]\u001b[39m,\n",
      "      utf8ToHex: \u001b[36m[Function: utf8ToHex]\u001b[39m,\n",
      "      stringToHex: \u001b[36m[Function: utf8ToHex]\u001b[39m,\n",
      "      fromUtf8: \u001b[36m[Function: utf8ToHex]\u001b[39m,\n",
      "      hexToAscii: \u001b[36m[Function: hexToAscii]\u001b[39m,\n",
      "      toAscii: \u001b[36m[Function: hexToAscii]\u001b[39m,\n",
      "      asciiToHex: \u001b[36m[Function: asciiToHex]\u001b[39m,\n",
      "      fromAscii: \u001b[36m[Function: asciiToHex]\u001b[39m,\n",
      "      unitMap: \u001b[36m[Object]\u001b[39m,\n",
      "      toWei: \u001b[36m[Function: toWei]\u001b[39m,\n",
      "      fromWei: \u001b[36m[Function: fromWei]\u001b[39m,\n",
      "      padLeft: \u001b[36m[Function: leftPad]\u001b[39m,\n",
      "      leftPad: \u001b[36m[Function: leftPad]\u001b[39m,\n",
      "      padRight: \u001b[36m[Function: rightPad]\u001b[39m,\n",
      "      rightPad: \u001b[36m[Function: rightPad]\u001b[39m,\n",
      "      toTwosComplement: \u001b[36m[Function: toTwosComplement]\u001b[39m,\n",
      "      isBloom: \u001b[36m[Function: isBloom]\u001b[39m,\n",
      "      isUserEthereumAddressInBloom: \u001b[36m[Function: isUserEthereumAddressInBloom]\u001b[39m,\n",
      "      isContractAddressInBloom: \u001b[36m[Function: isContractAddressInBloom]\u001b[39m,\n",
      "      isTopic: \u001b[36m[Function: isTopic]\u001b[39m,\n",
      "      isTopicInBloom: \u001b[36m[Function: isTopicInBloom]\u001b[39m,\n",
      "      isInBloom: \u001b[36m[Function: isInBloom]\u001b[39m\n",
      "    },\n",
      "    Method: \u001b[36m[Function: Method]\u001b[39m\n",
      "  },\n",
      "  clearSubscriptions: \u001b[36m[Function (anonymous)]\u001b[39m,\n",
      "  options: {\n",
      "    address: \u001b[36m[Getter/Setter]\u001b[39m,\n",
      "    jsonInterface: \u001b[36m[Getter/Setter]\u001b[39m,\n",
      "    data: \u001b[90mundefined\u001b[39m,\n",
      "    from: \u001b[90mundefined\u001b[39m,\n",
      "    gasPrice: \u001b[90mundefined\u001b[39m,\n",
      "    gas: \u001b[90mundefined\u001b[39m\n",
      "  },\n",
      "  handleRevert: \u001b[36m[Getter/Setter]\u001b[39m,\n",
      "  defaultCommon: \u001b[36m[Getter/Setter]\u001b[39m,\n",
      "  defaultHardfork: \u001b[36m[Getter/Setter]\u001b[39m,\n",
      "  defaultChain: \u001b[36m[Getter/Setter]\u001b[39m,\n",
      "  transactionPollingTimeout: \u001b[36m[Getter/Setter]\u001b[39m,\n",
      "  transactionConfirmationBlocks: \u001b[36m[Getter/Setter]\u001b[39m,\n",
      "  transactionBlockTimeout: \u001b[36m[Getter/Setter]\u001b[39m,\n",
      "  defaultAccount: \u001b[36m[Getter/Setter]\u001b[39m,\n",
      "  defaultBlock: \u001b[36m[Getter/Setter]\u001b[39m,\n",
      "  methods: {\n",
      "    queryBalance: \u001b[36m[Function: bound _createTxObject]\u001b[39m,\n",
      "    \u001b[32m'0x36f40c61'\u001b[39m: \u001b[36m[Function: bound _createTxObject]\u001b[39m,\n",
      "    \u001b[32m'queryBalance()'\u001b[39m: \u001b[36m[Function: bound _createTxObject]\u001b[39m,\n",
      "    withdraw: \u001b[36m[Function: bound _createTxObject]\u001b[39m,\n",
      "    \u001b[32m'0x3ccfd60b'\u001b[39m: \u001b[36m[Function: bound _createTxObject]\u001b[39m,\n",
      "    \u001b[32m'withdraw()'\u001b[39m: \u001b[36m[Function: bound _createTxObject]\u001b[39m,\n",
      "    deposit: \u001b[36m[Function: bound _createTxObject]\u001b[39m,\n",
      "    \u001b[32m'0xb6b55f25'\u001b[39m: \u001b[36m[Function: bound _createTxObject]\u001b[39m,\n",
      "    \u001b[32m'deposit(uint256)'\u001b[39m: \u001b[36m[Function: bound _createTxObject]\u001b[39m\n",
      "  },\n",
      "  events: { allEvents: \u001b[36m[Function: bound ]\u001b[39m },\n",
      "  _address: \u001b[32m'0x657f2cc19b9A634e62d88E419a73DAf0AB738397'\u001b[39m,\n",
      "  _jsonInterface: [\n",
      "    {\n",
      "      constant: \u001b[33mtrue\u001b[39m,\n",
      "      inputs: [],\n",
      "      name: \u001b[32m'queryBalance'\u001b[39m,\n",
      "      outputs: \u001b[36m[Array]\u001b[39m,\n",
      "      payable: \u001b[33mfalse\u001b[39m,\n",
      "      stateMutability: \u001b[32m'view'\u001b[39m,\n",
      "      type: \u001b[32m'function'\u001b[39m,\n",
      "      signature: \u001b[32m'0x36f40c61'\u001b[39m\n",
      "    },\n",
      "    {\n",
      "      constant: \u001b[33mfalse\u001b[39m,\n",
      "      inputs: [],\n",
      "      name: \u001b[32m'withdraw'\u001b[39m,\n",
      "      outputs: [],\n",
      "      payable: \u001b[33mfalse\u001b[39m,\n",
      "      stateMutability: \u001b[32m'nonpayable'\u001b[39m,\n",
      "      type: \u001b[32m'function'\u001b[39m,\n",
      "      signature: \u001b[32m'0x3ccfd60b'\u001b[39m\n",
      "    },\n",
      "    {\n",
      "      constant: \u001b[33mfalse\u001b[39m,\n",
      "      inputs: \u001b[36m[Array]\u001b[39m,\n",
      "      name: \u001b[32m'deposit'\u001b[39m,\n",
      "      outputs: [],\n",
      "      payable: \u001b[33mtrue\u001b[39m,\n",
      "      stateMutability: \u001b[32m'payable'\u001b[39m,\n",
      "      type: \u001b[32m'function'\u001b[39m,\n",
      "      signature: \u001b[32m'0xb6b55f25'\u001b[39m\n",
      "    }\n",
      "  ]\n",
      "}\n"
     ]
    }
   ],
   "source": [
    "!node src/myBankDeploy.js"
   ]
  },
  {
   "cell_type": "markdown",
   "metadata": {
    "slideshow": {
     "slide_type": "subslide"
    }
   },
   "source": [
    "### 단계 4: 사용\n",
    "\n",
    "```deposit()```함수의 ```value:1111``` 필드를 채워주면 ```msg.value```로 전달이 된다.\n",
    "이 때 함수의 인자도 동일하게 1111 Wei를 넣어준다.\n",
    "\n",
    "```python\n",
    "myBank.deposit(1111,{from:web3.eth.accounts[0],gas:80000,value:1111})\n",
    "```\n",
    "\n",
    "마이닝을 하고나면 잔고가 1111이 된다.\n",
    "컨트랙의 ```deposit()``` 함수에서 잔고에 합산을 하지 않아도 된다.\n",
    "\n",
    "자신의 잔고에서 1111만큼 빠져나간 것을 확인해보자.\n",
    "```python\n",
    "> eth.getBalance(eth.accounts[0]);\n",
    "94999999999999998889\n",
    "```"
   ]
  },
  {
   "cell_type": "code",
   "execution_count": 9,
   "metadata": {
    "collapsed": false
   },
   "outputs": [
    {
     "name": "stdout",
     "output_type": "stream",
     "text": [
      "Overwriting src/myBankUse.js\n"
     ]
    }
   ],
   "source": [
    "%%writefile src/myBankUse__.js\n",
    "var Web3=require('web3');\n",
    "var web3 = new Web3(new Web3.providers.HttpProvider(\"http://117.16.44.45:8445\"));\n",
    "var _abiArray=[{\"constant\":true,\"inputs\":[],\"name\":\"queryBalance\",\"outputs\":[{\"name\":\"\",\"type\":\"uint256\"}],\"payable\":false,\"stateMutability\":\"view\",\"type\":\"function\"},{\"constant\":false,\"inputs\":[],\"name\":\"withdraw\",\"outputs\":[],\"payable\":false,\"stateMutability\":\"nonpayable\",\"type\":\"function\"},{\"constant\":false,\"inputs\":[{\"name\":\"amount\",\"type\":\"uint256\"}],\"name\":\"deposit\",\"outputs\":[],\"payable\":true,\"stateMutability\":\"payable\",\"type\":\"function\"}];\n",
    "var _contract = web3.eth.contract(_abiArray);\n",
    "var myBank = _contract.at(\"0x646570db59e036e51a881f5e46722216ccbe7f52\");\n",
    "console.log(web3.eth.getBalance(web3.eth.accounts[0]).toNumber());\n",
    "console.log(myBank.deposit(1111,{from:web3.eth.accounts[0],gas:80000,value:1111}));\n",
    "var bal=myBank.queryBalance.call();\n",
    "console.log(bal.toString());\n",
    "console.log(web3.eth.getBalance(web3.eth.accounts[0]).toNumber());\n",
    "myBank.withdraw.sendTransaction({from:web3.eth.accounts[0]});"
   ]
  },
  {
   "cell_type": "code",
   "execution_count": 6,
   "metadata": {
    "collapsed": false
   },
   "outputs": [
    {
     "name": "stdout",
     "output_type": "stream",
     "text": [
      "Overwriting src/myBankUse.js\n"
     ]
    }
   ],
   "source": [
    "%%writefile src/myBankUse.js\n",
    "var Web3=require('web3');\n",
    "var web3 = new Web3(new Web3.providers.HttpProvider(\"http://127.0.0.1:8345\"));\n",
    "var _abiArray=[{\"constant\":true,\"inputs\":[],\"name\":\"queryBalance\",\"outputs\":[{\"name\":\"\",\"type\":\"uint256\"}],\"payable\":false,\"stateMutability\":\"view\",\"type\":\"function\"},{\"constant\":false,\"inputs\":[],\"name\":\"withdraw\",\"outputs\":[],\"payable\":false,\"stateMutability\":\"nonpayable\",\"type\":\"function\"},{\"constant\":false,\"inputs\":[{\"name\":\"amount\",\"type\":\"uint256\"}],\"name\":\"deposit\",\"outputs\":[],\"payable\":true,\"stateMutability\":\"payable\",\"type\":\"function\"}];\n",
    "var myBank = new web3.eth.Contract(_abiArray, '0x657f2cc19b9A634e62d88E419a73DAf0AB738397');\n",
    "myBank.methods.queryBalance().call().then(console.log);\n",
    "myBank.methods.deposit(1111).send({from:\"0xf84B27A6D281Df793C67Dc12A2D69FF003BB5732\",gas:80000,value:1111});\n",
    "myBank.methods.queryBalance().call().then(console.log);\n",
    "//myBank.methods.withdraw().send({from:\"0xf84B27A6D281Df793C67Dc12A2D69FF003BB5732\"});\n",
    "//myBank.methods.queryBalance().call().then(console.log);"
   ]
  },
  {
   "cell_type": "code",
   "execution_count": 8,
   "metadata": {
    "collapsed": false,
    "scrolled": true
   },
   "outputs": [
    {
     "name": "stdout",
     "output_type": "stream",
     "text": [
      "2222\n",
      "2222\n"
     ]
    }
   ],
   "source": [
    "!node src/myBankUse.js"
   ]
  },
  {
   "cell_type": "markdown",
   "metadata": {
    "scrolled": false,
    "slideshow": {
     "slide_type": "subslide"
    }
   },
   "source": [
    "1111을 deposit() 입금하면 잔고에 반영이 되는 것을 볼 수 있다.\n",
    "또한 withdraw() 출금하면 잔고가 0이 되면서 전송자의 잔고가 증가한다."
   ]
  },
  {
   "cell_type": "code",
   "execution_count": 11,
   "metadata": {
    "collapsed": false,
    "scrolled": true
   },
   "outputs": [
    {
     "name": "stdout",
     "output_type": "stream",
     "text": [
      "760000000000000000000\n",
      "0x4026b7152afdffc69b56c5799e7bce73ce886687a7f0a4e313018c84a772a1d3\n",
      "0\n",
      "760000000000000000000\n"
     ]
    }
   ],
   "source": [
    "!node src/myBankUse.js"
   ]
  },
  {
   "cell_type": "markdown",
   "metadata": {
    "slideshow": {
     "slide_type": "slide"
    }
   },
   "source": [
    "### 9.4.5 conversion\n",
    "<a id='9.4.5'></a>\n",
    "\n",
    "형변환을 할 경우에는 데이터 타잎의 크기에 주의해야 한다.\n",
    "예를 들어 int8에서 int로 변환할 경우 괄호 안에 써주면 된다.\n",
    "이 경우 int는 256비트이므로 오류없이 변환이 된다.\n",
    "```python\n",
    "int8 i8=20;\n",
    "uint i256=int(i8);\n",
    "```\n",
    "\n",
    "uint는 bytes32로 변환할 수 있다.\n",
    "```python\n",
    "uint x=20;\n",
    "bytes32(x);\n",
    "```"
   ]
  },
  {
   "cell_type": "markdown",
   "metadata": {
    "slideshow": {
     "slide_type": "subslide"
    }
   },
   "source": [
    "int를 bytes로 바로 형변환을 할 수 없다.\n",
    "int는 int256, 즉 32바이트라서 bytes32로 변환하고, 이를 bytes로 변환해야 한다.\n",
    "이 경우 바이트마다 옮겨주어야 한다.\n",
    "\n",
    "```0x68656c6c```은 16진수, 8자리이다.\n",
    "한 자리에는 0,1,2...D,E,F까지 $2^4$ 가지를 표현할 수 있고, 4비트가 소요된다.\n",
    "이 데이터 bytes4를 bytes2로 변환해보자.\n",
    "**오버플로우는 위 4자리부터 잘려 나가게 된다**.\n",
    "따라서 ```0x6865```가 저장된다.\n",
    "\n",
    "```python\n",
    "bytes4 b4 = 0x68656c6c;\n",
    "bytes2(b4);\n",
    "```\n",
    "\n",
    "```string```을 ```bytes```로 변환하는 경우:\n",
    "\n",
    "```python\n",
    "string s = \"hello\";\n",
    "bytes b = bytes(s); //0x68656c6c6f\n",
    "```\n",
    "\n",
    "hex | char\n",
    "-----|-----\n",
    "68 | h\n",
    "65 | e\n",
    "6c | l\n",
    "6c | l\n",
    "6f | o"
   ]
  },
  {
   "cell_type": "code",
   "execution_count": null,
   "metadata": {
    "collapsed": true
   },
   "outputs": [],
   "source": [
    "```address payable```에서 ```address```로의 형변환은 가능하지만, 반대는 허용되지 않는다.\n",
    "```address``` -> ```uint160``` -> ```address payable```로 20바이트의 정수로 변환한 후 하도록 한다."
   ]
  },
  {
   "cell_type": "code",
   "execution_count": 2,
   "metadata": {
    "collapsed": false,
    "slideshow": {
     "slide_type": "subslide"
    }
   },
   "outputs": [
    {
     "name": "stdout",
     "output_type": "stream",
     "text": [
      "Writing src/DataConversionTest.sol\n"
     ]
    }
   ],
   "source": [
    "%%writefile src/DataConversionTest.sol\n",
    "pragma solidity ^0.5.0;\n",
    "contract DataConversionTest {\n",
    "    function convertInt8ToInt() view public returns(int) {\n",
    "        int8 i8=20;\n",
    "        return int(i8);\n",
    "    }\n",
    "    function convertIntToBytes32() view public returns(bytes32) {\n",
    "        uint x=20;\n",
    "        return bytes32(x);\n",
    "    }\n",
    "    function convertInt64ToBytes8() view public returns(bytes8) {\n",
    "        uint64 x=30;\n",
    "        return bytes8(x);\n",
    "    }\n",
    "    function convertIntToBytes() view public returns(bytes memory) {\n",
    "        // can not convert uint -> bytes\n",
    "        // convert uint -> bytes32 -> bytes\n",
    "        uint x = 20;\n",
    "        bytes32 y = bytes32(x); //uint=uint256\n",
    "        // can not convert from bytes32 -> bytes;\n",
    "        bytes memory z = new bytes(32);\n",
    "        for (uint i=0; i < 32; i++) {\n",
    "            z[i] = y[i];\n",
    "        }\n",
    "        return z;\n",
    "    }\n",
    "    function convertStringToBytes() view public returns(bytes memory) {\n",
    "        string memory s=\"hello\";\n",
    "        return bytes(s);  //0x68656c6c6f\n",
    "    }\n",
    "    function convertBytes4ToBytes2() view public returns(bytes2) {\n",
    "        bytes4 b4=0x68656c6c;\n",
    "        return bytes2(b4);\n",
    "    }\n",
    "    function convertBytes4ToInt32() view public returns(int32) {\n",
    "        bytes4 b4=0x68656c6c;\n",
    "        return int32(b4);\n",
    "    }\n",
    "}"
   ]
  },
  {
   "cell_type": "markdown",
   "metadata": {
    "slideshow": {
     "slide_type": "subslide"
    }
   },
   "source": [
    "### 9.4.6 전역 변수\n",
    "<a id='9.4.6'></a>\n",
    "\n",
    "* 화폐 단위 ```wei``` $10^{18}$로 표현되며, 1 ```ether```는 ```1000000000000000000```이다.\n",
    "\n",
    "```python\n",
    "1 ether == 1000 finney\n",
    "```\n",
    "\n",
    "* 시간 ```years```는 지원되지 않으며, ```seconds```로 표시된다. ```now```는 현재 시간, ```block.timestamp```와 동일하다.\n",
    "```python\n",
    "1 == 1 seconds, 1 days == 86400 seconds\n",
    "```\n",
    "\n",
    "```python\n",
    "uint mytime=now;\n",
    "```"
   ]
  },
  {
   "cell_type": "markdown",
   "metadata": {
    "slideshow": {
     "slide_type": "subslide"
    }
   },
   "source": [
    "* tx 컨트랙을 호출하는 트랜잭션 관련 정보\n",
    "    * ```tx.origin``` 트랜잭션에 사인한 계정\n",
    "    * ```tx.gasprice``` 트랜잭션 호출자가 명시한 gas price"
   ]
  },
  {
   "cell_type": "markdown",
   "metadata": {
    "slideshow": {
     "slide_type": "subslide"
    }
   },
   "source": [
    "* msg 컨트랙의 함수를 호출한 전송 관련 정보\n",
    "    * ```msg.data``` | call 데이터 (bytes 값으로 표현)\n",
    "    * ```msg.gas``` | gas 잔여분\n",
    "    * ```msg.sender``` | 현재 함수를 호출하는 측의 주소\n",
    "        * 거래가 호출자U1 -> 컨트랙C1 -> 컨트랙C2의 순서대로 완성이 될 경우:\n",
    "        * C2에서는 ```msg.sender```는 바로 직전의 호출자C1를 말하며, 따라서 컨트랙도 가능하다.\n",
    "        * 반면에 ```tx.origin```는 컨트랙이 될 수 없다.\n",
    "    * ```msg.value``` | 컨트랙에 지급되는 ether (단위는 wei)"
   ]
  },
  {
   "cell_type": "markdown",
   "metadata": {
    "slideshow": {
     "slide_type": "subslide"
    }
   },
   "source": [
    "* block\n",
    "    * ```block.coinbase``` | 현재 블록 마이너의 주소\n",
    "    * ```block.difficulty``` | 현재 블록의 난이도\n",
    "    * ```block.gaslimit``` | 현재 블록의 gaslimit\n",
    "    * ```block.number``` | 현재 블록 수\n",
    "    * ```block.blockhash``` | 현재 블록 해쉬 값\n",
    "    * ```block.timestamp``` | 현재 블록 타임스탬프 epoch (1970년 1월 1일 0시) 이후 지나간 초, uint256."
   ]
  },
  {
   "cell_type": "code",
   "execution_count": 4,
   "metadata": {
    "collapsed": false,
    "slideshow": {
     "slide_type": "subslide"
    }
   },
   "outputs": [
    {
     "name": "stdout",
     "output_type": "stream",
     "text": [
      "Overwriting src/GlobalVarsTest.sol\n"
     ]
    }
   ],
   "source": [
    "%%writefile src/GlobalVarsTest.sol\n",
    "pragma solidity ^0.5.0;\n",
    "contract GlobalVarsTest {\n",
    "    function getEther() view public returns(uint) {\n",
    "        return 1 ether;  //1000000000000000000\n",
    "    }\n",
    "    function getDays() view public returns(uint,uint) {\n",
    "        require(block.timestamp==now);\n",
    "        return (now, 1 day); // 1558816133 86400 ??web3? 1 days?\n",
    "    }\n",
    "    function getMsgValue() public payable returns(uint) {\n",
    "        return msg.value;\n",
    "    }\n",
    "    function getMsgSender() view public returns(address) {\n",
    "        return msg.sender;\n",
    "    }\n",
    "    function getCoinbase() view public returns(address) {\n",
    "        return block.coinbase;\n",
    "    }\n",
    "    function getBlockNumber() view public returns(uint) {\n",
    "        return block.number;\n",
    "    }\n",
    "    function getBlockTimeStamp() view public returns(uint) {\n",
    "        return block.timestamp;\n",
    "    }\n",
    "}"
   ]
  },
  {
   "cell_type": "markdown",
   "metadata": {
    "slideshow": {
     "slide_type": "subslide"
    }
   },
   "source": [
    "## 실습: 은행 송금\n",
    "\n",
    "앞서 컨트랙을 수정해서 다른 계정으로 송금할 수 있도록 해보자."
   ]
  },
  {
   "cell_type": "markdown",
   "metadata": {
    "slideshow": {
     "slide_type": "subslide"
    }
   },
   "source": [
    "### 단계 1: 컨트랙 개발\n",
    "\n",
    "줄 | 설명\n",
    "-----|-----\n",
    "4 | ```address```선언\n",
    "5 ~ 7 | 생성자에 ```msg.sender```를 ```owner```로 설정\n",
    "8 | ```event``` 설정\n",
    "10 ~ 14 | 송금. ```owner```만 송금할 수 있고 ```event``` 발생\n",
    "21 ~ 24 | ```owner```에게 전액 출금"
   ]
  },
  {
   "cell_type": "code",
   "execution_count": 12,
   "metadata": {
    "collapsed": false
   },
   "outputs": [
    {
     "name": "stdout",
     "output_type": "stream",
     "text": [
      "Overwriting src/BankV2.sol\n"
     ]
    }
   ],
   "source": [
    "%%writefile src/BankV2.sol\n",
    "pragma solidity ^0.5.0;\n",
    "\n",
    "contract BankV2 {\n",
    "    address owner;\n",
    "    constructor() public {\n",
    "        owner=msg.sender;\n",
    "    }\n",
    "    event Sent(address from, address to, uint amount );\n",
    "    //function send(address payable _receiver, uint _amount) public payable {\n",
    "    function sendTo(address payable _receiver) public payable {\n",
    "        require(msg.sender==owner);\n",
    "        _receiver.transfer(msg.value);\n",
    "        emit Sent(msg.sender, _receiver, msg.value);\n",
    "    }\n",
    "    function queryBalance() public view returns(uint) {\n",
    "        return address(this).balance;\n",
    "    }\n",
    "    function deposit(uint amount) public payable {\n",
    "        require(msg.value==amount);\n",
    "    }\n",
    "    function widthdraw() public {\n",
    "        require(msg.sender==owner);\n",
    "        msg.sender.transfer(address(this).balance);\n",
    "    }\n",
    "}"
   ]
  },
  {
   "cell_type": "markdown",
   "metadata": {
    "slideshow": {
     "slide_type": "subslide"
    }
   },
   "source": [
    "### 단계 2: 컴파일"
   ]
  },
  {
   "cell_type": "code",
   "execution_count": 13,
   "metadata": {
    "collapsed": false,
    "slideshow": {
     "slide_type": "-"
    }
   },
   "outputs": [
    {
     "name": "stdout",
     "output_type": "stream",
     "text": [
      "\r\n",
      "======= src/BankV2.sol:BankV2 =======\r\n",
      "Gas estimation:\r\n",
      "construction:\r\n",
      "   20486 + 176000 = 196486\r\n",
      "external:\r\n",
      "   deposit(uint256):\t259\r\n",
      "   queryBalance():\t601\r\n",
      "   sendTo(address):\tinfinite\r\n",
      "   widthdraw():\tinfinite\r\n",
      "Binary: \r\n",
      "608060405234801561001057600080fd5b50336000806101000a81548173ffffffffffffffffffffffffffffffffffffffff021916908373ffffffffffffffffffffffffffffffffffffffff160217905550610370806100606000396000f3fe60806040526004361061005c576000357c01000000000000000000000000000000000000000000000000000000009004806336f40c611461006157806352b50a2a1461008c578063b6b55f25146100a3578063e6d25245146100d1575b600080fd5b34801561006d57600080fd5b50610076610115565b6040518082815260200191505060405180910390f35b34801561009857600080fd5b506100a1610134565b005b6100cf600480360360208110156100b957600080fd5b81019080803590602001909291905050506101ef565b005b610113600480360360208110156100e757600080fd5b81019080803573ffffffffffffffffffffffffffffffffffffffff169060200190929190505050610200565b005b60003073ffffffffffffffffffffffffffffffffffffffff1631905090565b6000809054906101000a900473ffffffffffffffffffffffffffffffffffffffff1673ffffffffffffffffffffffffffffffffffffffff163373ffffffffffffffffffffffffffffffffffffffff1614151561018f57600080fd5b3373ffffffffffffffffffffffffffffffffffffffff166108fc3073ffffffffffffffffffffffffffffffffffffffff16319081150290604051600060405180830381858888f193505050501580156101ec573d6000803e3d6000fd5b50565b80341415156101fd57600080fd5b50565b6000809054906101000a900473ffffffffffffffffffffffffffffffffffffffff1673ffffffffffffffffffffffffffffffffffffffff163373ffffffffffffffffffffffffffffffffffffffff1614151561025b57600080fd5b8073ffffffffffffffffffffffffffffffffffffffff166108fc349081150290604051600060405180830381858888f193505050501580156102a1573d6000803e3d6000fd5b507f3990db2d31862302a685e8086b5755072a6e2b5b780af1ee81ece35ee3cd3345338234604051808473ffffffffffffffffffffffffffffffffffffffff1673ffffffffffffffffffffffffffffffffffffffff1681526020018373ffffffffffffffffffffffffffffffffffffffff1673ffffffffffffffffffffffffffffffffffffffff168152602001828152602001935050505060405180910390a15056fea165627a7a723058202e512a1df8dbf7513c14646ff33b94f8e9ee902911138575219f157ffdc92ddc0029\r\n",
      "Contract JSON ABI \r\n",
      "[{\"constant\":true,\"inputs\":[],\"name\":\"queryBalance\",\"outputs\":[{\"name\":\"\",\"type\":\"uint256\"}],\"payable\":false,\"stateMutability\":\"view\",\"type\":\"function\"},{\"constant\":false,\"inputs\":[],\"name\":\"widthdraw\",\"outputs\":[],\"payable\":false,\"stateMutability\":\"nonpayable\",\"type\":\"function\"},{\"constant\":false,\"inputs\":[{\"name\":\"amount\",\"type\":\"uint256\"}],\"name\":\"deposit\",\"outputs\":[],\"payable\":true,\"stateMutability\":\"payable\",\"type\":\"function\"},{\"constant\":false,\"inputs\":[{\"name\":\"_receiver\",\"type\":\"address\"}],\"name\":\"sendTo\",\"outputs\":[],\"payable\":true,\"stateMutability\":\"payable\",\"type\":\"function\"},{\"inputs\":[],\"payable\":false,\"stateMutability\":\"nonpayable\",\"type\":\"constructor\"},{\"anonymous\":false,\"inputs\":[{\"indexed\":false,\"name\":\"from\",\"type\":\"address\"},{\"indexed\":false,\"name\":\"to\",\"type\":\"address\"},{\"indexed\":false,\"name\":\"amount\",\"type\":\"uint256\"}],\"name\":\"Sent\",\"type\":\"event\"}]\r\n"
     ]
    }
   ],
   "source": [
    "!solc --gas --abi --bin src/BankV2.sol"
   ]
  },
  {
   "cell_type": "markdown",
   "metadata": {
    "slideshow": {
     "slide_type": "subslide"
    }
   },
   "source": [
    "### 단계 3: 컨트랙 배포"
   ]
  },
  {
   "cell_type": "code",
   "execution_count": 14,
   "metadata": {
    "collapsed": false
   },
   "outputs": [
    {
     "name": "stdout",
     "output_type": "stream",
     "text": [
      "Writing src/BankV2Deploy.js\n"
     ]
    }
   ],
   "source": [
    "%%writefile src/BankV2Deploy__.js\n",
    "var Web3=require('web3');\n",
    "var web3;\n",
    "if (typeof web3 !== 'undefined') {\n",
    "    web3 = new Web3(web3.currentProvider);\n",
    "} else {\n",
    "    web3 = new Web3(new Web3.providers.HttpProvider(\"http://117.16.44.45:8445\"));\n",
    "}\n",
    "var _abiArray=[{\"constant\":true,\"inputs\":[],\"name\":\"queryBalance\",\"outputs\":[{\"name\":\"\",\"type\":\"uint256\"}],\"payable\":false,\"stateMutability\":\"view\",\"type\":\"function\"},{\"constant\":false,\"inputs\":[],\"name\":\"widthdraw\",\"outputs\":[],\"payable\":false,\"stateMutability\":\"nonpayable\",\"type\":\"function\"},{\"constant\":false,\"inputs\":[{\"name\":\"amount\",\"type\":\"uint256\"}],\"name\":\"deposit\",\"outputs\":[],\"payable\":true,\"stateMutability\":\"payable\",\"type\":\"function\"},{\"constant\":false,\"inputs\":[{\"name\":\"_receiver\",\"type\":\"address\"}],\"name\":\"sendTo\",\"outputs\":[],\"payable\":true,\"stateMutability\":\"payable\",\"type\":\"function\"},{\"inputs\":[],\"payable\":false,\"stateMutability\":\"nonpayable\",\"type\":\"constructor\"},{\"anonymous\":false,\"inputs\":[{\"indexed\":false,\"name\":\"from\",\"type\":\"address\"},{\"indexed\":false,\"name\":\"to\",\"type\":\"address\"},{\"indexed\":false,\"name\":\"amount\",\"type\":\"uint256\"}],\"name\":\"Sent\",\"type\":\"event\"}];\n",
    "var _bin=\"608060405234801561001057600080fd5b50336000806101000a81548173ffffffffffffffffffffffffffffffffffffffff021916908373ffffffffffffffffffffffffffffffffffffffff160217905550610370806100606000396000f3fe60806040526004361061005c576000357c01000000000000000000000000000000000000000000000000000000009004806336f40c611461006157806352b50a2a1461008c578063b6b55f25146100a3578063e6d25245146100d1575b600080fd5b34801561006d57600080fd5b50610076610115565b6040518082815260200191505060405180910390f35b34801561009857600080fd5b506100a1610134565b005b6100cf600480360360208110156100b957600080fd5b81019080803590602001909291905050506101ef565b005b610113600480360360208110156100e757600080fd5b81019080803573ffffffffffffffffffffffffffffffffffffffff169060200190929190505050610200565b005b60003073ffffffffffffffffffffffffffffffffffffffff1631905090565b6000809054906101000a900473ffffffffffffffffffffffffffffffffffffffff1673ffffffffffffffffffffffffffffffffffffffff163373ffffffffffffffffffffffffffffffffffffffff1614151561018f57600080fd5b3373ffffffffffffffffffffffffffffffffffffffff166108fc3073ffffffffffffffffffffffffffffffffffffffff16319081150290604051600060405180830381858888f193505050501580156101ec573d6000803e3d6000fd5b50565b80341415156101fd57600080fd5b50565b6000809054906101000a900473ffffffffffffffffffffffffffffffffffffffff1673ffffffffffffffffffffffffffffffffffffffff163373ffffffffffffffffffffffffffffffffffffffff1614151561025b57600080fd5b8073ffffffffffffffffffffffffffffffffffffffff166108fc349081150290604051600060405180830381858888f193505050501580156102a1573d6000803e3d6000fd5b507f3990db2d31862302a685e8086b5755072a6e2b5b780af1ee81ece35ee3cd3345338234604051808473ffffffffffffffffffffffffffffffffffffffff1673ffffffffffffffffffffffffffffffffffffffff1681526020018373ffffffffffffffffffffffffffffffffffffffff1673ffffffffffffffffffffffffffffffffffffffff168152602001828152602001935050505060405180910390a15056fea165627a7a723058202e512a1df8dbf7513c14646ff33b94f8e9ee902911138575219f157ffdc92ddc0029\";\n",
    "var _contract = web3.eth.contract(_abiArray);\n",
    "//unlock the account with a password provided\n",
    "//web3.personal.unlockAccount(web3.eth.accounts[0],'password');\n",
    "var _instance=_contract.new({data:\"0x\"+_bin,from:web3.eth.accounts[0],gas:1000000}, function(err, contract) {\n",
    "    if (!err) {\n",
    "        console.log(\"contractAddress: \", contract.address);\n",
    "        console.log(\"transactionHash: \", contract.transactionHash);\n",
    "    }\n",
    "});"
   ]
  },
  {
   "cell_type": "code",
   "execution_count": 3,
   "metadata": {
    "collapsed": false
   },
   "outputs": [
    {
     "name": "stdout",
     "output_type": "stream",
     "text": [
      "Overwriting src/BankV2Deploy.js\n"
     ]
    }
   ],
   "source": [
    "%%writefile src/BankV2Deploy.js\n",
    "var Web3=require('web3');\n",
    "var web3;\n",
    "if (typeof web3 !== 'undefined') {\n",
    "    web3 = new Web3(web3.currentProvider);\n",
    "} else {\n",
    "    web3 = new Web3(new Web3.providers.WebsocketProvider('http://127.0.0.1:8345'));\n",
    "}\n",
    "var _abiArray=[{\"constant\":true,\"inputs\":[],\"name\":\"queryBalance\",\"outputs\":[{\"name\":\"\",\"type\":\"uint256\"}],\"payable\":false,\"stateMutability\":\"view\",\"type\":\"function\"},{\"constant\":false,\"inputs\":[],\"name\":\"widthdraw\",\"outputs\":[],\"payable\":false,\"stateMutability\":\"nonpayable\",\"type\":\"function\"},{\"constant\":false,\"inputs\":[{\"name\":\"amount\",\"type\":\"uint256\"}],\"name\":\"deposit\",\"outputs\":[],\"payable\":true,\"stateMutability\":\"payable\",\"type\":\"function\"},{\"constant\":false,\"inputs\":[{\"name\":\"_receiver\",\"type\":\"address\"}],\"name\":\"sendTo\",\"outputs\":[],\"payable\":true,\"stateMutability\":\"payable\",\"type\":\"function\"},{\"inputs\":[],\"payable\":false,\"stateMutability\":\"nonpayable\",\"type\":\"constructor\"},{\"anonymous\":false,\"inputs\":[{\"indexed\":false,\"name\":\"from\",\"type\":\"address\"},{\"indexed\":false,\"name\":\"to\",\"type\":\"address\"},{\"indexed\":false,\"name\":\"amount\",\"type\":\"uint256\"}],\"name\":\"Sent\",\"type\":\"event\"}];\n",
    "var _bin=\"608060405234801561001057600080fd5b50336000806101000a81548173ffffffffffffffffffffffffffffffffffffffff021916908373ffffffffffffffffffffffffffffffffffffffff160217905550610370806100606000396000f3fe60806040526004361061005c576000357c01000000000000000000000000000000000000000000000000000000009004806336f40c611461006157806352b50a2a1461008c578063b6b55f25146100a3578063e6d25245146100d1575b600080fd5b34801561006d57600080fd5b50610076610115565b6040518082815260200191505060405180910390f35b34801561009857600080fd5b506100a1610134565b005b6100cf600480360360208110156100b957600080fd5b81019080803590602001909291905050506101ef565b005b610113600480360360208110156100e757600080fd5b81019080803573ffffffffffffffffffffffffffffffffffffffff169060200190929190505050610200565b005b60003073ffffffffffffffffffffffffffffffffffffffff1631905090565b6000809054906101000a900473ffffffffffffffffffffffffffffffffffffffff1673ffffffffffffffffffffffffffffffffffffffff163373ffffffffffffffffffffffffffffffffffffffff1614151561018f57600080fd5b3373ffffffffffffffffffffffffffffffffffffffff166108fc3073ffffffffffffffffffffffffffffffffffffffff16319081150290604051600060405180830381858888f193505050501580156101ec573d6000803e3d6000fd5b50565b80341415156101fd57600080fd5b50565b6000809054906101000a900473ffffffffffffffffffffffffffffffffffffffff1673ffffffffffffffffffffffffffffffffffffffff163373ffffffffffffffffffffffffffffffffffffffff1614151561025b57600080fd5b8073ffffffffffffffffffffffffffffffffffffffff166108fc349081150290604051600060405180830381858888f193505050501580156102a1573d6000803e3d6000fd5b507f3990db2d31862302a685e8086b5755072a6e2b5b780af1ee81ece35ee3cd3345338234604051808473ffffffffffffffffffffffffffffffffffffffff1673ffffffffffffffffffffffffffffffffffffffff1681526020018373ffffffffffffffffffffffffffffffffffffffff1673ffffffffffffffffffffffffffffffffffffffff168152602001828152602001935050505060405180910390a15056fea165627a7a723058202e512a1df8dbf7513c14646ff33b94f8e9ee902911138575219f157ffdc92ddc0029\";\n",
    "var _contract = new web3.eth.Contract(_abiArray);\n",
    "//unlock the account with a password provided\n",
    "//web3.personal.unlockAccount(web3.eth.accounts[0],'password');\n",
    "_contract\n",
    "    .deploy({data:\"0x\"+_bin})\n",
    "    .send({from:\"0xf84B27A6D281Df793C67Dc12A2D69FF003BB5732\",gas:1000000}, function(err, transactionHash) {\n",
    "        if (!err) {\n",
    "            console.log(\"transactionHash: \", transactionHash);\n",
    "        }\n",
    "    })\n",
    "    .then(console.log);"
   ]
  },
  {
   "cell_type": "code",
   "execution_count": null,
   "metadata": {
    "collapsed": true
   },
   "outputs": [],
   "source": [
    "_contract.deploy({data:\"0x\"+_bin}).send({from:\"0xf84B27A6D281Df793C67Dc12A2D69FF003BB5732\",gas:1000000}, function(err, transactionHash) {\n",
    "        if (!err) {\n",
    "            console.log(\"transactionHash: \", transactionHash);\n",
    "        }\n",
    "    }).then(console.log);"
   ]
  },
  {
   "cell_type": "code",
   "execution_count": null,
   "metadata": {
    "collapsed": false
   },
   "outputs": [
    {
     "name": "stdout",
     "output_type": "stream",
     "text": [
      "transactionHash:  0xbc4fcaf78d8c8774fb08912b3def8e3365edbd86c53bdf54a2772a270a1b317f\n",
      "Contract {\n",
      "  currentProvider: \u001b[36m[Getter/Setter]\u001b[39m,\n",
      "  _requestManager: RequestManager {\n",
      "    provider: WebsocketProvider {\n",
      "      responseCallbacks: {},\n",
      "      notificationCallbacks: \u001b[36m[Array]\u001b[39m,\n",
      "      _customTimeout: \u001b[90mundefined\u001b[39m,\n",
      "      connection: \u001b[36m[W3CWebSocket]\u001b[39m,\n",
      "      connected: \u001b[36m[Getter]\u001b[39m,\n",
      "      lastChunk: \u001b[1mnull\u001b[22m\n",
      "    },\n",
      "    providers: {\n",
      "      WebsocketProvider: \u001b[36m[Function: WebsocketProvider]\u001b[39m,\n",
      "      HttpProvider: \u001b[36m[Function: HttpProvider]\u001b[39m,\n",
      "      IpcProvider: \u001b[36m[Function: IpcProvider]\u001b[39m\n",
      "    },\n",
      "    subscriptions: {}\n",
      "  },\n",
      "  givenProvider: \u001b[1mnull\u001b[22m,\n",
      "  providers: {\n",
      "    WebsocketProvider: \u001b[36m[Function: WebsocketProvider]\u001b[39m,\n",
      "    HttpProvider: \u001b[36m[Function: HttpProvider]\u001b[39m,\n",
      "    IpcProvider: \u001b[36m[Function: IpcProvider]\u001b[39m\n",
      "  },\n",
      "  _provider: WebsocketProvider {\n",
      "    responseCallbacks: {},\n",
      "    notificationCallbacks: [\n",
      "      \u001b[36m[Function: requestManagerNotification]\u001b[39m,\n",
      "      \u001b[36m[Function: requestManagerNotification]\u001b[39m,\n",
      "      \u001b[36m[Function: requestManagerNotification]\u001b[39m,\n",
      "      \u001b[36m[Function: requestManagerNotification]\u001b[39m,\n",
      "      \u001b[36m[Function: requestManagerNotification]\u001b[39m,\n",
      "      \u001b[36m[Function: requestManagerNotification]\u001b[39m,\n",
      "      \u001b[36m[Function: requestManagerNotification]\u001b[39m,\n",
      "      \u001b[36m[Function: requestManagerNotification]\u001b[39m,\n",
      "      \u001b[36m[Function: requestManagerNotification]\u001b[39m,\n",
      "      \u001b[36m[Function: requestManagerNotification]\u001b[39m,\n",
      "      \u001b[36m[Function: requestManagerNotification]\u001b[39m\n",
      "    ],\n",
      "    _customTimeout: \u001b[90mundefined\u001b[39m,\n",
      "    connection: W3CWebSocket {\n",
      "      _listeners: {},\n",
      "      addEventListener: \u001b[36m[Function: _addEventListener]\u001b[39m,\n",
      "      removeEventListener: \u001b[36m[Function: _removeEventListener]\u001b[39m,\n",
      "      dispatchEvent: \u001b[36m[Function: _dispatchEvent]\u001b[39m,\n",
      "      _url: \u001b[32m'http://127.0.0.1:8345'\u001b[39m,\n",
      "      _readyState: \u001b[33m1\u001b[39m,\n",
      "      _protocol: \u001b[90mundefined\u001b[39m,\n",
      "      _extensions: [],\n",
      "      _bufferedAmount: \u001b[33m0\u001b[39m,\n",
      "      _binaryType: \u001b[32m'arraybuffer'\u001b[39m,\n",
      "      _connection: \u001b[36m[WebSocketConnection]\u001b[39m,\n",
      "      _client: \u001b[36m[WebSocketClient]\u001b[39m,\n",
      "      onerror: \u001b[36m[Function (anonymous)]\u001b[39m,\n",
      "      onclose: \u001b[36m[Function (anonymous)]\u001b[39m,\n",
      "      onmessage: \u001b[36m[Function (anonymous)]\u001b[39m\n",
      "    },\n",
      "    connected: \u001b[36m[Getter]\u001b[39m,\n",
      "    lastChunk: \u001b[1mnull\u001b[22m\n",
      "  },\n",
      "  setProvider: \u001b[36m[Function (anonymous)]\u001b[39m,\n",
      "  BatchRequest: \u001b[36m[Function: bound Batch]\u001b[39m,\n",
      "  extend: [Function: ex] {\n",
      "    formatters: {\n",
      "      inputDefaultBlockNumberFormatter: \u001b[36m[Function: inputDefaultBlockNumberFormatter]\u001b[39m,\n",
      "      inputBlockNumberFormatter: \u001b[36m[Function: inputBlockNumberFormatter]\u001b[39m,\n",
      "      inputCallFormatter: \u001b[36m[Function: inputCallFormatter]\u001b[39m,\n",
      "      inputTransactionFormatter: \u001b[36m[Function: inputTransactionFormatter]\u001b[39m,\n",
      "      inputAddressFormatter: \u001b[36m[Function: inputAddressFormatter]\u001b[39m,\n",
      "      inputPostFormatter: \u001b[36m[Function: inputPostFormatter]\u001b[39m,\n",
      "      inputLogFormatter: \u001b[36m[Function: inputLogFormatter]\u001b[39m,\n",
      "      inputSignFormatter: \u001b[36m[Function: inputSignFormatter]\u001b[39m,\n",
      "      inputStorageKeysFormatter: \u001b[36m[Function: inputStorageKeysFormatter]\u001b[39m,\n",
      "      outputProofFormatter: \u001b[36m[Function: outputProofFormatter]\u001b[39m,\n",
      "      outputBigNumberFormatter: \u001b[36m[Function: outputBigNumberFormatter]\u001b[39m,\n",
      "      outputTransactionFormatter: \u001b[36m[Function: outputTransactionFormatter]\u001b[39m,\n",
      "      outputTransactionReceiptFormatter: \u001b[36m[Function: outputTransactionReceiptFormatter]\u001b[39m,\n",
      "      outputBlockFormatter: \u001b[36m[Function: outputBlockFormatter]\u001b[39m,\n",
      "      outputLogFormatter: \u001b[36m[Function: outputLogFormatter]\u001b[39m,\n",
      "      outputPostFormatter: \u001b[36m[Function: outputPostFormatter]\u001b[39m,\n",
      "      outputSyncingFormatter: \u001b[36m[Function: outputSyncingFormatter]\u001b[39m\n",
      "    },\n",
      "    utils: {\n",
      "      _fireError: \u001b[36m[Function: _fireError]\u001b[39m,\n",
      "      _jsonInterfaceMethodToString: \u001b[36m[Function: _jsonInterfaceMethodToString]\u001b[39m,\n",
      "      _flattenTypes: \u001b[36m[Function: _flattenTypes]\u001b[39m,\n",
      "      randomHex: \u001b[36m[Function: randomHex]\u001b[39m,\n",
      "      _: \u001b[36m[Function]\u001b[39m,\n",
      "      BN: \u001b[36m[Function]\u001b[39m,\n",
      "      isBN: \u001b[36m[Function: isBN]\u001b[39m,\n",
      "      isBigNumber: \u001b[36m[Function: isBigNumber]\u001b[39m,\n",
      "      isHex: \u001b[36m[Function: isHex]\u001b[39m,\n",
      "      isHexStrict: \u001b[36m[Function: isHexStrict]\u001b[39m,\n",
      "      sha3: \u001b[36m[Function]\u001b[39m,\n",
      "      sha3Raw: \u001b[36m[Function: sha3Raw]\u001b[39m,\n",
      "      keccak256: \u001b[36m[Function]\u001b[39m,\n",
      "      soliditySha3: \u001b[36m[Function: soliditySha3]\u001b[39m,\n",
      "      soliditySha3Raw: \u001b[36m[Function: soliditySha3Raw]\u001b[39m,\n",
      "      isAddress: \u001b[36m[Function: isAddress]\u001b[39m,\n",
      "      checkAddressChecksum: \u001b[36m[Function: checkAddressChecksum]\u001b[39m,\n",
      "      toChecksumAddress: \u001b[36m[Function: toChecksumAddress]\u001b[39m,\n",
      "      toHex: \u001b[36m[Function: toHex]\u001b[39m,\n",
      "      toBN: \u001b[36m[Function: toBN]\u001b[39m,\n",
      "      bytesToHex: \u001b[36m[Function: bytesToHex]\u001b[39m,\n",
      "      hexToBytes: \u001b[36m[Function: hexToBytes]\u001b[39m,\n",
      "      hexToNumberString: \u001b[36m[Function: hexToNumberString]\u001b[39m,\n",
      "      hexToNumber: \u001b[36m[Function: hexToNumber]\u001b[39m,\n",
      "      toDecimal: \u001b[36m[Function: hexToNumber]\u001b[39m,\n",
      "      numberToHex: \u001b[36m[Function: numberToHex]\u001b[39m,\n",
      "      fromDecimal: \u001b[36m[Function: numberToHex]\u001b[39m,\n",
      "      hexToUtf8: \u001b[36m[Function: hexToUtf8]\u001b[39m,\n",
      "      hexToString: \u001b[36m[Function: hexToUtf8]\u001b[39m,\n",
      "      toUtf8: \u001b[36m[Function: hexToUtf8]\u001b[39m,\n",
      "      utf8ToHex: \u001b[36m[Function: utf8ToHex]\u001b[39m,\n",
      "      stringToHex: \u001b[36m[Function: utf8ToHex]\u001b[39m,\n",
      "      fromUtf8: \u001b[36m[Function: utf8ToHex]\u001b[39m,\n",
      "      hexToAscii: \u001b[36m[Function: hexToAscii]\u001b[39m,\n",
      "      toAscii: \u001b[36m[Function: hexToAscii]\u001b[39m,\n",
      "      asciiToHex: \u001b[36m[Function: asciiToHex]\u001b[39m,\n",
      "      fromAscii: \u001b[36m[Function: asciiToHex]\u001b[39m,\n",
      "      unitMap: \u001b[36m[Object]\u001b[39m,\n",
      "      toWei: \u001b[36m[Function: toWei]\u001b[39m,\n",
      "      fromWei: \u001b[36m[Function: fromWei]\u001b[39m,\n",
      "      padLeft: \u001b[36m[Function: leftPad]\u001b[39m,\n",
      "      leftPad: \u001b[36m[Function: leftPad]\u001b[39m,\n",
      "      padRight: \u001b[36m[Function: rightPad]\u001b[39m,\n",
      "      rightPad: \u001b[36m[Function: rightPad]\u001b[39m,\n",
      "      toTwosComplement: \u001b[36m[Function: toTwosComplement]\u001b[39m,\n",
      "      isBloom: \u001b[36m[Function: isBloom]\u001b[39m,\n",
      "      isUserEthereumAddressInBloom: \u001b[36m[Function: isUserEthereumAddressInBloom]\u001b[39m,\n",
      "      isContractAddressInBloom: \u001b[36m[Function: isContractAddressInBloom]\u001b[39m,\n",
      "      isTopic: \u001b[36m[Function: isTopic]\u001b[39m,\n",
      "      isTopicInBloom: \u001b[36m[Function: isTopicInBloom]\u001b[39m,\n",
      "      isInBloom: \u001b[36m[Function: isInBloom]\u001b[39m\n",
      "    },\n",
      "    Method: \u001b[36m[Function: Method]\u001b[39m\n",
      "  },\n",
      "  clearSubscriptions: \u001b[36m[Function (anonymous)]\u001b[39m,\n",
      "  options: {\n",
      "    address: \u001b[36m[Getter/Setter]\u001b[39m,\n",
      "    jsonInterface: \u001b[36m[Getter/Setter]\u001b[39m,\n",
      "    data: \u001b[90mundefined\u001b[39m,\n",
      "    from: \u001b[90mundefined\u001b[39m,\n",
      "    gasPrice: \u001b[90mundefined\u001b[39m,\n",
      "    gas: \u001b[90mundefined\u001b[39m\n",
      "  },\n",
      "  handleRevert: \u001b[36m[Getter/Setter]\u001b[39m,\n",
      "  defaultCommon: \u001b[36m[Getter/Setter]\u001b[39m,\n",
      "  defaultHardfork: \u001b[36m[Getter/Setter]\u001b[39m,\n",
      "  defaultChain: \u001b[36m[Getter/Setter]\u001b[39m,\n",
      "  transactionPollingTimeout: \u001b[36m[Getter/Setter]\u001b[39m,\n",
      "  transactionConfirmationBlocks: \u001b[36m[Getter/Setter]\u001b[39m,\n",
      "  transactionBlockTimeout: \u001b[36m[Getter/Setter]\u001b[39m,\n",
      "  defaultAccount: \u001b[36m[Getter/Setter]\u001b[39m,\n",
      "  defaultBlock: \u001b[36m[Getter/Setter]\u001b[39m,\n",
      "  methods: {\n",
      "    queryBalance: \u001b[36m[Function: bound _createTxObject]\u001b[39m,\n",
      "    \u001b[32m'0x36f40c61'\u001b[39m: \u001b[36m[Function: bound _createTxObject]\u001b[39m,\n",
      "    \u001b[32m'queryBalance()'\u001b[39m: \u001b[36m[Function: bound _createTxObject]\u001b[39m,\n",
      "    widthdraw: \u001b[36m[Function: bound _createTxObject]\u001b[39m,\n",
      "    \u001b[32m'0x52b50a2a'\u001b[39m: \u001b[36m[Function: bound _createTxObject]\u001b[39m,\n",
      "    \u001b[32m'widthdraw()'\u001b[39m: \u001b[36m[Function: bound _createTxObject]\u001b[39m,\n",
      "    deposit: \u001b[36m[Function: bound _createTxObject]\u001b[39m,\n",
      "    \u001b[32m'0xb6b55f25'\u001b[39m: \u001b[36m[Function: bound _createTxObject]\u001b[39m,\n",
      "    \u001b[32m'deposit(uint256)'\u001b[39m: \u001b[36m[Function: bound _createTxObject]\u001b[39m,\n",
      "    sendTo: \u001b[36m[Function: bound _createTxObject]\u001b[39m,\n",
      "    \u001b[32m'0xe6d25245'\u001b[39m: \u001b[36m[Function: bound _createTxObject]\u001b[39m,\n",
      "    \u001b[32m'sendTo(address)'\u001b[39m: \u001b[36m[Function: bound _createTxObject]\u001b[39m\n",
      "  },\n",
      "  events: {\n",
      "    Sent: \u001b[36m[Function: bound ]\u001b[39m,\n",
      "    \u001b[32m'0x3990db2d31862302a685e8086b5755072a6e2b5b780af1ee81ece35ee3cd3345'\u001b[39m: \u001b[36m[Function: bound ]\u001b[39m,\n",
      "    \u001b[32m'Sent(address,address,uint256)'\u001b[39m: \u001b[36m[Function: bound ]\u001b[39m,\n",
      "    allEvents: \u001b[36m[Function: bound ]\u001b[39m\n",
      "  },\n",
      "  _address: \u001b[32m'0xfBe8337DFDcBF32247b392FA1F13326A09FedCC6'\u001b[39m,\n",
      "  _jsonInterface: [\n",
      "    {\n",
      "      constant: \u001b[33mtrue\u001b[39m,\n",
      "      inputs: [],\n",
      "      name: \u001b[32m'queryBalance'\u001b[39m,\n",
      "      outputs: \u001b[36m[Array]\u001b[39m,\n",
      "      payable: \u001b[33mfalse\u001b[39m,\n",
      "      stateMutability: \u001b[32m'view'\u001b[39m,\n",
      "      type: \u001b[32m'function'\u001b[39m,\n",
      "      signature: \u001b[32m'0x36f40c61'\u001b[39m\n",
      "    },\n",
      "    {\n",
      "      constant: \u001b[33mfalse\u001b[39m,\n",
      "      inputs: [],\n",
      "      name: \u001b[32m'widthdraw'\u001b[39m,\n",
      "      outputs: [],\n",
      "      payable: \u001b[33mfalse\u001b[39m,\n",
      "      stateMutability: \u001b[32m'nonpayable'\u001b[39m,\n",
      "      type: \u001b[32m'function'\u001b[39m,\n",
      "      signature: \u001b[32m'0x52b50a2a'\u001b[39m\n",
      "    },\n",
      "    {\n",
      "      constant: \u001b[33mfalse\u001b[39m,\n",
      "      inputs: \u001b[36m[Array]\u001b[39m,\n",
      "      name: \u001b[32m'deposit'\u001b[39m,\n",
      "      outputs: [],\n",
      "      payable: \u001b[33mtrue\u001b[39m,\n",
      "      stateMutability: \u001b[32m'payable'\u001b[39m,\n",
      "      type: \u001b[32m'function'\u001b[39m,\n",
      "      signature: \u001b[32m'0xb6b55f25'\u001b[39m\n",
      "    },\n",
      "    {\n",
      "      constant: \u001b[33mfalse\u001b[39m,\n",
      "      inputs: \u001b[36m[Array]\u001b[39m,\n",
      "      name: \u001b[32m'sendTo'\u001b[39m,\n",
      "      outputs: [],\n",
      "      payable: \u001b[33mtrue\u001b[39m,\n",
      "      stateMutability: \u001b[32m'payable'\u001b[39m,\n",
      "      type: \u001b[32m'function'\u001b[39m,\n",
      "      signature: \u001b[32m'0xe6d25245'\u001b[39m\n",
      "    },\n",
      "    {\n",
      "      inputs: [],\n",
      "      payable: \u001b[33mfalse\u001b[39m,\n",
      "      stateMutability: \u001b[32m'nonpayable'\u001b[39m,\n",
      "      type: \u001b[32m'constructor'\u001b[39m,\n",
      "      constant: \u001b[90mundefined\u001b[39m,\n",
      "      signature: \u001b[32m'constructor'\u001b[39m\n",
      "    },\n",
      "    {\n",
      "      anonymous: \u001b[33mfalse\u001b[39m,\n",
      "      inputs: \u001b[36m[Array]\u001b[39m,\n",
      "      name: \u001b[32m'Sent'\u001b[39m,\n",
      "      type: \u001b[32m'event'\u001b[39m,\n",
      "      constant: \u001b[90mundefined\u001b[39m,\n",
      "      payable: \u001b[90mundefined\u001b[39m,\n",
      "      signature: \u001b[32m'0x3990db2d31862302a685e8086b5755072a6e2b5b780af1ee81ece35ee3cd3345'\u001b[39m\n",
      "    }\n",
      "  ]\n",
      "}\n"
     ]
    }
   ],
   "source": [
    "!node src/BankV2Deploy.js"
   ]
  },
  {
   "cell_type": "markdown",
   "metadata": {
    "slideshow": {
     "slide_type": "subslide"
    }
   },
   "source": [
    "### 단계 4: 사용\n",
    "\n",
    "인자의 데이터타잎은 ```address```로 선언되어 있다. ```address``` 즉 계정의 주소를 **따옴표 없이 사용**하면 값이 변경되는 것을 보여주고 있다. args출력을 비교해 보면 원래 함수 인자에서 주어진 값과 다르게 변경된 것을 알 수 있다.\n",
    "\n",
    "```python\n",
    "args: \n",
    "   { from: '0x21c704354d07f804bab01894e8b4eb4e0eba7451',\n",
    "     to: '0x778ea91cb0d08927fa4bf3f90a7ccbb700000000',\n",
    "          // 원래 함수 인자와 다름 0x778ea91cb0d0879c22ca20c5aea6fbf8cbeed480\n",
    "     amount: { [String: '555'] s: 1, e: 2, c: [Object] } }\n",
    "```"
   ]
  },
  {
   "cell_type": "code",
   "execution_count": 16,
   "metadata": {
    "collapsed": false
   },
   "outputs": [
    {
     "name": "stdout",
     "output_type": "stream",
     "text": [
      "Writing src/BankV2Use.js\n"
     ]
    }
   ],
   "source": [
    "%%writefile src/BankV2Use__.js\n",
    "var Web3=require('web3');\n",
    "var web3 = new Web3(new Web3.providers.HttpProvider(\"http://117.16.44.45:8445\"));\n",
    "var _abiArray=[{\"constant\":true,\"inputs\":[],\"name\":\"queryBalance\",\"outputs\":[{\"name\":\"\",\"type\":\"uint256\"}],\"payable\":false,\"stateMutability\":\"view\",\"type\":\"function\"},{\"constant\":false,\"inputs\":[],\"name\":\"widthdraw\",\"outputs\":[],\"payable\":false,\"stateMutability\":\"nonpayable\",\"type\":\"function\"},{\"constant\":false,\"inputs\":[{\"name\":\"amount\",\"type\":\"uint256\"}],\"name\":\"deposit\",\"outputs\":[],\"payable\":true,\"stateMutability\":\"payable\",\"type\":\"function\"},{\"constant\":false,\"inputs\":[{\"name\":\"_receiver\",\"type\":\"address\"}],\"name\":\"sendTo\",\"outputs\":[],\"payable\":true,\"stateMutability\":\"payable\",\"type\":\"function\"},{\"inputs\":[],\"payable\":false,\"stateMutability\":\"nonpayable\",\"type\":\"constructor\"},{\"anonymous\":false,\"inputs\":[{\"indexed\":false,\"name\":\"from\",\"type\":\"address\"},{\"indexed\":false,\"name\":\"to\",\"type\":\"address\"},{\"indexed\":false,\"name\":\"amount\",\"type\":\"uint256\"}],\"name\":\"Sent\",\"type\":\"event\"}];\n",
    "var _contract = web3.eth.contract(_abiArray);\n",
    "var bank = _contract.at(\"0xeed4d219cc42d511d17e65fbd3d1b880f62132a8\");\n",
    "var filter = bank.Sent(function (error, result) {\n",
    "  if (!error)\n",
    "    console.log(result);\n",
    "});\n",
    "//console.log(bank.sendTo(0x778ea91cb0d0879c22ca20c5aea6fbf8cbeed480, 100,{from:web3.eth.accounts[0],gas:100000}));\n",
    "console.log(bank.sendTo(0x778ea91cb0d0879c22ca20c5aea6fbf8cbeed480, {from:web3.eth.accounts[0],gas:100000, value:555}));"
   ]
  },
  {
   "cell_type": "code",
   "execution_count": null,
   "metadata": {
    "collapsed": true,
    "slideshow": {
     "slide_type": "subslide"
    }
   },
   "outputs": [],
   "source": [
    "타계정으로 송금을 하고난 후에는 잔고의 변화가 있는지 살펴보자.\n",
    "```python\n",
    "> eth.getBalance(eth.accounts[0]);\n",
    "99988652479999996667\n",
    "> eth.getBalance(eth.accounts[1]);\n",
    "100000000000000000000\n",
    "> eth.getBalance(eth.accounts[0]); //송금 계정의 555 감소\n",
    "99982721379999996112\n",
    "> eth.getBalance(eth.accounts[1]); //수신 계정이 555 증가\n",
    "100000000000000000555\n",
    "```\n",
    "\n",
    "타계정은 따옴표로 문자열로 "
   ]
  },
  {
   "cell_type": "markdown",
   "metadata": {},
   "source": [
    "HttpProvider는 event를 지원하지 않는다. WebsocketProvider"
   ]
  },
  {
   "cell_type": "markdown",
   "metadata": {},
   "source": [
    "컨트랙에 대해 발생한 과거 이벤트를 모두 ```getPastEvents()``` 함수로 알아보자. \n",
    "이벤트가 발생한 블록을 설정할 수 있다. 이 때 범위를 넓게 하면 로그를 찾다가 부하가 발생할 수 있으니 (예를 들어, main net에 최초블록부터 찾으라고 한다면 당연히 부하가 발생할 것이다), 실제 필요한 범위로 좁혀서 설정한다.\n",
    "\n",
    "```python\n",
    "bank.getPastEvents('AllEvents', {\n",
    "    fromBlock: 0,\n",
    "    toBlock: 'latest'\n",
    "    }, function(error, result) {\n",
    "        if (!error) {\n",
    "            console.log(result);\n",
    "        } else {\n",
    "            console.log(error);\n",
    "        }\n",
    "    });\n",
    "```\n",
    "\n",
    "```python\n",
    "bank.getPastEvents('Sent', {\n",
    "    fromBlock: 0,\n",
    "    toBlock: 'latest'\n",
    "    }, function(error, result) {\n",
    "        if (!error) {\n",
    "            console.log(result);\n",
    "        } else {\n",
    "            console.log(error);\n",
    "        }\n",
    "    });\n",
    "```"
   ]
  },
  {
   "cell_type": "markdown",
   "metadata": {},
   "source": [
    "반환은 다음과 같기 때문에, ```result.returnValues.amount```와 같이 인자명에 키를 더해서 그 값을 볼 수 있다.\n",
    "\n",
    "\n",
    "```python\n",
    " {\n",
    "    logIndex: 0,\n",
    "    transactionIndex: 0,\n",
    "    transactionHash: '0xfaac636e8c059c2fa2a4e6378c33c04a4884f73c4a5041a66809a2d90f4feec8',\n",
    "    blockHash: '0x81a5162417a5c1d273764c28340ca77637d97088c79d930f5bdf26fb4d21fbf3',\n",
    "    blockNumber: 23,\n",
    "    address: '0xfBe8337DFDcBF32247b392FA1F13326A09FedCC6',\n",
    "    type: 'mined',\n",
    "    id: 'log_8240e959',\n",
    "    returnValues: Result {\n",
    "      '0': '0xf84B27A6D281Df793C67Dc12A2D69FF003BB5732',\n",
    "      '1': '0x27F9cb3E30ffa2576d2749aa609FC465f6c00cEE',\n",
    "      '2': '555',\n",
    "      from: '0xf84B27A6D281Df793C67Dc12A2D69FF003BB5732',\n",
    "      to: '0x27F9cb3E30ffa2576d2749aa609FC465f6c00cEE',\n",
    "      amount: '555'\n",
    "    },\n",
    "    event: 'Sent',\n",
    "    signature: '0x3990db2d31862302a685e8086b5755072a6e2b5b780af1ee81ece35ee3cd3345',\n",
    "    raw: {\n",
    "      data: '0x000000000000000000000000f84b27a6d281df793c67dc12a2d69ff003bb573200000000000000000000000027f9cb3e30ffa2576d2749aa609fc465f6c00cee000000000000000000000000000000000000000000000000000000000000022b',\n",
    "      topics: [Array]\n",
    "    }\n",
    "  }\n",
    "```"
   ]
  },
  {
   "cell_type": "code",
   "execution_count": 1,
   "metadata": {
    "collapsed": false
   },
   "outputs": [
    {
     "name": "stdout",
     "output_type": "stream",
     "text": [
      "Overwriting src/BankV2Use.js\n"
     ]
    }
   ],
   "source": [
    "%%writefile src/BankV2Use.js\n",
    "var Web3=require('web3');\n",
    "//var web3 = new Web3(new Web3.providers.HttpProvider(\"http://127.0.0.1:8345\"));\n",
    "var web3 = new Web3(new Web3.providers.WebsocketProvider('http://127.0.0.1:8345'));\n",
    "var _abiArray=[{\"constant\":true,\"inputs\":[],\"name\":\"queryBalance\",\"outputs\":[{\"name\":\"\",\"type\":\"uint256\"}],\"payable\":false,\"stateMutability\":\"view\",\"type\":\"function\"},{\"constant\":false,\"inputs\":[],\"name\":\"widthdraw\",\"outputs\":[],\"payable\":false,\"stateMutability\":\"nonpayable\",\"type\":\"function\"},{\"constant\":false,\"inputs\":[{\"name\":\"amount\",\"type\":\"uint256\"}],\"name\":\"deposit\",\"outputs\":[],\"payable\":true,\"stateMutability\":\"payable\",\"type\":\"function\"},{\"constant\":false,\"inputs\":[{\"name\":\"_receiver\",\"type\":\"address\"}],\"name\":\"sendTo\",\"outputs\":[],\"payable\":true,\"stateMutability\":\"payable\",\"type\":\"function\"},{\"inputs\":[],\"payable\":false,\"stateMutability\":\"nonpayable\",\"type\":\"constructor\"},{\"anonymous\":false,\"inputs\":[{\"indexed\":false,\"name\":\"from\",\"type\":\"address\"},{\"indexed\":false,\"name\":\"to\",\"type\":\"address\"},{\"indexed\":false,\"name\":\"amount\",\"type\":\"uint256\"}],\"name\":\"Sent\",\"type\":\"event\"}];\n",
    "var bank = new web3.eth.Contract(_abiArray, '0xfBe8337DFDcBF32247b392FA1F13326A09FedCC6');\n",
    "\n",
    "bank.events.Sent({\n",
    "        fromBlock: 'latest',\n",
    "        toBlock: 'latest'\n",
    "    }, function(error, result) {\n",
    "        if (!error) {\n",
    "            console.log(\">> block num: \"+result.blockNumber + \" to: \" + result.returnValues.to + \" amount: \" + result.returnValues.amount);\n",
    "        } else {\n",
    "            console.log(error);\n",
    "        }\n",
    "    })\n",
    "    .on('data', function(event){\n",
    "        console.log(\"> data\"+event);\n",
    "    })\n",
    "    .on('changed', function(event){\n",
    "        console.log(\"> changed\"+event);\n",
    "    })\n",
    "    .on('error', console.error);\n",
    "\n",
    "\n",
    "bank.methods.sendTo(\"0x27F9cb3E30ffa2576d2749aa609FC465f6c00cEE\").send({from:\"0xf84b27a6d281df793c67dc12a2d69ff003bb5732\",gas:100000,value:555});\n"
   ]
  },
  {
   "cell_type": "code",
   "execution_count": null,
   "metadata": {
    "collapsed": false
   },
   "outputs": [
    {
     "name": "stdout",
     "output_type": "stream",
     "text": [
      ">> block num: 33 to: 0x27F9cb3E30ffa2576d2749aa609FC465f6c00cEE amount: 555\n",
      ">> block num: 34 to: 0x27F9cb3E30ffa2576d2749aa609FC465f6c00cEE amount: 555\n"
     ]
    }
   ],
   "source": [
    "!node src/BankV2Use.js"
   ]
  },
  {
   "cell_type": "code",
   "execution_count": null,
   "metadata": {
    "collapsed": true
   },
   "outputs": [],
   "source": [
    "bank.methods.sendTo(\"0x27F9cb3E30ffa2576d2749aa609FC465f6c00cEE\").send({from:\"0xf84b27a6d281df793c67dc12a2d69ff003bb5732\",gas:100000,value:555}).on('data', function(event) { console.log(event); } ).on('changed', function(event) { console.log(\"---\"+event); })"
   ]
  },
  {
   "cell_type": "code",
   "execution_count": null,
   "metadata": {
    "collapsed": false
   },
   "outputs": [
    {
     "name": "stdout",
     "output_type": "stream",
     "text": [
      "0x6a693f3558f73c8472a84743a5f419f8d9506716ca2aa2a008d7259ef94079c4\n",
      "{ address: '0xeed4d219cc42d511d17e65fbd3d1b880f62132a8',\n",
      "  blockNumber: 263,\n",
      "  transactionHash: '0x6a693f3558f73c8472a84743a5f419f8d9506716ca2aa2a008d7259ef94079c4',\n",
      "  transactionIndex: 0,\n",
      "  blockHash: '0xc83c822d9c9f259aaa746a4f1b871c03352bbf69e649a75fb8591ad73745866a',\n",
      "  logIndex: 0,\n",
      "  removed: false,\n",
      "  event: 'Sent',\n",
      "  args: \n",
      "   { from: '0x21c704354d07f804bab01894e8b4eb4e0eba7451',\n",
      "     to: '0x778ea91cb0d08927fa4bf3f90a7ccbb700000000',\n",
      "     amount: { [String: '555'] s: 1, e: 2, c: [Object] } } }\n"
     ]
    }
   ],
   "source": [
    "!node src/BankV2Use.js"
   ]
  },
  {
   "cell_type": "code",
   "execution_count": null,
   "metadata": {
    "collapsed": true,
    "slideshow": {
     "slide_type": "subslide"
    }
   },
   "outputs": [],
   "source": [
    "%%writefile src/BankV2Use.js\n",
    "var Web3=require('web3');\n",
    "var web3 = new Web3(new Web3.providers.HttpProvider(\"http://117.16.44.45:8445\"));\n",
    "var _abiArray=[{\"constant\":true,\"inputs\":[],\"name\":\"queryBalance\",\"outputs\":[{\"name\":\"\",\"type\":\"uint256\"}],\"payable\":false,\"stateMutability\":\"view\",\"type\":\"function\"},{\"constant\":false,\"inputs\":[],\"name\":\"widthdraw\",\"outputs\":[],\"payable\":false,\"stateMutability\":\"nonpayable\",\"type\":\"function\"},{\"constant\":false,\"inputs\":[{\"name\":\"amount\",\"type\":\"uint256\"}],\"name\":\"deposit\",\"outputs\":[],\"payable\":true,\"stateMutability\":\"payable\",\"type\":\"function\"},{\"constant\":false,\"inputs\":[{\"name\":\"_receiver\",\"type\":\"address\"}],\"name\":\"sendTo\",\"outputs\":[],\"payable\":true,\"stateMutability\":\"payable\",\"type\":\"function\"},{\"inputs\":[],\"payable\":false,\"stateMutability\":\"nonpayable\",\"type\":\"constructor\"},{\"anonymous\":false,\"inputs\":[{\"indexed\":false,\"name\":\"from\",\"type\":\"address\"},{\"indexed\":false,\"name\":\"to\",\"type\":\"address\"},{\"indexed\":false,\"name\":\"amount\",\"type\":\"uint256\"}],\"name\":\"Sent\",\"type\":\"event\"}];\n",
    "var _contract = web3.eth.contract(_abiArray);\n",
    "var bank = _contract.at(\"0xeed4d219cc42d511d17e65fbd3d1b880f62132a8\");\n",
    "var filter = bank.Sent(function (error, result) {\n",
    "  if (!error)\n",
    "    console.log(result);\n",
    "});\n",
    "//console.log(bank.sendTo(0x778ea91cb0d0879c22ca20c5aea6fbf8cbeed480, 100,{from:web3.eth.accounts[0],gas:100000}));\n",
    "console.log(bank.sendTo(\"0x778ea91cb0d0879c22ca20c5aea6fbf8cbeed480\", {from:web3.eth.accounts[0],gas:100000, value:555}));"
   ]
  },
  {
   "cell_type": "code",
   "execution_count": null,
   "metadata": {
    "collapsed": true,
    "slideshow": {
     "slide_type": "subslide"
    }
   },
   "outputs": [],
   "source": [
    "!node src/BankV2Use.js"
   ]
  },
  {
   "cell_type": "markdown",
   "metadata": {
    "collapsed": true,
    "slideshow": {
     "slide_type": "-"
    }
   },
   "source": [
    "0xf7d137adac6cae468b71e9b06741cfec8371f557ef46ce9645dd5c083012237e\n",
    "{ address: '0xeed4d219cc42d511d17e65fbd3d1b880f62132a8',\n",
    "  blockNumber: 45482,\n",
    "  transactionHash: '0xf7d137adac6cae468b71e9b06741cfec8371f557ef46ce9645dd5c083012237e',\n",
    "  transactionIndex: 0,\n",
    "  blockHash: '0x407ba95c4153a62c358dbed72fae83de025b8bd1071a51e20551e7f767824b43',\n",
    "  logIndex: 0,\n",
    "  removed: false,\n",
    "  event: 'Sent',\n",
    "  args: \n",
    "   { from: '0x21c704354d07f804bab01894e8b4eb4e0eba7451',\n",
    "     to: '0x778ea91cb0d0879c22ca20c5aea6fbf8cbeed480',\n",
    "     amount: { [String: '555'] s: 1, e: 2, c: [Object] } } }"
   ]
  },
  {
   "cell_type": "markdown",
   "metadata": {
    "collapsed": true,
    "slideshow": {
     "slide_type": "subslide"
    }
   },
   "source": [
    "받는 주소를 account[1]로 했더니 올바르게 \n",
    "```python\n",
    "> eth.getBalance(eth.accounts[1]);\n",
    "0   <--- 이전 잔고\n",
    "> eth.pendingTransactions\n",
    "[{\n",
    "    blockHash: null,\n",
    "    blockNumber: null,\n",
    "    from: \"0x21c704354d07f804bab01894e8b4eb4e0eba7451\",\n",
    "    gas: 100000,\n",
    "    gasPrice: 500000000000,\n",
    "    hash: \"0xa4c9e98767fbe60a0722b3d31647ca351d56ef7a960f00d20edbc6e26a98c94f\",\n",
    "    input: \"0x3e58c58c000000000000000000000000778ea91cb0d0879c22ca20c5aea6fbf8cbeed480\",\n",
    "    nonce: 32,\n",
    "    r: \"0x733d32c710bc4d4944da811daa0d639b3a0241cd3994039600c73d69f247a6d\",\n",
    "    s: \"0x78476837a95b30c7991af36c32eccbe4ee4f375349adb012db3c8f0c919a0213\",\n",
    "    to: \"0x53fd2f60c463f19c8c7bcdb5e699cac94b8300b2\",\n",
    "    transactionIndex: 0,\n",
    "    v: \"0x66\",\n",
    "    value: 555 <--- 전송될 금액\n",
    "}]\n",
    "> miner.start(1);admin.sleepBlocks(1);miner.stop();\n",
    "null\n",
    "> eth.getBalance(eth.accounts[1]);\n",
    "555 <--- 이후 잔고\n",
    "```"
   ]
  },
  {
   "cell_type": "code",
   "execution_count": null,
   "metadata": {
    "collapsed": true,
    "slideshow": {
     "slide_type": "subslide"
    }
   },
   "outputs": [],
   "source": [
    "%%writefile src/BankV2Use.js\n",
    "var Web3=require('web3');\n",
    "var web3 = new Web3(new Web3.providers.HttpProvider(\"http://117.16.44.45:8445\"));\n",
    "var _abiArray=[{\"constant\":false,\"inputs\":[{\"name\":\"_receiver\",\"type\":\"address\"}],\"name\":\"send\",\"outputs\":[],\"payable\":true,\"stateMutability\":\"payable\",\"type\":\"function\"},{\"inputs\":[],\"payable\":false,\"stateMutability\":\"nonpayable\",\"type\":\"constructor\"},{\"anonymous\":false,\"inputs\":[{\"indexed\":false,\"name\":\"from\",\"type\":\"address\"},{\"indexed\":false,\"name\":\"to\",\"type\":\"address\"},{\"indexed\":false,\"name\":\"amount\",\"type\":\"uint256\"}],\"name\":\"Sent\",\"type\":\"event\"}];\n",
    "var _contract = web3.eth.contract(_abiArray);\n",
    "var sendTest = _contract.at(\"0x53fd2f60c463f19c8c7bcdb5e699cac94b8300b2\");\n",
    "var filter = sendTest.Sent(function (error, result) {\n",
    "  if (!error)\n",
    "    console.log(result);\n",
    "});\n",
    "//console.log(sendTest.send(0x778ea91cb0d0879c22ca20c5aea6fbf8cbeed480, 100,{from:web3.eth.accounts[0],gas:100000}));\n",
    "//console.log(sendTest.send(0x778ea91cb0d0879c22ca20c5aea6fbf8cbeed480, {from:web3.eth.accounts[0],gas:100000, value:555}));\n",
    "console.log(sendTest.send(web3.eth.accounts[1], {from:web3.eth.accounts[0],gas:100000, value:555}));"
   ]
  },
  {
   "cell_type": "code",
   "execution_count": 1,
   "metadata": {
    "collapsed": false,
    "slideshow": {
     "slide_type": "subslide"
    }
   },
   "outputs": [
    {
     "name": "stdout",
     "output_type": "stream",
     "text": [
      "Overwriting src/SendTest.sol\n"
     ]
    }
   ],
   "source": [
    "!node src/BankV2Use.js"
   ]
  },
  {
   "cell_type": "code",
   "execution_count": null,
   "metadata": {
    "collapsed": true
   },
   "outputs": [],
   "source": []
  }
 ],
 "metadata": {
  "kernelspec": {
   "display_name": "Python 3",
   "language": "python",
   "name": "python3"
  },
  "language_info": {
   "codemirror_mode": {
    "name": "ipython",
    "version": 3
   },
   "file_extension": ".py",
   "mimetype": "text/x-python",
   "name": "python",
   "nbconvert_exporter": "python",
   "pygments_lexer": "ipython3",
   "version": "3.6.9"
  }
 },
 "nbformat": 4,
 "nbformat_minor": 1
}
